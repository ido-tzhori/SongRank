{
 "cells": [
  {
   "cell_type": "code",
   "execution_count": 38,
   "metadata": {
    "tags": []
   },
   "outputs": [],
   "source": [
    "import json\n",
    "import pandas as pd\n",
    "import numpy as np\n",
    "import os\n",
    "import seaborn as sns\n",
    "import re\n",
    "from collections import *\n",
    "from tqdm import tqdm\n",
    "import matplotlib.pyplot as plt\n",
    "import plotly.express as px\n",
    "from scipy.sparse import lil_matrix"
   ]
  },
  {
   "cell_type": "code",
   "execution_count": 54,
   "metadata": {
    "tags": []
   },
   "outputs": [],
   "source": [
    "directory_path = 'data/raw'\n",
    "filenames = sorted(os.listdir(directory_path))"
   ]
  },
  {
   "cell_type": "code",
   "execution_count": 55,
   "metadata": {
    "tags": []
   },
   "outputs": [],
   "source": [
    "# looking at only the first 10,000 playlists\n",
    "fullpaths = [directory_path + '/' + f for f in filenames][0:1]"
   ]
  },
  {
   "cell_type": "code",
   "execution_count": 56,
   "metadata": {
    "tags": []
   },
   "outputs": [
    {
     "data": {
      "text/plain": [
       "['data/raw/mpd.slice.100000-100999.json']"
      ]
     },
     "execution_count": 56,
     "metadata": {},
     "output_type": "execute_result"
    }
   ],
   "source": [
    "fullpaths"
   ]
  },
  {
   "cell_type": "code",
   "execution_count": 57,
   "metadata": {
    "tags": []
   },
   "outputs": [],
   "source": [
    "# ratios = []\n",
    "# for playlist in playlists_data:\n",
    "#     r = playlist['num_albums']/playlist['num_tracks']\n",
    "#     ratios.append(r)\n",
    "# sns.histplot(ratios)\n",
    "\n",
    "def normalize_name(name):\n",
    "    name = name.lower()\n",
    "    name = re.sub(r\"[.,\\/#!$%\\^\\*;:{}=\\_`~()@]\", \" \", name)\n",
    "    name = re.sub(r\"\\s+\", \" \", name).strip()\n",
    "    return name"
   ]
  },
  {
   "cell_type": "code",
   "execution_count": 58,
   "metadata": {
    "tags": []
   },
   "outputs": [],
   "source": [
    "min_tracks_per_playlist = 5\n",
    "max_tracks_per_playlist = 150\n",
    "min_albums_per_playlist = 5\n",
    "min_artists_per_playlist = 5"
   ]
  },
  {
   "cell_type": "code",
   "execution_count": 59,
   "metadata": {
    "tags": []
   },
   "outputs": [],
   "source": [
    "song_relationships = {}\n",
    "uri_map = {}\n",
    "\n",
    "for idx, path in enumerate(fullpaths):\n",
    "    if idx % 5 == 0 and idx > 0:\n",
    "        print(f\"Processed {idx-5}-{idx}\")  # Print the range every 5 chunks\n",
    "    f = open(path)\n",
    "    js = f.read()\n",
    "    f.close()\n",
    "    mpd_slice = json.loads(js)\n",
    "    playlists_data = mpd_slice['playlists']\n",
    "\n",
    "    for idx, playlist in enumerate(playlists_data):\n",
    "        if idx % 1000 == 0 and idx > 0:\n",
    "            print(f\"Processed {idx - 1000}-{idx}\")\n",
    "        r = playlist['num_albums'] / playlist['num_tracks']\n",
    "        if r < 0.40:\n",
    "            continue\n",
    "        songs = set(track['track_uri'] for track in playlist['tracks'])\n",
    "        t_per_p = len(songs)\n",
    "        albums = set(track['album_uri'] for track in playlist['tracks'])\n",
    "        alb_per_p = len(albums)\n",
    "        artists = set(track['artist_uri'] for track in playlist['tracks'])\n",
    "        art_per_p = len(artists)\n",
    "\n",
    "        if (min_tracks_per_playlist >= t_per_p) or \\\n",
    "             (t_per_p >= max_tracks_per_playlist) or \\\n",
    "                (min_albums_per_playlist >= alb_per_p) or \\\n",
    "                    (min_artists_per_playlist >= art_per_p):\n",
    "            continue\n",
    "\n",
    "        for song in songs:\n",
    "            if song not in song_relationships:\n",
    "                song_relationships[song] = {}\n",
    "                \n",
    "            for s in songs:\n",
    "                if s != song:  # avoid self-relationship\n",
    "                    if s in song_relationships[song]:\n",
    "                        song_relationships[song][s] += 1\n",
    "                    else:\n",
    "                        song_relationships[song][s] = 1"
   ]
  },
  {
   "cell_type": "code",
   "execution_count": 60,
   "metadata": {
    "tags": []
   },
   "outputs": [],
   "source": [
    "song_data_map = {}\n",
    "for idx, path in enumerate(fullpaths):\n",
    "    if idx % 5 == 0 and idx > 0:\n",
    "        print(f\"Processed {idx-5}-{idx}\")  # Print the range every 5 chunks\n",
    "    f = open(path)\n",
    "    js = f.read()\n",
    "    f.close()\n",
    "    mpd_slice = json.loads(js)\n",
    "    playlists_data = mpd_slice['playlists']\n",
    "    for playlist in playlists_data:\n",
    "        for track in playlist['tracks']:\n",
    "            song_uri = track['track_uri']\n",
    "            song_name = track['track_name']\n",
    "            album_name = track['album_name']\n",
    "            song_data_map[song_uri] = {'song_name': song_name, 'album_name': album_name}\n"
   ]
  },
  {
   "cell_type": "code",
   "execution_count": 61,
   "metadata": {
    "tags": []
   },
   "outputs": [
    {
     "name": "stdout",
     "output_type": "stream",
     "text": [
      "23834\n"
     ]
    }
   ],
   "source": [
    "print(len(song_relationships))"
   ]
  },
  {
   "cell_type": "code",
   "execution_count": 62,
   "metadata": {
    "tags": []
   },
   "outputs": [
    {
     "name": "stderr",
     "output_type": "stream",
     "text": [
      "100%|██████████| 23834/23834 [00:00<00:00, 39134.45it/s]\n"
     ]
    }
   ],
   "source": [
    "song_relationships_sorted = {song: sorted(relations.items(), key=lambda x: x[1], reverse=True)\n",
    "                             for song, relations in tqdm(song_relationships.items())}\n"
   ]
  },
  {
   "cell_type": "code",
   "execution_count": 63,
   "metadata": {
    "tags": []
   },
   "outputs": [
    {
     "data": {
      "text/plain": [
       "23834"
      ]
     },
     "execution_count": 63,
     "metadata": {},
     "output_type": "execute_result"
    }
   ],
   "source": [
    "len(song_relationships_sorted)"
   ]
  },
  {
   "cell_type": "code",
   "execution_count": 64,
   "metadata": {
    "tags": []
   },
   "outputs": [
    {
     "name": "stdout",
     "output_type": "stream",
     "text": [
      "{'song_name': 'Battle Cry (feat. Just Blaze)', 'album_name': 'Free Agent'} spotify:track:6vysopGjRMUsSneiVZJZUw\n"
     ]
    },
    {
     "data": {
      "text/plain": [
       "[('spotify:track:5C82dqoMqAibC8UBAi9Arf', 1),\n",
       " ('spotify:track:6mqmYfy7i8rBqgs3e2J0d4', 1),\n",
       " ('spotify:track:2bPmZjE90uoQgA9GkuwAQ1', 1),\n",
       " ('spotify:track:5tZmLjU4vhPlJb12IweZuB', 1),\n",
       " ('spotify:track:2K6FYgz38Kzih6BGJzfD0H', 1)]"
      ]
     },
     "execution_count": 64,
     "metadata": {},
     "output_type": "execute_result"
    }
   ],
   "source": [
    "track_uri = list(song_relationships_sorted.keys())[5000]\n",
    "print(song_data_map[track_uri], track_uri)\n",
    "song_relationships_sorted[track_uri][0:5]"
   ]
  },
  {
   "cell_type": "code",
   "execution_count": 65,
   "metadata": {
    "tags": []
   },
   "outputs": [
    {
     "name": "stdout",
     "output_type": "stream",
     "text": [
      "Song with the most connections: {'song_name': 'Mr. Brightside', 'album_name': 'Hot Fuss'}\n",
      "Number of connections: 1923\n"
     ]
    }
   ],
   "source": [
    "max_connections = 0\n",
    "song_with_most_connections = None\n",
    "\n",
    "for song, connections in song_relationships.items():\n",
    "    num_connections = len(connections)\n",
    "    if num_connections > max_connections:\n",
    "        max_connections = num_connections\n",
    "        song_with_most_connections = song\n",
    "\n",
    "print(\"Song with the most connections:\", song_data_map[song_with_most_connections])\n",
    "print(\"Number of connections:\", max_connections)\n"
   ]
  },
  {
   "cell_type": "code",
   "execution_count": 66,
   "metadata": {
    "tags": []
   },
   "outputs": [],
   "source": [
    "song_indices = {song_uri: idx for idx, song_uri in enumerate(song_relationships_sorted.keys())}"
   ]
  },
  {
   "cell_type": "code",
   "execution_count": null,
   "metadata": {
    "tags": []
   },
   "outputs": [
    {
     "name": "stderr",
     "output_type": "stream",
     "text": [
      " 67%|██████▋   | 16041/23834 [00:06<00:01, 3928.31it/s]"
     ]
    }
   ],
   "source": [
    "num_songs = len(song_relationships_sorted)\n",
    "transition_matrix = lil_matrix((num_songs, num_songs), dtype=np.float64)\n",
    "\n",
    "for song_uri, relationships in tqdm(song_relationships_sorted.items()):\n",
    "    row_idx = song_indices[song_uri]\n",
    "    sum_connections = np.sum([x[1] for x in relationships])\n",
    "    for related_song_uri, count in relationships:\n",
    "        col_idx = song_indices[related_song_uri]\n",
    "        transition_matrix[row_idx, col_idx] = count / sum_connections"
   ]
  },
  {
   "cell_type": "code",
   "execution_count": 41,
   "metadata": {
    "tags": []
   },
   "outputs": [
    {
     "name": "stderr",
     "output_type": "stream",
     "text": [
      "\n",
      "KeyboardInterrupt\n",
      "\n"
     ]
    }
   ],
   "source": [
    "n = 30\n",
    "\n",
    "popularity = np.sum(transition_matrix, axis=0)\n",
    "top_n_indices = np.argsort(popularity)[-n:]\n",
    "\n",
    "init = np.random.rand(1, num_songs)\n",
    "init = init / np.sum(init)\n",
    "probs = [init]\n",
    "p = init\n",
    "for i in range(20):\n",
    "    p = np.dot(p, transition_matrix)\n",
    "    probs.append(p)\n",
    "\n",
    "plot_data = []\n",
    "for i in top_n_indices:\n",
    "    song_name = song_data_map[list(song_relationships)[i]][\"song_name\"]\n",
    "    for step_num, step in enumerate(probs):\n",
    "        plot_data.append({'Iteration': step_num, 'Probability': step[0, i], 'Song': song_name})\n",
    "\n",
    "df = pd.DataFrame(plot_data)\n",
    "fig = px.line(df, x='Iteration', y='Probability', color='Song', title='Convergence of Most Popular Songs')\n",
    "fig.show()"
   ]
  }
 ],
 "metadata": {
  "kernelspec": {
   "display_name": "Python 3 (ipykernel)",
   "language": "python",
   "name": "python3"
  },
  "language_info": {
   "codemirror_mode": {
    "name": "ipython",
    "version": 3
   },
   "file_extension": ".py",
   "mimetype": "text/x-python",
   "name": "python",
   "nbconvert_exporter": "python",
   "pygments_lexer": "ipython3",
   "version": "3.11.4"
  }
 },
 "nbformat": 4,
 "nbformat_minor": 4
}
