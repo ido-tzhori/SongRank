{
 "cells": [
  {
   "cell_type": "code",
   "execution_count": null,
   "metadata": {},
   "outputs": [],
   "source": [
    "import sqlite3\n",
    "import pandas as pd\n"
   ]
  },
  {
   "cell_type": "code",
   "execution_count": null,
   "metadata": {},
   "outputs": [],
   "source": [
    "query = \"\"\"\n",
    "    WITH ArtistGenres AS (\n",
    "        SELECT \n",
    "            ag.artist_id,\n",
    "            GROUP_CONCAT(ag.genre_id, ',') AS genres\n",
    "        FROM \n",
    "            r_artist_genre ag\n",
    "        GROUP BY \n",
    "            ag.artist_id\n",
    "    ),\n",
    "\n",
    "    NumberedArtists AS (\n",
    "        SELECT \n",
    "            track_id,\n",
    "            artist_id,\n",
    "            ROW_NUMBER() OVER (PARTITION BY track_id) AS rn\n",
    "        FROM r_track_artist\n",
    "    )\n",
    "    \n",
    "SELECT \n",
    "    t.id, \n",
    "    a.artist_id, \n",
    "    ag.genres,\n",
    "    t.duration, \n",
    "    t.popularity, \n",
    "    af.acousticness, \n",
    "    af.danceability, \n",
    "    af.energy, \n",
    "    af.instrumentalness, \n",
    "    af.key,\n",
    "    af.liveness, \n",
    "    af.loudness, \n",
    "    af.speechiness, \n",
    "    af.tempo, \n",
    "    af.time_signature, \n",
    "    af.valence\n",
    "FROM \n",
    "    tracks t\n",
    "LEFT JOIN \n",
    "    audio_features af\n",
    "ON \n",
    "    t.audio_feature_id = af.id\n",
    "LEFT JOIN \n",
    "    NumberedArtists a\n",
    "ON \n",
    "    t.id = a.track_id\n",
    "LEFT JOIN \n",
    "    ArtistGenres ag\n",
    "ON \n",
    "    a.artist_id = ag.artist_id\n",
    "where a.rn = 1\n",
    "\"\"\"\n",
    "# LIMIT 500;"
   ]
  },
  {
   "cell_type": "code",
   "execution_count": null,
   "metadata": {},
   "outputs": [],
   "source": [
    "conn = sqlite3.connect('/Users/idotzhori/Downloads/spotify.sqlite')\n",
    "conn.text_factory = lambda b: b.decode(errors='ignore')\n",
    "df = pd.read_sql_query(query, conn)\n",
    "\n",
    "conn.close()\n",
    "df.tail(50)"
   ]
  },
  {
   "cell_type": "code",
   "execution_count": null,
   "metadata": {},
   "outputs": [],
   "source": [
    "df.to_parquet('track_info.parquet')"
   ]
  },
  {
   "cell_type": "code",
   "execution_count": null,
   "metadata": {},
   "outputs": [],
   "source": [
    "conn = sqlite3.connect('/Users/idotzhori/Downloads/spotify.sqlite')\n",
    "cursor = conn.cursor()\n",
    "\n",
    "cursor.execute(\"SELECT name FROM sqlite_master WHERE type='table';\")\n",
    "tables = cursor.fetchall()\n",
    "\n",
    "table_columns_dict = {}\n",
    "\n",
    "for table_name in tables:\n",
    "    table_name = table_name[0]\n",
    "    cursor.execute(f\"PRAGMA table_info({table_name});\")\n",
    "    columns = [column[1] for column in cursor.fetchall()]\n",
    "    table_columns_dict[table_name] = columns\n",
    "\n",
    "cursor.close()\n",
    "conn.close()\n",
    "\n",
    "for table, columns in table_columns_dict.items():\n",
    "    print(f\"{table}: {', '.join(columns)}\")\n"
   ]
  },
  {
   "cell_type": "code",
   "execution_count": null,
   "metadata": {},
   "outputs": [],
   "source": []
  },
  {
   "cell_type": "code",
   "execution_count": null,
   "metadata": {},
   "outputs": [],
   "source": [
    "select t.id, a.artist, ag.genre t.duration, t.audio_feature_id, t.popularity, af.acousticness, af.danceability, af.energy, af.instrumentalness, af.key,\n",
    "af.liveness, af.loudness, af.speechiness, af.tempo, af.time_signature, af.valence\n",
    "from tracks t\n",
    "left join audio_features af\n",
    "on t.audio_feature_id = af.id\n",
    "left join r_track_artists a\n",
    "on t.id = a.track_id\n",
    "left join r_artist_genre ag\n",
    "on a.artist_id = r_artist_genre.artist_id\n"
   ]
  },
  {
   "cell_type": "code",
   "execution_count": null,
   "metadata": {},
   "outputs": [],
   "source": []
  }
 ],
 "metadata": {
  "kernelspec": {
   "display_name": "base",
   "language": "python",
   "name": "python3"
  },
  "language_info": {
   "codemirror_mode": {
    "name": "ipython",
    "version": 3
   },
   "file_extension": ".py",
   "mimetype": "text/x-python",
   "name": "python",
   "nbconvert_exporter": "python",
   "pygments_lexer": "ipython3",
   "version": "3.9.13"
  },
  "orig_nbformat": 4
 },
 "nbformat": 4,
 "nbformat_minor": 2
}
