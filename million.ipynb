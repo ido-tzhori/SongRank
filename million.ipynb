{
 "cells": [
  {
   "cell_type": "code",
   "execution_count": 7,
   "metadata": {
    "tags": []
   },
   "outputs": [],
   "source": [
    "import json\n",
    "import pandas as pd\n",
    "import numpy as np\n",
    "import os\n",
    "import seaborn as sns\n",
    "import re\n",
    "from collections import *\n",
    "from tqdm import tqdm\n",
    "import matplotlib.pyplot as plt\n",
    "import plotly.express as px\n",
    "from scipy.sparse import lil_matrix, csr_matrix, eye\n",
    "import time\n",
    "import random\n",
    "from numpy.linalg import matrix_power"
   ]
  },
  {
   "cell_type": "code",
   "execution_count": 8,
   "metadata": {
    "tags": []
   },
   "outputs": [
    {
     "name": "stdout",
     "output_type": "stream",
     "text": [
      "1000000 playlists\n"
     ]
    }
   ],
   "source": [
    "directory_path = 'data/raw'\n",
    "filenames = sorted(os.listdir(directory_path))\n",
    "print(f\"{len(filenames) * 1000} playlists\")"
   ]
  },
  {
   "cell_type": "code",
   "execution_count": 9,
   "metadata": {
    "tags": []
   },
   "outputs": [],
   "source": [
    "# looking at only the first 30,000 playlists\n",
    "fullpaths = [directory_path + '/' + f for f in filenames][0:30]"
   ]
  },
  {
   "cell_type": "code",
   "execution_count": 4,
   "metadata": {
    "tags": []
   },
   "outputs": [],
   "source": [
    "# ratios = []\n",
    "# for playlist in playlists_data:\n",
    "#     r = playlist['num_albums']/playlist['num_tracks']\n",
    "#     ratios.append(r)\n",
    "# sns.histplot(ratios)\n",
    "\n",
    "def normalize_name(name):\n",
    "    name = name.lower()\n",
    "    name = re.sub(r\"[.,\\/#!$%\\^\\*;:{}=\\_`~()@]\", \" \", name)\n",
    "    name = re.sub(r\"\\s+\", \" \", name).strip()\n",
    "    return name"
   ]
  },
  {
   "cell_type": "code",
   "execution_count": 11,
   "metadata": {
    "tags": []
   },
   "outputs": [],
   "source": [
    "min_tracks_per_playlist = 5\n",
    "max_tracks_per_playlist = 150\n",
    "min_albums_per_playlist = 2\n",
    "min_artists_per_playlist = 2"
   ]
  },
  {
   "cell_type": "code",
   "execution_count": 12,
   "metadata": {
    "tags": []
   },
   "outputs": [
    {
     "name": "stdout",
     "output_type": "stream",
     "text": [
      "processed 0-5 - time taken 6.13\n",
      "processed 5-10 - time taken 6.36\n",
      "processed 10-15 - time taken 6.98\n",
      "processed 15-20 - time taken 6.95\n",
      "processed 20-25 - time taken 7.43\n",
      "Number of songs processed: 273051\n"
     ]
    }
   ],
   "source": [
    "song_relationships = {}\n",
    "\n",
    "t = 0\n",
    "iteration_times = []\n",
    "\n",
    "for idx, path in enumerate(fullpaths):\n",
    "    start_time = time.time()\n",
    "    if idx % 5 == 0 and idx > 0:\n",
    "        print(f\"processed {idx-5}-{idx} - time taken {t:.2f}\")\n",
    "        iteration_times.append(t)\n",
    "        t = 0\n",
    "    with open(path) as f:\n",
    "        mpd_slice = json.load(f)\n",
    "    playlists_data = mpd_slice['playlists']\n",
    "\n",
    "    for idx, playlist in enumerate(playlists_data):\n",
    "        r = playlist['num_albums'] / playlist['num_tracks']\n",
    "        if r < 0.0:\n",
    "            continue\n",
    "        songs = set(track['track_uri'] for track in playlist['tracks'])\n",
    "        t_per_p = len(songs)\n",
    "        albums = set(track['album_uri'] for track in playlist['tracks'])\n",
    "        alb_per_p = len(albums)\n",
    "        artists = set(track['artist_uri'] for track in playlist['tracks'])\n",
    "        art_per_p = len(artists)\n",
    "\n",
    "        if (min_tracks_per_playlist >= t_per_p) or \\\n",
    "             (t_per_p >= max_tracks_per_playlist) or \\\n",
    "                (min_albums_per_playlist >= alb_per_p) or \\\n",
    "                    (min_artists_per_playlist >= art_per_p):\n",
    "            continue\n",
    "\n",
    "        for song in songs:\n",
    "            if song not in song_relationships:\n",
    "                song_relationships[song] = {}\n",
    "                \n",
    "            for related_song in songs:\n",
    "                if related_song != song:  # avoid self-relationship\n",
    "                    if related_song in song_relationships[song]:\n",
    "                        song_relationships[song][related_song] += 1\n",
    "                    else:\n",
    "                        song_relationships[song][related_song] = 1\n",
    "    end_time = time.time()\n",
    "    t += end_time - start_time\n",
    "\n",
    "print(f'Number of songs processed: {len(song_relationships)}')\n"
   ]
  },
  {
   "cell_type": "code",
   "execution_count": 13,
   "metadata": {
    "tags": []
   },
   "outputs": [
    {
     "name": "stdout",
     "output_type": "stream",
     "text": [
      "Processed 0-5\n",
      "Processed 5-10\n",
      "Processed 10-15\n",
      "Processed 15-20\n",
      "Processed 20-25\n"
     ]
    }
   ],
   "source": [
    "song_data_map = {}\n",
    "for idx, path in enumerate(fullpaths):\n",
    "    if idx % 5 == 0 and idx > 0:\n",
    "        print(f\"Processed {idx-5}-{idx}\")\n",
    "    with open(path) as f:\n",
    "        mpd_slice = json.load(f)\n",
    "    playlists_data = mpd_slice['playlists']\n",
    "    for playlist in playlists_data:\n",
    "        for track in playlist['tracks']:\n",
    "            song_uri = track['track_uri']\n",
    "            song_name = track['track_name']\n",
    "            album_name = track['album_name']\n",
    "            artist_name = track['artist_name']\n",
    "            if song_uri in song_relationships:\n",
    "                song_data_map[song_uri] = {'song_name': song_name, 'album_name': album_name, 'artist_name': artist_name}\n"
   ]
  },
  {
   "cell_type": "code",
   "execution_count": null,
   "metadata": {
    "tags": []
   },
   "outputs": [],
   "source": [
    "# song_relationships_sorted = {song: sorted(relations.items(), key=lambda x: x[1], reverse=True)\n",
    "#                              for song, relations in tqdm(song_relationships.items())}\n"
   ]
  },
  {
   "cell_type": "code",
   "execution_count": 14,
   "metadata": {
    "tags": []
   },
   "outputs": [
    {
     "name": "stderr",
     "output_type": "stream",
     "text": [
      "100%|██████████| 273051/273051 [00:33<00:00, 8224.51it/s] \n"
     ]
    }
   ],
   "source": [
    "song_relationships = {key: list(value.items()) for key, value in tqdm(song_relationships.items())}"
   ]
  },
  {
   "cell_type": "code",
   "execution_count": 15,
   "metadata": {
    "tags": []
   },
   "outputs": [
    {
     "name": "stdout",
     "output_type": "stream",
     "text": [
      "Song with the most connections: {'song_name': 'Closer', 'album_name': 'Closer', 'artist_name': 'The Chainsmokers'}\n",
      "Number of connections: 18765\n"
     ]
    }
   ],
   "source": [
    "max_connections = 0\n",
    "song_with_most_connections = None\n",
    "\n",
    "for song, connections in song_relationships.items():\n",
    "    num_connections = len(connections)\n",
    "    if num_connections > max_connections:\n",
    "        max_connections = num_connections\n",
    "        song_with_most_connections = song\n",
    "\n",
    "print(\"Song with the most connections:\", song_data_map[song_with_most_connections])\n",
    "print(\"Number of connections:\", max_connections)\n"
   ]
  },
  {
   "cell_type": "code",
   "execution_count": 16,
   "metadata": {
    "tags": []
   },
   "outputs": [
    {
     "name": "stdout",
     "output_type": "stream",
     "text": [
      "Processed 30000 rows.....\n",
      "Processed 60000 rows.....\n",
      "Processed 90000 rows.....\n",
      "Processed 120000 rows.....\n",
      "Processed 150000 rows.....\n",
      "Processed 180000 rows.....\n",
      "Processed 210000 rows.....\n",
      "Processed 240000 rows.....\n",
      "Processed 270000 rows.....\n"
     ]
    }
   ],
   "source": [
    "song_indices = {song_uri: idx for idx, song_uri in enumerate(song_relationships.keys())}\n",
    "num_songs = len(song_relationships)\n",
    "\n",
    "row_indices = []\n",
    "col_indices = []\n",
    "data_sum = []\n",
    "data = []\n",
    "\n",
    "for idx, (song_uri, relationships) in enumerate(song_relationships.items()):\n",
    "    row_idx = song_indices[song_uri]\n",
    "    sum_connections = np.sum([x[1] for x in relationships])\n",
    "    for related_song_uri, count in relationships:\n",
    "        col_idx = song_indices[related_song_uri]\n",
    "        row_indices.append(row_idx)\n",
    "        col_indices.append(col_idx)\n",
    "        data_sum.append(count / sum_connections)\n",
    "        data.append(count)\n",
    "\n",
    "    if idx % 30000 == 0 and idx > 0:\n",
    "        print(f\"Processed {idx} rows.....\")\n",
    "\n",
    "transition_matrix_sum = csr_matrix((data_sum, (row_indices, col_indices)), shape=(num_songs, num_songs), dtype=np.float64)\n",
    "transition_matrix = csr_matrix((data, (row_indices, col_indices)), shape=(num_songs, num_songs), dtype=np.float64)\n"
   ]
  },
  {
   "cell_type": "code",
   "execution_count": 40,
   "metadata": {
    "tags": []
   },
   "outputs": [
    {
     "name": "stderr",
     "output_type": "stream",
     "text": [
      "100%|██████████| 30/30 [00:07<00:00,  3.96it/s]\n"
     ]
    },
    {
     "data": {
      "application/vnd.plotly.v1+json": {
       "config": {
        "plotlyServerURL": "https://plot.ly"
       },
       "data": [
        {
         "hovertemplate": "Song=Despacito - Remix<br>Iteration=%{x}<br>Probability=%{y}<extra></extra>",
         "legendgroup": "Despacito - Remix",
         "line": {
          "color": "#636efa",
          "dash": "solid"
         },
         "marker": {
          "symbol": "circle"
         },
         "mode": "lines",
         "name": "Despacito - Remix",
         "orientation": "v",
         "showlegend": true,
         "type": "scatter",
         "x": [
          0,
          1,
          2,
          3,
          4,
          5,
          6,
          7,
          8,
          9,
          10,
          11,
          12,
          13,
          14,
          15,
          16,
          17,
          18,
          19,
          20,
          21,
          22,
          23,
          24,
          25,
          26,
          27,
          28,
          29,
          30
         ],
         "xaxis": "x",
         "y": [
          0.000006763195520123467,
          0.00017709908886877395,
          0.00022340957815395618,
          0.0002471950838618377,
          0.00026047448129619725,
          0.00026850994067052975,
          0.00027361695356847664,
          0.0002769723777745675,
          0.0002792312158963649,
          0.00028078117888958784,
          0.0002818617337263708,
          0.0002826254257642522,
          0.00028317176195450224,
          0.0002835669074933052,
          0.00028385557337251696,
          0.00028406840008639094,
          0.0002842266500888798,
          0.00028434524684195636,
          0.0002844347749783859,
          0.0002845028153445622,
          0.0002845548473241821,
          0.0002845948656581722,
          0.00028462580652077957,
          0.00028464984471107744,
          0.0002846686028499496,
          0.0002846832999189034,
          0.0002846948576057704,
          0.0002847039770493845,
          0.0002847111946469924,
          0.0002847169229361464,
          0.00028472148075530486
         ],
         "yaxis": "y"
        },
        {
         "hovertemplate": "Song=Redbone<br>Iteration=%{x}<br>Probability=%{y}<extra></extra>",
         "legendgroup": "Redbone",
         "line": {
          "color": "#EF553B",
          "dash": "solid"
         },
         "marker": {
          "symbol": "circle"
         },
         "mode": "lines",
         "name": "Redbone",
         "orientation": "v",
         "showlegend": true,
         "type": "scatter",
         "x": [
          0,
          1,
          2,
          3,
          4,
          5,
          6,
          7,
          8,
          9,
          10,
          11,
          12,
          13,
          14,
          15,
          16,
          17,
          18,
          19,
          20,
          21,
          22,
          23,
          24,
          25,
          26,
          27,
          28,
          29,
          30
         ],
         "xaxis": "x",
         "y": [
          0.000006453552411560802,
          0.0001748118013740138,
          0.00021068195132523443,
          0.0002270314905288775,
          0.00023627404651761972,
          0.00024225119695214532,
          0.00024635676987225426,
          0.0002492550691791769,
          0.0002513301647322434,
          0.00025282920035217397,
          0.0002539196645135295,
          0.000254717897041308,
          0.00025530574648272215,
          0.00025574124833397033,
          0.00025606579783322384,
          0.00025630907825311626,
          0.00025649248586095215,
          0.00025663152578456,
          0.00025673749579027943,
          0.00025681867439371375,
          0.0002568811625652173,
          0.00025692948252510313,
          0.0002569670056326261,
          0.00025699625960231545,
          0.0002570191501877283,
          0.0002570371219865915,
          0.00025705127572019863,
          0.0002570624542446567,
          0.00025707130598652116,
          0.000257078331993279,
          0.00025708392102725204
         ],
         "yaxis": "y"
        },
        {
         "hovertemplate": "Song=Location<br>Iteration=%{x}<br>Probability=%{y}<extra></extra>",
         "legendgroup": "Location",
         "line": {
          "color": "#00cc96",
          "dash": "solid"
         },
         "marker": {
          "symbol": "circle"
         },
         "mode": "lines",
         "name": "Location",
         "orientation": "v",
         "showlegend": true,
         "type": "scatter",
         "x": [
          0,
          1,
          2,
          3,
          4,
          5,
          6,
          7,
          8,
          9,
          10,
          11,
          12,
          13,
          14,
          15,
          16,
          17,
          18,
          19,
          20,
          21,
          22,
          23,
          24,
          25,
          26,
          27,
          28,
          29,
          30
         ],
         "xaxis": "x",
         "y": [
          0.000001900027567443103,
          0.00017742195393236532,
          0.00022902226567889867,
          0.00025340721177533694,
          0.00026738167609474694,
          0.0002762621306639345,
          0.0002822120648552053,
          0.00028631402886026625,
          0.0002891918137831002,
          0.00029123581195808425,
          0.00029270195370671693,
          0.0002937626335508351,
          0.0002945360050673917,
          0.000295104051758172,
          0.00029552421704622856,
          0.0002958370884295293,
          0.0002960715631389056,
          0.00029624836387891695,
          0.00029638245471504663,
          0.0002964847146145395,
          0.0002965631051118035,
          0.00029662349049056015,
          0.0002966702176057974,
          0.0002967065283691386,
          0.0002967348550192044,
          0.00029675703279442617,
          0.00029677445405780815,
          0.00029678818067668746,
          0.0002967990264624678,
          0.00029680761801043336,
          0.00029681443986407936
         ],
         "yaxis": "y"
        },
        {
         "hovertemplate": "Song=Lean On (feat. MØ & DJ Snake)<br>Iteration=%{x}<br>Probability=%{y}<extra></extra>",
         "legendgroup": "Lean On (feat. MØ & DJ Snake)",
         "line": {
          "color": "#ab63fa",
          "dash": "solid"
         },
         "marker": {
          "symbol": "circle"
         },
         "mode": "lines",
         "name": "Lean On (feat. MØ & DJ Snake)",
         "orientation": "v",
         "showlegend": true,
         "type": "scatter",
         "x": [
          0,
          1,
          2,
          3,
          4,
          5,
          6,
          7,
          8,
          9,
          10,
          11,
          12,
          13,
          14,
          15,
          16,
          17,
          18,
          19,
          20,
          21,
          22,
          23,
          24,
          25,
          26,
          27,
          28,
          29,
          30
         ],
         "xaxis": "x",
         "y": [
          0.000006900064375222788,
          0.00018313752215623195,
          0.00022167075864055796,
          0.00023701711710384836,
          0.00024474148645761164,
          0.00024920137843369226,
          0.0002520058564901243,
          0.0002538722467560641,
          0.00025516453742942084,
          0.00025608522905385593,
          0.000256755105789813,
          0.0002572502574748674,
          0.0002576207365546391,
          0.00025790060876205176,
          0.00025811368593426634,
          0.000258276963218606,
          0.0002584027710070966,
          0.0002585001727308428,
          0.000258575901114926,
          0.00025863500128847476,
          0.0002586812816666612,
          0.0002587176353478953,
          0.00025874627232703225,
          0.0002587688891492394,
          0.00025878679401788996,
          0.00025880099978842436,
          0.00025881229357027256,
          0.0002588212891403186,
          0.000258828466630061,
          0.00025883420272747554,
          0.0002588387937667719
         ],
         "yaxis": "y"
        },
        {
         "hovertemplate": "Song=Roses<br>Iteration=%{x}<br>Probability=%{y}<extra></extra>",
         "legendgroup": "Roses",
         "line": {
          "color": "#FFA15A",
          "dash": "solid"
         },
         "marker": {
          "symbol": "circle"
         },
         "mode": "lines",
         "name": "Roses",
         "orientation": "v",
         "showlegend": true,
         "type": "scatter",
         "x": [
          0,
          1,
          2,
          3,
          4,
          5,
          6,
          7,
          8,
          9,
          10,
          11,
          12,
          13,
          14,
          15,
          16,
          17,
          18,
          19,
          20,
          21,
          22,
          23,
          24,
          25,
          26,
          27,
          28,
          29,
          30
         ],
         "xaxis": "x",
         "y": [
          0.0000019273727567034713,
          0.00018651439316695248,
          0.00024958314424699266,
          0.00027630083127454686,
          0.0002898831926093135,
          0.00029767167672544283,
          0.0003025095035445565,
          0.00030568205216455766,
          0.0003078437960652589,
          0.0003093586944402501,
          0.0003104430359890543,
          0.00031123207166727676,
          0.00031181380394786626,
          0.00031224731328818444,
          0.00031257326388662665,
          0.0003128202108663718,
          0.00031300853620419176,
          0.0003131529857435094,
          0.0003132643493221005,
          0.00031335059881912786,
          0.00031341767369719045,
          0.00031347003189064,
          0.0003135110413628327,
          0.0003135432616407493,
          0.0003135686482780238,
          0.0003135887026586183,
          0.00031360458261820193,
          0.00031361718471170955,
          0.0003136272057900843,
          0.00031363518936321623,
          0.0003136415606990622
         ],
         "yaxis": "y"
        },
        {
         "hovertemplate": "Song=Thinking Out Loud<br>Iteration=%{x}<br>Probability=%{y}<extra></extra>",
         "legendgroup": "Thinking Out Loud",
         "line": {
          "color": "#19d3f3",
          "dash": "solid"
         },
         "marker": {
          "symbol": "circle"
         },
         "mode": "lines",
         "name": "Thinking Out Loud",
         "orientation": "v",
         "showlegend": true,
         "type": "scatter",
         "x": [
          0,
          1,
          2,
          3,
          4,
          5,
          6,
          7,
          8,
          9,
          10,
          11,
          12,
          13,
          14,
          15,
          16,
          17,
          18,
          19,
          20,
          21,
          22,
          23,
          24,
          25,
          26,
          27,
          28,
          29,
          30
         ],
         "xaxis": "x",
         "y": [
          0.000001193539784668014,
          0.00018702354256955648,
          0.0002219417901810611,
          0.00023939797009344768,
          0.0002486676297621199,
          0.0002540400867386142,
          0.00025733271347631436,
          0.000259436436807382,
          0.0002608279128327798,
          0.00026177649557160493,
          0.00026244047363636273,
          0.0002629159666963747,
          0.00026326313507625315,
          0.00026352073709293156,
          0.0002637144415192547,
          0.00026386169349630704,
          0.00026397463274287485,
          0.00026406188695288213,
          0.00026412970152497927,
          0.0002641826690322276,
          0.00026422421178270647,
          0.0002642569085143931,
          0.0002642827203879393,
          0.000264303150414038,
          0.00026431935790294367,
          0.00026433224188922896,
          0.0002643425027472619,
          0.00026435068821273257,
          0.00026435722808549765,
          0.0002643624606090385,
          0.000264366652659767
         ],
         "yaxis": "y"
        },
        {
         "hovertemplate": "Song=One Dance<br>Iteration=%{x}<br>Probability=%{y}<extra></extra>",
         "legendgroup": "One Dance",
         "line": {
          "color": "#FF6692",
          "dash": "solid"
         },
         "marker": {
          "symbol": "circle"
         },
         "mode": "lines",
         "name": "One Dance",
         "orientation": "v",
         "showlegend": true,
         "type": "scatter",
         "x": [
          0,
          1,
          2,
          3,
          4,
          5,
          6,
          7,
          8,
          9,
          10,
          11,
          12,
          13,
          14,
          15,
          16,
          17,
          18,
          19,
          20,
          21,
          22,
          23,
          24,
          25,
          26,
          27,
          28,
          29,
          30
         ],
         "xaxis": "x",
         "y": [
          0.000004501835132077429,
          0.0001976662521621009,
          0.0002782159194318724,
          0.0003171647961936299,
          0.00033914228700899465,
          0.00035262510607470476,
          0.00036133429794498134,
          0.00036715119745386036,
          0.00037112817430875664,
          0.0003738954270700592,
          0.0003758482311240379,
          0.0003772427189638383,
          0.00037824888277469685,
          0.0003789816445071524,
          0.00037951985838978876,
          0.0003799183080506676,
          0.00038021546752965403,
          0.0003804386190520303,
          0.00038060728052057686,
          0.00038073553080559153,
          0.0003808336048148035,
          0.0003809089983634802,
          0.000380967240255927,
          0.0003810124362178702,
          0.00038104765504036757,
          0.00038107520471800484,
          0.00038109683131726723,
          0.0003811138631810426,
          0.0003811273161955286,
          0.0003811379711351257,
          0.0003811464308535271
         ],
         "yaxis": "y"
        },
        {
         "hovertemplate": "Song=HUMBLE.<br>Iteration=%{x}<br>Probability=%{y}<extra></extra>",
         "legendgroup": "HUMBLE.",
         "line": {
          "color": "#B6E880",
          "dash": "solid"
         },
         "marker": {
          "symbol": "circle"
         },
         "mode": "lines",
         "name": "HUMBLE.",
         "orientation": "v",
         "showlegend": true,
         "type": "scatter",
         "x": [
          0,
          1,
          2,
          3,
          4,
          5,
          6,
          7,
          8,
          9,
          10,
          11,
          12,
          13,
          14,
          15,
          16,
          17,
          18,
          19,
          20,
          21,
          22,
          23,
          24,
          25,
          26,
          27,
          28,
          29,
          30
         ],
         "xaxis": "x",
         "y": [
          0.0000029223536471830424,
          0.00020964582442678926,
          0.0002701397835311363,
          0.00030512568707654177,
          0.00032703971446877407,
          0.0003416721406782866,
          0.000351735178986099,
          0.00035876083479741356,
          0.0003637116240820824,
          0.0003672250265138227,
          0.00036973410040555207,
          0.0003715369092863295,
          0.0003728402239654503,
          0.0003737883163309958,
          0.0003744823613018438,
          0.0003749936615250407,
          0.000375372721562189,
          0.00037565550295667167,
          0.0003758677527834546,
          0.00037602801026101484,
          0.00037614970322037494,
          0.0003762426159336401,
          0.00037631392129390843,
          0.00037636891002000214,
          0.00037641150835155106,
          0.00037644464748325666,
          0.00037647052861939636,
          0.0003764908142010569,
          0.0003765067666603114,
          0.0003765193496878237,
          0.0003765293025771282
         ],
         "yaxis": "y"
        },
        {
         "hovertemplate": "Song=Closer<br>Iteration=%{x}<br>Probability=%{y}<extra></extra>",
         "legendgroup": "Closer",
         "line": {
          "color": "#FF97FF",
          "dash": "solid"
         },
         "marker": {
          "symbol": "circle"
         },
         "mode": "lines",
         "name": "Closer",
         "orientation": "v",
         "showlegend": true,
         "type": "scatter",
         "x": [
          0,
          1,
          2,
          3,
          4,
          5,
          6,
          7,
          8,
          9,
          10,
          11,
          12,
          13,
          14,
          15,
          16,
          17,
          18,
          19,
          20,
          21,
          22,
          23,
          24,
          25,
          26,
          27,
          28,
          29,
          30
         ],
         "xaxis": "x",
         "y": [
          0.000004385967125963499,
          0.00021316619412177013,
          0.00029105361371406383,
          0.00032717173544254585,
          0.00034672716191688064,
          0.00035833468573100646,
          0.00036564098939484066,
          0.0003704313322750499,
          0.00037366875885053163,
          0.0003759090216082443,
          0.0003774891012745317,
          0.0003786212587574435,
          0.00037944332618730994,
          0.00038004706796469865,
          0.00038049486726126713,
          0.00038082989186492106,
          0.0003810824716375938,
          0.0003812742006775719,
          0.0003814206334501754,
          0.00038153309030350554,
          0.00038161988652901375,
          0.00038168718116689325,
          0.0003817395707513986,
          0.0003817805094206388,
          0.000381812609252824,
          0.00038183785699994583,
          0.00038185777183950094,
          0.0003818735211072544,
          0.00038188600582713154,
          0.00038189592435165754,
          0.00038190382001616614
         ],
         "yaxis": "y"
        },
        {
         "hovertemplate": "Song=Riptide<br>Iteration=%{x}<br>Probability=%{y}<extra></extra>",
         "legendgroup": "Riptide",
         "line": {
          "color": "#FECB52",
          "dash": "solid"
         },
         "marker": {
          "symbol": "circle"
         },
         "mode": "lines",
         "name": "Riptide",
         "orientation": "v",
         "showlegend": true,
         "type": "scatter",
         "x": [
          0,
          1,
          2,
          3,
          4,
          5,
          6,
          7,
          8,
          9,
          10,
          11,
          12,
          13,
          14,
          15,
          16,
          17,
          18,
          19,
          20,
          21,
          22,
          23,
          24,
          25,
          26,
          27,
          28,
          29,
          30
         ],
         "xaxis": "x",
         "y": [
          0.00000686299897566641,
          0.00021538996117374302,
          0.00027639465002501397,
          0.0002989837430680041,
          0.00030891979451789457,
          0.0003138843450128868,
          0.00031662358968899396,
          0.00031826538143178273,
          0.0003193214646476731,
          0.00032004211406431147,
          0.0003205575914651675,
          0.0003209397125976441,
          0.00032123039652750564,
          0.0003214555535287492,
          0.00032163211167572604,
          0.0003217717024304775,
          0.0003218826662502077,
          0.00032197118889053244,
          0.0003220419748888355,
          0.0003220986668445613,
          0.00032214411996256897,
          0.00032218059066262865,
          0.00032220987171104965,
          0.0003222333923838487,
          0.00032225229464232603,
          0.00032226749213906333,
          0.0003222797165008723,
          0.00032228955393226466,
          0.00032229747431539136,
          0.00032230385441893536,
          0.0003223089964431979
         ],
         "yaxis": "y"
        }
       ],
       "layout": {
        "legend": {
         "title": {
          "text": "Song"
         },
         "tracegroupgap": 0
        },
        "template": {
         "data": {
          "bar": [
           {
            "error_x": {
             "color": "#2a3f5f"
            },
            "error_y": {
             "color": "#2a3f5f"
            },
            "marker": {
             "line": {
              "color": "#E5ECF6",
              "width": 0.5
             },
             "pattern": {
              "fillmode": "overlay",
              "size": 10,
              "solidity": 0.2
             }
            },
            "type": "bar"
           }
          ],
          "barpolar": [
           {
            "marker": {
             "line": {
              "color": "#E5ECF6",
              "width": 0.5
             },
             "pattern": {
              "fillmode": "overlay",
              "size": 10,
              "solidity": 0.2
             }
            },
            "type": "barpolar"
           }
          ],
          "carpet": [
           {
            "aaxis": {
             "endlinecolor": "#2a3f5f",
             "gridcolor": "white",
             "linecolor": "white",
             "minorgridcolor": "white",
             "startlinecolor": "#2a3f5f"
            },
            "baxis": {
             "endlinecolor": "#2a3f5f",
             "gridcolor": "white",
             "linecolor": "white",
             "minorgridcolor": "white",
             "startlinecolor": "#2a3f5f"
            },
            "type": "carpet"
           }
          ],
          "choropleth": [
           {
            "colorbar": {
             "outlinewidth": 0,
             "ticks": ""
            },
            "type": "choropleth"
           }
          ],
          "contour": [
           {
            "colorbar": {
             "outlinewidth": 0,
             "ticks": ""
            },
            "colorscale": [
             [
              0,
              "#0d0887"
             ],
             [
              0.1111111111111111,
              "#46039f"
             ],
             [
              0.2222222222222222,
              "#7201a8"
             ],
             [
              0.3333333333333333,
              "#9c179e"
             ],
             [
              0.4444444444444444,
              "#bd3786"
             ],
             [
              0.5555555555555556,
              "#d8576b"
             ],
             [
              0.6666666666666666,
              "#ed7953"
             ],
             [
              0.7777777777777778,
              "#fb9f3a"
             ],
             [
              0.8888888888888888,
              "#fdca26"
             ],
             [
              1,
              "#f0f921"
             ]
            ],
            "type": "contour"
           }
          ],
          "contourcarpet": [
           {
            "colorbar": {
             "outlinewidth": 0,
             "ticks": ""
            },
            "type": "contourcarpet"
           }
          ],
          "heatmap": [
           {
            "colorbar": {
             "outlinewidth": 0,
             "ticks": ""
            },
            "colorscale": [
             [
              0,
              "#0d0887"
             ],
             [
              0.1111111111111111,
              "#46039f"
             ],
             [
              0.2222222222222222,
              "#7201a8"
             ],
             [
              0.3333333333333333,
              "#9c179e"
             ],
             [
              0.4444444444444444,
              "#bd3786"
             ],
             [
              0.5555555555555556,
              "#d8576b"
             ],
             [
              0.6666666666666666,
              "#ed7953"
             ],
             [
              0.7777777777777778,
              "#fb9f3a"
             ],
             [
              0.8888888888888888,
              "#fdca26"
             ],
             [
              1,
              "#f0f921"
             ]
            ],
            "type": "heatmap"
           }
          ],
          "heatmapgl": [
           {
            "colorbar": {
             "outlinewidth": 0,
             "ticks": ""
            },
            "colorscale": [
             [
              0,
              "#0d0887"
             ],
             [
              0.1111111111111111,
              "#46039f"
             ],
             [
              0.2222222222222222,
              "#7201a8"
             ],
             [
              0.3333333333333333,
              "#9c179e"
             ],
             [
              0.4444444444444444,
              "#bd3786"
             ],
             [
              0.5555555555555556,
              "#d8576b"
             ],
             [
              0.6666666666666666,
              "#ed7953"
             ],
             [
              0.7777777777777778,
              "#fb9f3a"
             ],
             [
              0.8888888888888888,
              "#fdca26"
             ],
             [
              1,
              "#f0f921"
             ]
            ],
            "type": "heatmapgl"
           }
          ],
          "histogram": [
           {
            "marker": {
             "pattern": {
              "fillmode": "overlay",
              "size": 10,
              "solidity": 0.2
             }
            },
            "type": "histogram"
           }
          ],
          "histogram2d": [
           {
            "colorbar": {
             "outlinewidth": 0,
             "ticks": ""
            },
            "colorscale": [
             [
              0,
              "#0d0887"
             ],
             [
              0.1111111111111111,
              "#46039f"
             ],
             [
              0.2222222222222222,
              "#7201a8"
             ],
             [
              0.3333333333333333,
              "#9c179e"
             ],
             [
              0.4444444444444444,
              "#bd3786"
             ],
             [
              0.5555555555555556,
              "#d8576b"
             ],
             [
              0.6666666666666666,
              "#ed7953"
             ],
             [
              0.7777777777777778,
              "#fb9f3a"
             ],
             [
              0.8888888888888888,
              "#fdca26"
             ],
             [
              1,
              "#f0f921"
             ]
            ],
            "type": "histogram2d"
           }
          ],
          "histogram2dcontour": [
           {
            "colorbar": {
             "outlinewidth": 0,
             "ticks": ""
            },
            "colorscale": [
             [
              0,
              "#0d0887"
             ],
             [
              0.1111111111111111,
              "#46039f"
             ],
             [
              0.2222222222222222,
              "#7201a8"
             ],
             [
              0.3333333333333333,
              "#9c179e"
             ],
             [
              0.4444444444444444,
              "#bd3786"
             ],
             [
              0.5555555555555556,
              "#d8576b"
             ],
             [
              0.6666666666666666,
              "#ed7953"
             ],
             [
              0.7777777777777778,
              "#fb9f3a"
             ],
             [
              0.8888888888888888,
              "#fdca26"
             ],
             [
              1,
              "#f0f921"
             ]
            ],
            "type": "histogram2dcontour"
           }
          ],
          "mesh3d": [
           {
            "colorbar": {
             "outlinewidth": 0,
             "ticks": ""
            },
            "type": "mesh3d"
           }
          ],
          "parcoords": [
           {
            "line": {
             "colorbar": {
              "outlinewidth": 0,
              "ticks": ""
             }
            },
            "type": "parcoords"
           }
          ],
          "pie": [
           {
            "automargin": true,
            "type": "pie"
           }
          ],
          "scatter": [
           {
            "fillpattern": {
             "fillmode": "overlay",
             "size": 10,
             "solidity": 0.2
            },
            "type": "scatter"
           }
          ],
          "scatter3d": [
           {
            "line": {
             "colorbar": {
              "outlinewidth": 0,
              "ticks": ""
             }
            },
            "marker": {
             "colorbar": {
              "outlinewidth": 0,
              "ticks": ""
             }
            },
            "type": "scatter3d"
           }
          ],
          "scattercarpet": [
           {
            "marker": {
             "colorbar": {
              "outlinewidth": 0,
              "ticks": ""
             }
            },
            "type": "scattercarpet"
           }
          ],
          "scattergeo": [
           {
            "marker": {
             "colorbar": {
              "outlinewidth": 0,
              "ticks": ""
             }
            },
            "type": "scattergeo"
           }
          ],
          "scattergl": [
           {
            "marker": {
             "colorbar": {
              "outlinewidth": 0,
              "ticks": ""
             }
            },
            "type": "scattergl"
           }
          ],
          "scattermapbox": [
           {
            "marker": {
             "colorbar": {
              "outlinewidth": 0,
              "ticks": ""
             }
            },
            "type": "scattermapbox"
           }
          ],
          "scatterpolar": [
           {
            "marker": {
             "colorbar": {
              "outlinewidth": 0,
              "ticks": ""
             }
            },
            "type": "scatterpolar"
           }
          ],
          "scatterpolargl": [
           {
            "marker": {
             "colorbar": {
              "outlinewidth": 0,
              "ticks": ""
             }
            },
            "type": "scatterpolargl"
           }
          ],
          "scatterternary": [
           {
            "marker": {
             "colorbar": {
              "outlinewidth": 0,
              "ticks": ""
             }
            },
            "type": "scatterternary"
           }
          ],
          "surface": [
           {
            "colorbar": {
             "outlinewidth": 0,
             "ticks": ""
            },
            "colorscale": [
             [
              0,
              "#0d0887"
             ],
             [
              0.1111111111111111,
              "#46039f"
             ],
             [
              0.2222222222222222,
              "#7201a8"
             ],
             [
              0.3333333333333333,
              "#9c179e"
             ],
             [
              0.4444444444444444,
              "#bd3786"
             ],
             [
              0.5555555555555556,
              "#d8576b"
             ],
             [
              0.6666666666666666,
              "#ed7953"
             ],
             [
              0.7777777777777778,
              "#fb9f3a"
             ],
             [
              0.8888888888888888,
              "#fdca26"
             ],
             [
              1,
              "#f0f921"
             ]
            ],
            "type": "surface"
           }
          ],
          "table": [
           {
            "cells": {
             "fill": {
              "color": "#EBF0F8"
             },
             "line": {
              "color": "white"
             }
            },
            "header": {
             "fill": {
              "color": "#C8D4E3"
             },
             "line": {
              "color": "white"
             }
            },
            "type": "table"
           }
          ]
         },
         "layout": {
          "annotationdefaults": {
           "arrowcolor": "#2a3f5f",
           "arrowhead": 0,
           "arrowwidth": 1
          },
          "autotypenumbers": "strict",
          "coloraxis": {
           "colorbar": {
            "outlinewidth": 0,
            "ticks": ""
           }
          },
          "colorscale": {
           "diverging": [
            [
             0,
             "#8e0152"
            ],
            [
             0.1,
             "#c51b7d"
            ],
            [
             0.2,
             "#de77ae"
            ],
            [
             0.3,
             "#f1b6da"
            ],
            [
             0.4,
             "#fde0ef"
            ],
            [
             0.5,
             "#f7f7f7"
            ],
            [
             0.6,
             "#e6f5d0"
            ],
            [
             0.7,
             "#b8e186"
            ],
            [
             0.8,
             "#7fbc41"
            ],
            [
             0.9,
             "#4d9221"
            ],
            [
             1,
             "#276419"
            ]
           ],
           "sequential": [
            [
             0,
             "#0d0887"
            ],
            [
             0.1111111111111111,
             "#46039f"
            ],
            [
             0.2222222222222222,
             "#7201a8"
            ],
            [
             0.3333333333333333,
             "#9c179e"
            ],
            [
             0.4444444444444444,
             "#bd3786"
            ],
            [
             0.5555555555555556,
             "#d8576b"
            ],
            [
             0.6666666666666666,
             "#ed7953"
            ],
            [
             0.7777777777777778,
             "#fb9f3a"
            ],
            [
             0.8888888888888888,
             "#fdca26"
            ],
            [
             1,
             "#f0f921"
            ]
           ],
           "sequentialminus": [
            [
             0,
             "#0d0887"
            ],
            [
             0.1111111111111111,
             "#46039f"
            ],
            [
             0.2222222222222222,
             "#7201a8"
            ],
            [
             0.3333333333333333,
             "#9c179e"
            ],
            [
             0.4444444444444444,
             "#bd3786"
            ],
            [
             0.5555555555555556,
             "#d8576b"
            ],
            [
             0.6666666666666666,
             "#ed7953"
            ],
            [
             0.7777777777777778,
             "#fb9f3a"
            ],
            [
             0.8888888888888888,
             "#fdca26"
            ],
            [
             1,
             "#f0f921"
            ]
           ]
          },
          "colorway": [
           "#636efa",
           "#EF553B",
           "#00cc96",
           "#ab63fa",
           "#FFA15A",
           "#19d3f3",
           "#FF6692",
           "#B6E880",
           "#FF97FF",
           "#FECB52"
          ],
          "font": {
           "color": "#2a3f5f"
          },
          "geo": {
           "bgcolor": "white",
           "lakecolor": "white",
           "landcolor": "#E5ECF6",
           "showlakes": true,
           "showland": true,
           "subunitcolor": "white"
          },
          "hoverlabel": {
           "align": "left"
          },
          "hovermode": "closest",
          "mapbox": {
           "style": "light"
          },
          "paper_bgcolor": "white",
          "plot_bgcolor": "#E5ECF6",
          "polar": {
           "angularaxis": {
            "gridcolor": "white",
            "linecolor": "white",
            "ticks": ""
           },
           "bgcolor": "#E5ECF6",
           "radialaxis": {
            "gridcolor": "white",
            "linecolor": "white",
            "ticks": ""
           }
          },
          "scene": {
           "xaxis": {
            "backgroundcolor": "#E5ECF6",
            "gridcolor": "white",
            "gridwidth": 2,
            "linecolor": "white",
            "showbackground": true,
            "ticks": "",
            "zerolinecolor": "white"
           },
           "yaxis": {
            "backgroundcolor": "#E5ECF6",
            "gridcolor": "white",
            "gridwidth": 2,
            "linecolor": "white",
            "showbackground": true,
            "ticks": "",
            "zerolinecolor": "white"
           },
           "zaxis": {
            "backgroundcolor": "#E5ECF6",
            "gridcolor": "white",
            "gridwidth": 2,
            "linecolor": "white",
            "showbackground": true,
            "ticks": "",
            "zerolinecolor": "white"
           }
          },
          "shapedefaults": {
           "line": {
            "color": "#2a3f5f"
           }
          },
          "ternary": {
           "aaxis": {
            "gridcolor": "white",
            "linecolor": "white",
            "ticks": ""
           },
           "baxis": {
            "gridcolor": "white",
            "linecolor": "white",
            "ticks": ""
           },
           "bgcolor": "#E5ECF6",
           "caxis": {
            "gridcolor": "white",
            "linecolor": "white",
            "ticks": ""
           }
          },
          "title": {
           "x": 0.05
          },
          "xaxis": {
           "automargin": true,
           "gridcolor": "white",
           "linecolor": "white",
           "ticks": "",
           "title": {
            "standoff": 15
           },
           "zerolinecolor": "white",
           "zerolinewidth": 2
          },
          "yaxis": {
           "automargin": true,
           "gridcolor": "white",
           "linecolor": "white",
           "ticks": "",
           "title": {
            "standoff": 15
           },
           "zerolinecolor": "white",
           "zerolinewidth": 2
          }
         }
        },
        "title": {
         "text": "Convergence of Most Popular Songs"
        },
        "xaxis": {
         "anchor": "y",
         "domain": [
          0,
          1
         ],
         "title": {
          "text": "Iteration"
         }
        },
        "yaxis": {
         "anchor": "x",
         "domain": [
          0,
          1
         ],
         "title": {
          "text": "Probability"
         }
        }
       }
      }
     },
     "metadata": {},
     "output_type": "display_data"
    }
   ],
   "source": [
    "n = 10\n",
    "\n",
    "popularity = np.sum(transition_matrix_sum, axis=0)\n",
    "top_n_indices = np.argsort(popularity.A1)[-n:]\n",
    "\n",
    "init = np.random.rand(1, num_songs)\n",
    "init = init / np.sum(init)\n",
    "probs = [init]\n",
    "p = csr_matrix(init)\n",
    "\n",
    "damping = True\n",
    "if damping:\n",
    "    damping_factor = 0.85\n",
    "    random_jump_vector = csr_matrix(np.ones(num_songs)/num_songs)\n",
    "    for i in tqdm(range(30)):\n",
    "        p = damping_factor * np.dot(p, transition_matrix_sum) + (1 - damping_factor) * random_jump_vector\n",
    "        probs.append(p)\n",
    "else:\n",
    "    for i in tqdm(range(30)):\n",
    "        p = np.dot(p, transition_matrix_sum)\n",
    "        probs.append(p)\n",
    "\n",
    "\n",
    "plot_data = []\n",
    "for i in top_n_indices:\n",
    "    song_name = song_data_map[list(song_relationships)[i]][\"song_name\"]\n",
    "    for step_num, step in enumerate(probs):\n",
    "        plot_data.append({'Iteration': step_num, 'Probability': step[0, i], 'Song': song_name})\n",
    "\n",
    "df = pd.DataFrame(plot_data)\n",
    "fig = px.line(df, x='Iteration', y='Probability', color='Song', title='Convergence of Most Popular Songs')\n",
    "fig.show()"
   ]
  },
  {
   "cell_type": "code",
   "execution_count": 22,
   "metadata": {},
   "outputs": [],
   "source": [
    "A = transition_matrix.copy()"
   ]
  },
  {
   "cell_type": "code",
   "execution_count": 20,
   "metadata": {},
   "outputs": [],
   "source": [
    "def user_playlist_vector(playlist_songs, song_indices, num_songs):\n",
    "    user_vector = np.zeros(num_songs)\n",
    "    for song in playlist_songs:\n",
    "        user_vector[song_indices[song]] = 1/len(playlist_songs)\n",
    "    return user_vector\n",
    "\n",
    "def get_recommendation_vector(user_vector, transition_matrix, steps, damping = True, damping_factor = 0.85):\n",
    "    p = user_vector\n",
    "    p = csr_matrix(p)\n",
    "    if damping:\n",
    "        random_jump_vector = csr_matrix(np.ones(num_songs) / num_songs)\n",
    "        for _ in range(steps):\n",
    "            p = damping_factor * np.dot(p, transition_matrix) + (1 - damping_factor) * random_jump_vector\n",
    "    else:\n",
    "        for _ in range(steps):\n",
    "            p = np.dot(p, transition_matrix)\n",
    "    return p.toarray()[0]\n",
    "\n",
    "def top_n_recommendations(recommendation_vector, song_data_map, n):\n",
    "    top_indices = np.argsort(recommendation_vector)[-n:]\n",
    "    top_songs = [song_data_map[list(song_relationships)[i]] for i in top_indices]\n",
    "    return top_songs\n",
    "\n",
    "def recommend_songs(user_playlist, song_indices, transition_matrix, song_data_map, steps, n=10):\n",
    "    user_vector = user_playlist_vector(user_playlist, song_indices, len(song_indices))\n",
    "    recommendation_vector = get_recommendation_vector(user_vector, transition_matrix, steps, damping = True, damping_factor = 0.85)\n",
    "    return top_n_recommendations(recommendation_vector, song_data_map, n)\n"
   ]
  },
  {
   "cell_type": "code",
   "execution_count": 43,
   "metadata": {},
   "outputs": [],
   "source": [
    "top_n_songs = [list(song_relationships)[i] for i in top_n_indices]"
   ]
  },
  {
   "cell_type": "code",
   "execution_count": 44,
   "metadata": {},
   "outputs": [
    {
     "data": {
      "text/plain": [
       "['spotify:track:5CtI0qwDJkDQGwXD1H1cLb',\n",
       " 'spotify:track:3kxfsdsCpFgN412fpnW85Y',\n",
       " 'spotify:track:152lZdxL1OR0ZMW6KquMif',\n",
       " 'spotify:track:4WjH9Bzt3kx7z8kl0awxh4',\n",
       " 'spotify:track:6O6M7pJLABmfBRoGZMu76Y',\n",
       " 'spotify:track:1Slwb6dOYkBlWal1PGtnNg',\n",
       " 'spotify:track:1xznGGDReH1oQq0xzbwXa3',\n",
       " 'spotify:track:7KXjTSCq5nL1LoYtL7XAwS',\n",
       " 'spotify:track:7BKLCZ1jbUBVqRi2FVlTVw',\n",
       " 'spotify:track:7yq4Qj7cqayVTp3FF9CWbm']"
      ]
     },
     "execution_count": 44,
     "metadata": {},
     "output_type": "execute_result"
    }
   ],
   "source": [
    "top_n_songs"
   ]
  },
  {
   "cell_type": "code",
   "execution_count": 45,
   "metadata": {},
   "outputs": [
    {
     "name": "stdout",
     "output_type": "stream",
     "text": [
      "spotify:track:3pEY4jsSSK9XMvMITzqv9X {'song_name': 'Mood', 'album_name': 'Love Songs for the Streets', 'artist_name': 'Lil Durk'}\n",
      "spotify:track:5CtI0qwDJkDQGwXD1H1cLb {'song_name': 'Despacito - Remix', 'album_name': 'Despacito Feat. Justin Bieber', 'artist_name': 'Luis Fonsi'}\n",
      "spotify:track:3kxfsdsCpFgN412fpnW85Y {'song_name': 'Redbone', 'album_name': '\"Awaken, My Love!\"', 'artist_name': 'Childish Gambino'}\n",
      "spotify:track:152lZdxL1OR0ZMW6KquMif {'song_name': 'Location', 'album_name': 'American Teen', 'artist_name': 'Khalid'}\n",
      "spotify:track:4WjH9Bzt3kx7z8kl0awxh4 {'song_name': 'Lean On (feat. MØ & DJ Snake)', 'album_name': 'Peace Is The Mission', 'artist_name': 'Major Lazer'}\n",
      "spotify:track:6O6M7pJLABmfBRoGZMu76Y {'song_name': 'Roses', 'album_name': 'The Chainsmokers- Japan Special Edition', 'artist_name': 'The Chainsmokers'}\n",
      "spotify:track:1Slwb6dOYkBlWal1PGtnNg {'song_name': 'Thinking Out Loud', 'album_name': 'x', 'artist_name': 'Ed Sheeran'}\n",
      "spotify:track:1xznGGDReH1oQq0xzbwXa3 {'song_name': 'One Dance', 'album_name': 'Views', 'artist_name': 'Drake'}\n",
      "spotify:track:7KXjTSCq5nL1LoYtL7XAwS {'song_name': 'HUMBLE.', 'album_name': 'DAMN.', 'artist_name': 'Kendrick Lamar'}\n",
      "spotify:track:7BKLCZ1jbUBVqRi2FVlTVw {'song_name': 'Closer', 'album_name': 'Closer', 'artist_name': 'The Chainsmokers'}\n",
      "spotify:track:7yq4Qj7cqayVTp3FF9CWbm {'song_name': 'Riptide', 'album_name': 'Dream Your Life Away', 'artist_name': 'Vance Joy'}\n",
      "Song: Congratulations\n",
      "Album: Stoney\n",
      "Artist: Post Malone\n",
      "----------------------------------------\n",
      "Song: Broccoli (feat. Lil Yachty)\n",
      "Album: Big Baby DRAM\n",
      "Artist: DRAM\n",
      "----------------------------------------\n",
      "Song: HUMBLE.\n",
      "Album: DAMN.\n",
      "Artist: Kendrick Lamar\n",
      "----------------------------------------\n"
     ]
    }
   ],
   "source": [
    "playlist = random.sample(list(song_relationships), 1) + top_n_songs\n",
    "\n",
    "for i, j in zip(playlist, [song_data_map[x] for x in playlist]):\n",
    "    print(i, j)\n",
    "\n",
    "\n",
    "recommended_songs = recommend_songs(playlist, song_indices, A, song_data_map, 10, n=3)\n",
    "for song in recommended_songs:\n",
    "    print(f\"Song: {song['song_name']}\\nAlbum: {song['album_name']}\\nArtist: {song['artist_name']}\\n{'-'*40}\")    "
   ]
  },
  {
   "cell_type": "code",
   "execution_count": null,
   "metadata": {},
   "outputs": [],
   "source": [
    "import tkinter as tk\n",
    "from tkinter import ttk\n",
    "\n",
    "def search_songs(query):\n",
    "    # Filter songs based on query\n",
    "    filtered_songs = [name for name in song_data_map if query.lower() in song_data_map[name]['song_name'].lower()]\n",
    "    return filtered_songs[:10]  # return top 10 matches\n",
    "\n",
    "def on_search(event):\n",
    "    # Event handler for song search\n",
    "    query = search_entry.get()\n",
    "    results = search_songs(query)\n",
    "    \n",
    "    # Update the listbox with search results\n",
    "    listbox.delete(0, tk.END)\n",
    "    for song in results:\n",
    "        listbox.insert(tk.END, song_data_map[song]['song_name'])\n",
    "\n",
    "def get_recommendations():\n",
    "    # Get selected songs from listbox\n",
    "    selected_songs = [listbox.get(idx) for idx in listbox.curselection()]\n",
    "    \n",
    "    recommended_songs = recommend_songs(selected_songs, song_indices, transition_matrix, song_data_map, n=10)\n",
    "    \n",
    "    # Update the listbox with recommended songs\n",
    "    listbox.delete(0, tk.END)\n",
    "    for song in recommended_songs:\n",
    "        listbox.insert(tk.END, song)\n",
    "\n",
    "# Set up the main window\n",
    "root = tk.Tk()\n",
    "root.title(\"Song Recommendation System\")\n",
    "\n",
    "# Search entry\n",
    "search_entry = ttk.Entry(root)\n",
    "search_entry.pack(pady=20)\n",
    "search_entry.bind('<KeyRelease>', on_search)\n",
    "\n",
    "# Listbox to display songs\n",
    "listbox = tk.Listbox(root, selectmode=tk.MULTIPLE, width=50, height=20)\n",
    "listbox.pack(pady=20)\n",
    "\n",
    "# Recommendation button\n",
    "recommend_button = ttk.Button(root, text=\"Get Recommendations\", command=get_recommendations)\n",
    "recommend_button.pack(pady=20)\n",
    "\n",
    "root.mainloop()\n"
   ]
  }
 ],
 "metadata": {
  "kernelspec": {
   "display_name": "Python 3 (ipykernel)",
   "language": "python",
   "name": "python3"
  },
  "language_info": {
   "codemirror_mode": {
    "name": "ipython",
    "version": 3
   },
   "file_extension": ".py",
   "mimetype": "text/x-python",
   "name": "python",
   "nbconvert_exporter": "python",
   "pygments_lexer": "ipython3",
   "version": "3.9.13"
  }
 },
 "nbformat": 4,
 "nbformat_minor": 4
}
