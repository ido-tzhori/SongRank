{
 "cells": [
  {
   "cell_type": "code",
   "execution_count": 1,
   "metadata": {},
   "outputs": [],
   "source": [
    "import json\n",
    "import pandas as pd\n",
    "import numpy as np\n",
    "import os\n",
    "import seaborn as sns\n",
    "import re\n",
    "from collections import *\n",
    "from tqdm import tqdm\n",
    "import matplotlib.pyplot as plt\n",
    "import plotly.express as px\n",
    "from scipy.sparse import lil_matrix\n",
    "\n",
    "\n"
   ]
  },
  {
   "cell_type": "code",
   "execution_count": 2,
   "metadata": {},
   "outputs": [],
   "source": [
    "directory_path = 'data/raw'\n",
    "filenames = sorted(os.listdir(directory_path))"
   ]
  },
  {
   "cell_type": "code",
   "execution_count": 3,
   "metadata": {},
   "outputs": [],
   "source": [
    "# looking at only the first 10,000 playlists\n",
    "fullpaths = [directory_path + '/' + f for f in filenames][0:20]"
   ]
  },
  {
   "cell_type": "code",
   "execution_count": 4,
   "metadata": {},
   "outputs": [
    {
     "data": {
      "text/plain": [
       "['data/raw/mpd.slice.0-999.json',\n",
       " 'data/raw/mpd.slice.1000-1999.json',\n",
       " 'data/raw/mpd.slice.10000-10999.json',\n",
       " 'data/raw/mpd.slice.100000-100999.json',\n",
       " 'data/raw/mpd.slice.101000-101999.json',\n",
       " 'data/raw/mpd.slice.102000-102999.json',\n",
       " 'data/raw/mpd.slice.103000-103999.json',\n",
       " 'data/raw/mpd.slice.104000-104999.json',\n",
       " 'data/raw/mpd.slice.105000-105999.json',\n",
       " 'data/raw/mpd.slice.106000-106999.json',\n",
       " 'data/raw/mpd.slice.107000-107999.json',\n",
       " 'data/raw/mpd.slice.108000-108999.json',\n",
       " 'data/raw/mpd.slice.109000-109999.json',\n",
       " 'data/raw/mpd.slice.11000-11999.json',\n",
       " 'data/raw/mpd.slice.110000-110999.json',\n",
       " 'data/raw/mpd.slice.111000-111999.json',\n",
       " 'data/raw/mpd.slice.112000-112999.json',\n",
       " 'data/raw/mpd.slice.113000-113999.json',\n",
       " 'data/raw/mpd.slice.114000-114999.json',\n",
       " 'data/raw/mpd.slice.115000-115999.json']"
      ]
     },
     "execution_count": 4,
     "metadata": {},
     "output_type": "execute_result"
    }
   ],
   "source": [
    "fullpaths"
   ]
  },
  {
   "cell_type": "code",
   "execution_count": 6,
   "metadata": {},
   "outputs": [],
   "source": [
    "# ratios = []\n",
    "# for playlist in playlists_data:\n",
    "#     r = playlist['num_albums']/playlist['num_tracks']\n",
    "#     ratios.append(r)\n",
    "# sns.histplot(ratios)"
   ]
  },
  {
   "cell_type": "code",
   "execution_count": 7,
   "metadata": {},
   "outputs": [],
   "source": [
    "def normalize_name(name):\n",
    "    name = name.lower()\n",
    "    name = re.sub(r\"[.,\\/#!$%\\^\\*;:{}=\\_`~()@]\", \" \", name)\n",
    "    name = re.sub(r\"\\s+\", \" \", name).strip()\n",
    "    return name"
   ]
  },
  {
   "cell_type": "code",
   "execution_count": 8,
   "metadata": {},
   "outputs": [],
   "source": [
    "min_tracks_per_playlist = 5\n",
    "max_tracks_per_playlist = 150\n",
    "min_albums_per_playlist = 5\n",
    "min_artists_per_playlist = 5"
   ]
  },
  {
   "cell_type": "code",
   "execution_count": 9,
   "metadata": {},
   "outputs": [
    {
     "name": "stdout",
     "output_type": "stream",
     "text": [
      "Processed 0-5\n",
      "Processed 5-10\n",
      "Processed 10-15\n"
     ]
    }
   ],
   "source": [
    "song_relationships = {}\n",
    "uri_map = {}\n",
    "\n",
    "for idx, path in enumerate(fullpaths):\n",
    "    if idx % 5 == 0 and idx > 0:\n",
    "        print(f\"Processed {idx-5}-{idx}\")  # Print the range every 5 chunks\n",
    "    f = open(path)\n",
    "    js = f.read()\n",
    "    f.close()\n",
    "    mpd_slice = json.loads(js)\n",
    "    playlists_data = mpd_slice['playlists']\n",
    "\n",
    "    for idx, playlist in enumerate(playlists_data):\n",
    "        if idx % 1000 == 0 and idx > 0:\n",
    "            print(f\"Processed {idx - 1000}-{idx}\")\n",
    "        r = playlist['num_albums'] / playlist['num_tracks']\n",
    "        if r < 0.40:\n",
    "            continue\n",
    "        songs = set(track['track_uri'] for track in playlist['tracks'])\n",
    "        t_per_p = len(songs)\n",
    "        albums = set(track['album_uri'] for track in playlist['tracks'])\n",
    "        alb_per_p = len(albums)\n",
    "        artists = set(track['artist_uri'] for track in playlist['tracks'])\n",
    "        art_per_p = len(artists)\n",
    "\n",
    "        if (min_tracks_per_playlist >= t_per_p) or \\\n",
    "             (t_per_p >= max_tracks_per_playlist) or \\\n",
    "                (min_albums_per_playlist >= alb_per_p) or \\\n",
    "                    (min_artists_per_playlist >= art_per_p):\n",
    "            continue\n",
    "\n",
    "        for song in songs:\n",
    "            if song not in song_relationships:\n",
    "                song_relationships[song] = {}\n",
    "                \n",
    "            for s in songs:\n",
    "                if s != song:  # avoid self-relationship\n",
    "                    if s in song_relationships[song]:\n",
    "                        song_relationships[song][s] += 1\n",
    "                    else:\n",
    "                        song_relationships[song][s] = 1\n",
    "\n"
   ]
  },
  {
   "cell_type": "code",
   "execution_count": 165,
   "metadata": {},
   "outputs": [
    {
     "name": "stdout",
     "output_type": "stream",
     "text": [
      "Processed 0-5\n",
      "Processed 5-10\n",
      "Processed 10-15\n"
     ]
    }
   ],
   "source": [
    "song_data_map = {}\n",
    "for idx, path in enumerate(fullpaths):\n",
    "    if idx % 5 == 0 and idx > 0:\n",
    "        print(f\"Processed {idx-5}-{idx}\")  # Print the range every 5 chunks\n",
    "    f = open(path)\n",
    "    js = f.read()\n",
    "    f.close()\n",
    "    mpd_slice = json.loads(js)\n",
    "    playlists_data = mpd_slice['playlists']\n",
    "    for playlist in playlists_data:\n",
    "        for track in playlist['tracks']:\n",
    "            song_uri = track['track_uri']\n",
    "            song_name = track['track_name']\n",
    "            album_name = track['album_name']\n",
    "            song_data_map[song_uri] = {'song_name': song_name, 'album_name': album_name}\n"
   ]
  },
  {
   "cell_type": "code",
   "execution_count": 167,
   "metadata": {},
   "outputs": [
    {
     "name": "stdout",
     "output_type": "stream",
     "text": [
      "186631\n"
     ]
    }
   ],
   "source": [
    "print(len(song_relationships))"
   ]
  },
  {
   "cell_type": "code",
   "execution_count": 168,
   "metadata": {},
   "outputs": [
    {
     "name": "stderr",
     "output_type": "stream",
     "text": [
      "100%|██████████| 186631/186631 [00:44<00:00, 4150.12it/s] \n"
     ]
    }
   ],
   "source": [
    "song_relationships_sorted = {song: sorted(relations.items(), key=lambda x: x[1], reverse=True)\n",
    "                             for song, relations in tqdm(song_relationships.items())}\n"
   ]
  },
  {
   "cell_type": "code",
   "execution_count": 169,
   "metadata": {},
   "outputs": [
    {
     "data": {
      "text/plain": [
       "186631"
      ]
     },
     "execution_count": 169,
     "metadata": {},
     "output_type": "execute_result"
    }
   ],
   "source": [
    "len(song_relationships_sorted)"
   ]
  },
  {
   "cell_type": "code",
   "execution_count": 170,
   "metadata": {},
   "outputs": [
    {
     "name": "stdout",
     "output_type": "stream",
     "text": [
      "{'song_name': \"How'm I Gonna Get Back Home\", 'album_name': \"He's My Brother She's My Sister EP\"} spotify:track:0EsNP48ZxnuQx303EcckwI\n"
     ]
    },
    {
     "data": {
      "text/plain": [
       "[('spotify:track:4CL3xg1ahV85g8hsZqZyga', 1),\n",
       " ('spotify:track:62A1DpyagGOZ56048rg2aV', 1),\n",
       " ('spotify:track:1bDA2b2eFqTKcPAivi3vxT', 1),\n",
       " ('spotify:track:7aM71oOz09ccJGzsKeIfpx', 1),\n",
       " ('spotify:track:79Iq6kn5nniUKseQgc29pI', 1)]"
      ]
     },
     "execution_count": 170,
     "metadata": {},
     "output_type": "execute_result"
    }
   ],
   "source": [
    "track_uri = list(song_relationships_sorted.keys())[5000]\n",
    "print(song_data_map[track_uri], track_uri)\n",
    "song_relationships_sorted[track_uri][0:5]"
   ]
  },
  {
   "cell_type": "code",
   "execution_count": 172,
   "metadata": {},
   "outputs": [
    {
     "name": "stdout",
     "output_type": "stream",
     "text": [
      "Song with the most connections: {'song_name': 'Closer', 'album_name': 'Closer'}\n",
      "Number of connections: 14686\n"
     ]
    }
   ],
   "source": [
    "max_connections = 0\n",
    "song_with_most_connections = None\n",
    "\n",
    "for song, connections in song_relationships.items():\n",
    "    num_connections = len(connections)\n",
    "    if num_connections > max_connections:\n",
    "        max_connections = num_connections\n",
    "        song_with_most_connections = song\n",
    "\n",
    "print(\"Song with the most connections:\", song_data_map[song_with_most_connections])\n",
    "print(\"Number of connections:\", max_connections)\n"
   ]
  },
  {
   "cell_type": "code",
   "execution_count": 173,
   "metadata": {},
   "outputs": [],
   "source": [
    "song_indices = {song_uri: idx for idx, song_uri in enumerate(song_relationships_sorted.keys())}\n"
   ]
  },
  {
   "cell_type": "code",
   "execution_count": 177,
   "metadata": {},
   "outputs": [
    {
     "name": "stderr",
     "output_type": "stream",
     "text": [
      " 73%|███████▎  | 135796/186631 [01:02<00:09, 5123.49it/s]"
     ]
    },
    {
     "ename": "",
     "evalue": "",
     "output_type": "error",
     "traceback": [
      "\u001b[1;31mCannot execute code, session has been disposed. Please try restarting the Kernel."
     ]
    },
    {
     "ename": "",
     "evalue": "",
     "output_type": "error",
     "traceback": [
      "\u001b[1;31mThe Kernel crashed while executing code in the the current cell or a previous cell. Please review the code in the cell(s) to identify a possible cause of the failure. Click <a href='https://aka.ms/vscodeJupyterKernelCrash'>here</a> for more info. View Jupyter <a href='command:jupyter.viewOutput'>log</a> for further details."
     ]
    }
   ],
   "source": [
    "num_songs = len(song_relationships_sorted)\n",
    "transition_matrix = np.zeros((num_songs, num_songs))\n",
    "\n",
    "for song_uri, relationships in tqdm(song_relationships_sorted.items()):\n",
    "    row_idx = song_indices[song_uri]\n",
    "    sum_connections = np.sum([x[1] for x in relationships])\n",
    "    for related_song_uri, count in relationships:\n",
    "        col_idx = song_indices[related_song_uri]\n",
    "        transition_matrix[row_idx, col_idx] = count/sum_connections"
   ]
  },
  {
   "cell_type": "code",
   "execution_count": 138,
   "metadata": {},
   "outputs": [],
   "source": [
    "popularity = np.sum(transition_matrix, axis=0)\n",
    "top_n_indices = np.argsort(popularity)[-n:]\n"
   ]
  },
  {
   "cell_type": "code",
   "execution_count": 151,
   "metadata": {},
   "outputs": [
    {
     "data": {
      "text/plain": [
       "'spotify:track:7BKLCZ1jbUBVqRi2FVlTVw'"
      ]
     },
     "execution_count": 151,
     "metadata": {},
     "output_type": "execute_result"
    }
   ],
   "source": [
    "list(song_relationships)[1643]"
   ]
  },
  {
   "cell_type": "code",
   "execution_count": 152,
   "metadata": {},
   "outputs": [
    {
     "data": {
      "text/plain": [
       "'Closer'"
      ]
     },
     "execution_count": 152,
     "metadata": {},
     "output_type": "execute_result"
    }
   ],
   "source": [
    "song_data_map[list(song_relationships)[1643]][\"song_name\"]"
   ]
  },
  {
   "cell_type": "code",
   "execution_count": 154,
   "metadata": {},
   "outputs": [
    {
     "data": {
      "application/vnd.plotly.v1+json": {
       "config": {
        "plotlyServerURL": "https://plot.ly"
       },
       "data": [
        {
         "hovertemplate": "Song=I Won't Give Up<br>Iteration=%{x}<br>Probability=%{y}<extra></extra>",
         "legendgroup": "I Won't Give Up",
         "line": {
          "color": "#636efa",
          "dash": "solid"
         },
         "marker": {
          "symbol": "circle"
         },
         "mode": "lines",
         "name": "I Won't Give Up",
         "orientation": "v",
         "showlegend": true,
         "type": "scatter",
         "x": [
          0,
          1,
          2,
          3,
          4,
          5,
          6,
          7,
          8,
          9,
          10,
          11,
          12,
          13,
          14,
          15,
          16,
          17,
          18,
          19,
          20
         ],
         "xaxis": "x",
         "y": [
          0.00007492856463993353,
          0.0003997998489930758,
          0.0003839989744936736,
          0.00038085184833266847,
          0.00038024967856985274,
          0.000380818645342532,
          0.0003819156999385831,
          0.00038322770291110333,
          0.00038459509096997304,
          0.00038593683411328124,
          0.0003872136092072533,
          0.00038840853449364387,
          0.00038951676352826244,
          0.0003905397678103637,
          0.000391482167556232,
          0.00039234997254066135,
          0.00039314961407890505,
          0.0003938874253630707,
          0.00039456937719867106,
          0.0003952009589751924,
          0.00039578714125793486
         ],
         "yaxis": "y"
        },
        {
         "hovertemplate": "Song=Gold Digger<br>Iteration=%{x}<br>Probability=%{y}<extra></extra>",
         "legendgroup": "Gold Digger",
         "line": {
          "color": "#EF553B",
          "dash": "solid"
         },
         "marker": {
          "symbol": "circle"
         },
         "mode": "lines",
         "name": "Gold Digger",
         "orientation": "v",
         "showlegend": true,
         "type": "scatter",
         "x": [
          0,
          1,
          2,
          3,
          4,
          5,
          6,
          7,
          8,
          9,
          10,
          11,
          12,
          13,
          14,
          15,
          16,
          17,
          18,
          19,
          20
         ],
         "xaxis": "x",
         "y": [
          0.000043962124258875884,
          0.00039513926352476085,
          0.0004729852101916881,
          0.0005216405623425107,
          0.0005538163526500786,
          0.0005762497722921274,
          0.0005925742852812145,
          0.0006049136474775526,
          0.0006145518584948486,
          0.0006222901342051258,
          0.0006286455319356256,
          0.000633963311774829,
          0.0006384817117284024,
          0.0006423701969022263,
          0.0006457526667336526,
          0.0006487219408419414,
          0.0006513490603212204,
          0.0006536894255209388,
          0.0006557869523265593,
          0.0006576769551435139,
          0.0006593881913398657
         ],
         "yaxis": "y"
        },
        {
         "hovertemplate": "Song=Shut Up and Dance<br>Iteration=%{x}<br>Probability=%{y}<extra></extra>",
         "legendgroup": "Shut Up and Dance",
         "line": {
          "color": "#00cc96",
          "dash": "solid"
         },
         "marker": {
          "symbol": "circle"
         },
         "mode": "lines",
         "name": "Shut Up and Dance",
         "orientation": "v",
         "showlegend": true,
         "type": "scatter",
         "x": [
          0,
          1,
          2,
          3,
          4,
          5,
          6,
          7,
          8,
          9,
          10,
          11,
          12,
          13,
          14,
          15,
          16,
          17,
          18,
          19,
          20
         ],
         "xaxis": "x",
         "y": [
          0.000050778202980811196,
          0.00038094530454101235,
          0.0004038179670107758,
          0.00042053204936547876,
          0.0004321811386544015,
          0.0004409984163527754,
          0.00044798962398170705,
          0.00045368921640532586,
          0.00045842184057195236,
          0.0004624052478341375,
          0.0004657953448572683,
          0.0004687084461671996,
          0.0004712336006389599,
          0.00047344013802026286,
          0.0004753826734075293,
          0.00047710462411397025,
          0.0004786407783546311,
          0.0004800192171325933,
          0.0004812627733025877,
          0.00048239014920206473,
          0.0004834167778010729
         ],
         "yaxis": "y"
        },
        {
         "hovertemplate": "Song=Thinking Out Loud<br>Iteration=%{x}<br>Probability=%{y}<extra></extra>",
         "legendgroup": "Thinking Out Loud",
         "line": {
          "color": "#ab63fa",
          "dash": "solid"
         },
         "marker": {
          "symbol": "circle"
         },
         "mode": "lines",
         "name": "Thinking Out Loud",
         "orientation": "v",
         "showlegend": true,
         "type": "scatter",
         "x": [
          0,
          1,
          2,
          3,
          4,
          5,
          6,
          7,
          8,
          9,
          10,
          11,
          12,
          13,
          14,
          15,
          16,
          17,
          18,
          19,
          20
         ],
         "xaxis": "x",
         "y": [
          0.00006996536463417318,
          0.0003779774154824132,
          0.00036159136225437014,
          0.00035706895686344155,
          0.00035568871144068387,
          0.00035573802851747487,
          0.00035641566578536294,
          0.0003573609024086496,
          0.0003584000146496769,
          0.00035944657980626146,
          0.0003604577957628892,
          0.0003614136461010383,
          0.0003623062882555543,
          0.00036313439790338384,
          0.00036390006398088446,
          0.0003646070548740428,
          0.0003652598454669743,
          0.00036586307592908,
          0.00036642125897857455,
          0.0003669386310271425,
          0.00036741908641107015
         ],
         "yaxis": "y"
        },
        {
         "hovertemplate": "Song=That's What I Like<br>Iteration=%{x}<br>Probability=%{y}<extra></extra>",
         "legendgroup": "That's What I Like",
         "line": {
          "color": "#FFA15A",
          "dash": "solid"
         },
         "marker": {
          "symbol": "circle"
         },
         "mode": "lines",
         "name": "That's What I Like",
         "orientation": "v",
         "showlegend": true,
         "type": "scatter",
         "x": [
          0,
          1,
          2,
          3,
          4,
          5,
          6,
          7,
          8,
          9,
          10,
          11,
          12,
          13,
          14,
          15,
          16,
          17,
          18,
          19,
          20
         ],
         "xaxis": "x",
         "y": [
          0.00001522049006952126,
          0.00040138635186564534,
          0.0004149566732107452,
          0.0004340509157090979,
          0.0004483120931934485,
          0.0004590220708854552,
          0.00046717450013943133,
          0.0004735182889581099,
          0.00047857625073736976,
          0.00048270621200921103,
          0.00048615247369666556,
          0.0004890830614465196,
          0.0004916151471256807,
          0.0004938319446555245,
          0.0004957938128422138,
          0.0004975455341257772,
          0.0004991211039779712,
          0.0005005469079862926,
          0.0005018438537669928,
          0.0005030288219098699,
          0.0005041156695879427
         ],
         "yaxis": "y"
        },
        {
         "hovertemplate": "Song=Sorry<br>Iteration=%{x}<br>Probability=%{y}<extra></extra>",
         "legendgroup": "Sorry",
         "line": {
          "color": "#19d3f3",
          "dash": "solid"
         },
         "marker": {
          "symbol": "circle"
         },
         "mode": "lines",
         "name": "Sorry",
         "orientation": "v",
         "showlegend": true,
         "type": "scatter",
         "x": [
          0,
          1,
          2,
          3,
          4,
          5,
          6,
          7,
          8,
          9,
          10,
          11,
          12,
          13,
          14,
          15,
          16,
          17,
          18,
          19,
          20
         ],
         "xaxis": "x",
         "y": [
          0.000034052643199209583,
          0.0004024833790467716,
          0.0004763410361541317,
          0.0005171772335331509,
          0.000541906945207787,
          0.000558324216943998,
          0.0005700531698097435,
          0.000578913032268935,
          0.0005858865631221402,
          0.0005915445312685723,
          0.0005962416764922726,
          0.0006002117577717775,
          0.0006036163068922489,
          0.0006065712014853813,
          0.0006091620518938986,
          0.0006114536184198874,
          0.0006134958552891061,
          0.0006153279437352653,
          0.0006169810687510601,
          0.0006184803793859424,
          0.0006198464010957099
         ],
         "yaxis": "y"
        },
        {
         "hovertemplate": "Song=Lean On (feat. MØ & DJ Snake)<br>Iteration=%{x}<br>Probability=%{y}<extra></extra>",
         "legendgroup": "Lean On (feat. MØ & DJ Snake)",
         "line": {
          "color": "#FF6692",
          "dash": "solid"
         },
         "marker": {
          "symbol": "circle"
         },
         "mode": "lines",
         "name": "Lean On (feat. MØ & DJ Snake)",
         "orientation": "v",
         "showlegend": true,
         "type": "scatter",
         "x": [
          0,
          1,
          2,
          3,
          4,
          5,
          6,
          7,
          8,
          9,
          10,
          11,
          12,
          13,
          14,
          15,
          16,
          17,
          18,
          19,
          20
         ],
         "xaxis": "x",
         "y": [
          0.00007722656924442794,
          0.0003823368575903698,
          0.0003675598271540496,
          0.0003653256040513458,
          0.0003643818957176754,
          0.00036436561517306067,
          0.0003649058419750995,
          0.0003657596523253898,
          0.0003667679667135001,
          0.00036783247444925247,
          0.00036889570221555035,
          0.0003699261113183315,
          0.00037090793429637607,
          0.00037183463715479386,
          0.00037270487857530443,
          0.0003735200894525409,
          0.00037428306394957284,
          0.00037499716408214876,
          0.00037566588740591575,
          0.00037629264450805605,
          0.00037688065454811537
         ],
         "yaxis": "y"
        },
        {
         "hovertemplate": "Song=Shape of You<br>Iteration=%{x}<br>Probability=%{y}<extra></extra>",
         "legendgroup": "Shape of You",
         "line": {
          "color": "#B6E880",
          "dash": "solid"
         },
         "marker": {
          "symbol": "circle"
         },
         "mode": "lines",
         "name": "Shape of You",
         "orientation": "v",
         "showlegend": true,
         "type": "scatter",
         "x": [
          0,
          1,
          2,
          3,
          4,
          5,
          6,
          7,
          8,
          9,
          10,
          11,
          12,
          13,
          14,
          15,
          16,
          17,
          18,
          19,
          20
         ],
         "xaxis": "x",
         "y": [
          0.00003276262355013131,
          0.00041863186730312785,
          0.00042753216756973066,
          0.00044468731706261556,
          0.00045942139497802674,
          0.0004712411976923155,
          0.00048050802278907465,
          0.00048780032760948943,
          0.0004936217963011725,
          0.0004983533020650193,
          0.0005022698654000653,
          0.0005055677224483859,
          0.0005083873313355626,
          0.0005108302968901514,
          0.000512971198539555,
          0.0005148657011994181,
          0.0005165560912706985,
          0.0005180750653917359,
          0.0005194483418491646,
          0.0005206964785840729,
          0.0005218361541887612
         ],
         "yaxis": "y"
        },
        {
         "hovertemplate": "Song=Mask Off<br>Iteration=%{x}<br>Probability=%{y}<extra></extra>",
         "legendgroup": "Mask Off",
         "line": {
          "color": "#FF97FF",
          "dash": "solid"
         },
         "marker": {
          "symbol": "circle"
         },
         "mode": "lines",
         "name": "Mask Off",
         "orientation": "v",
         "showlegend": true,
         "type": "scatter",
         "x": [
          0,
          1,
          2,
          3,
          4,
          5,
          6,
          7,
          8,
          9,
          10,
          11,
          12,
          13,
          14,
          15,
          16,
          17,
          18,
          19,
          20
         ],
         "xaxis": "x",
         "y": [
          0.00007351147988117205,
          0.0004407138685936859,
          0.0004678883123597142,
          0.0004899507841481076,
          0.0005054182928588015,
          0.0005170028446106641,
          0.0005261008831006054,
          0.0005334895968531456,
          0.0005396355694038454,
          0.0005448403862262679,
          0.0005493102785151359,
          0.0005531922622987685,
          0.0005565945903838807,
          0.0005595991566204769,
          0.0005622693936322736,
          0.0005646554720123655,
          0.0005667978086918426,
          0.0005687294841351258,
          0.0005704779409418961,
          0.0005720662016582305,
          0.000573513760180077
         ],
         "yaxis": "y"
        },
        {
         "hovertemplate": "Song=CAN'T STOP THE FEELING! (Original Song from DreamWorks Animation's \"TROLLS\")<br>Iteration=%{x}<br>Probability=%{y}<extra></extra>",
         "legendgroup": "CAN'T STOP THE FEELING! (Original Song from DreamWorks Animation's \"TROLLS\")",
         "line": {
          "color": "#FECB52",
          "dash": "solid"
         },
         "marker": {
          "symbol": "circle"
         },
         "mode": "lines",
         "name": "CAN'T STOP THE FEELING! (Original Song from DreamWorks Animation's \"TROLLS\")",
         "orientation": "v",
         "showlegend": true,
         "type": "scatter",
         "x": [
          0,
          1,
          2,
          3,
          4,
          5,
          6,
          7,
          8,
          9,
          10,
          11,
          12,
          13,
          14,
          15,
          16,
          17,
          18,
          19,
          20
         ],
         "xaxis": "x",
         "y": [
          0.00004677871578897654,
          0.0004306694164274421,
          0.0004657316394076631,
          0.0004895703537006228,
          0.0005051849548364777,
          0.0005163230961121282,
          0.0005247261873763144,
          0.0005313226306338453,
          0.0005366537394285441,
          0.0005410589978120453,
          0.0005447638539963222,
          0.0005479249507063916,
          0.0005506550926430979,
          0.000553037860359919,
          0.000555136610130551,
          0.0005570002672778293,
          0.0005586672001857669,
          0.0005601678957305732,
          0.0005615268573297521,
          0.0005627639817936077,
          0.0005638955766491347
         ],
         "yaxis": "y"
        },
        {
         "hovertemplate": "Song=Stolen Dance<br>Iteration=%{x}<br>Probability=%{y}<extra></extra>",
         "legendgroup": "Stolen Dance",
         "line": {
          "color": "#636efa",
          "dash": "solid"
         },
         "marker": {
          "symbol": "circle"
         },
         "mode": "lines",
         "name": "Stolen Dance",
         "orientation": "v",
         "showlegend": true,
         "type": "scatter",
         "x": [
          0,
          1,
          2,
          3,
          4,
          5,
          6,
          7,
          8,
          9,
          10,
          11,
          12,
          13,
          14,
          15,
          16,
          17,
          18,
          19,
          20
         ],
         "xaxis": "x",
         "y": [
          0.000023991184474453106,
          0.0004205643772719792,
          0.0004137515663726783,
          0.0004163027550153661,
          0.00041755587295649,
          0.0004179380295158429,
          0.0004179188410596112,
          0.00041778084548676223,
          0.00041765977893521583,
          0.00041760855650604896,
          0.0004176386891264506,
          0.00041774323480191493,
          0.00041790861037562427,
          0.0004181202558944675,
          0.0004183650677781552,
          0.00041863221126300595,
          0.0004189131718086432,
          0.00041920148964410577,
          0.0004194923972817477,
          0.0004197824615138978,
          0.00042006927083054876
         ],
         "yaxis": "y"
        },
        {
         "hovertemplate": "Song=White Iverson<br>Iteration=%{x}<br>Probability=%{y}<extra></extra>",
         "legendgroup": "White Iverson",
         "line": {
          "color": "#EF553B",
          "dash": "solid"
         },
         "marker": {
          "symbol": "circle"
         },
         "mode": "lines",
         "name": "White Iverson",
         "orientation": "v",
         "showlegend": true,
         "type": "scatter",
         "x": [
          0,
          1,
          2,
          3,
          4,
          5,
          6,
          7,
          8,
          9,
          10,
          11,
          12,
          13,
          14,
          15,
          16,
          17,
          18,
          19,
          20
         ],
         "xaxis": "x",
         "y": [
          0.00006621909884555325,
          0.0004619568326616485,
          0.0005023540461161888,
          0.0005294687050331436,
          0.000547095340374933,
          0.0005595640674799572,
          0.0005690597568280195,
          0.0005767021676169719,
          0.0005830881451700441,
          0.0005885547676473791,
          0.000593306754822933,
          0.0005974788776962439,
          0.000601167029338186,
          0.0006044440151597975,
          0.000607367815881797,
          0.0006099861023048675,
          0.0006123388565453279,
          0.0006144600149133218,
          0.0006163785866583962,
          0.000618119475989811,
          0.0006197041229959416
         ],
         "yaxis": "y"
        },
        {
         "hovertemplate": "Song=Despacito - Remix<br>Iteration=%{x}<br>Probability=%{y}<extra></extra>",
         "legendgroup": "Despacito - Remix",
         "line": {
          "color": "#00cc96",
          "dash": "solid"
         },
         "marker": {
          "symbol": "circle"
         },
         "mode": "lines",
         "name": "Despacito - Remix",
         "orientation": "v",
         "showlegend": true,
         "type": "scatter",
         "x": [
          0,
          1,
          2,
          3,
          4,
          5,
          6,
          7,
          8,
          9,
          10,
          11,
          12,
          13,
          14,
          15,
          16,
          17,
          18,
          19,
          20
         ],
         "xaxis": "x",
         "y": [
          0.00007522126150697332,
          0.00043916646409353785,
          0.0004627853068406986,
          0.0004813816288866008,
          0.0004948281297344076,
          0.0005049529167707451,
          0.0005127437888892073,
          0.0005188685332454318,
          0.0005237927254922935,
          0.0005278408498959957,
          0.0005312386195878657,
          0.0005341435642927655,
          0.0005366666105288296,
          0.0005388869343012273,
          0.000540862025595789,
          0.0005426344576376097,
          0.0005442364329212398,
          0.0005456928447069211,
          0.0005470233512459469,
          0.0005482437932996601,
          0.0005493671734286001
         ],
         "yaxis": "y"
        },
        {
         "hovertemplate": "Song=She Will Be Loved - Radio Mix<br>Iteration=%{x}<br>Probability=%{y}<extra></extra>",
         "legendgroup": "She Will Be Loved - Radio Mix",
         "line": {
          "color": "#ab63fa",
          "dash": "solid"
         },
         "marker": {
          "symbol": "circle"
         },
         "mode": "lines",
         "name": "She Will Be Loved - Radio Mix",
         "orientation": "v",
         "showlegend": true,
         "type": "scatter",
         "x": [
          0,
          1,
          2,
          3,
          4,
          5,
          6,
          7,
          8,
          9,
          10,
          11,
          12,
          13,
          14,
          15,
          16,
          17,
          18,
          19,
          20
         ],
         "xaxis": "x",
         "y": [
          0.00008268231182761032,
          0.0004495300517815561,
          0.00048350221820189163,
          0.0005082053177313898,
          0.0005249153483742374,
          0.0005370443307091957,
          0.0005463126774094473,
          0.0005536511260567194,
          0.000559609798140649,
          0.0005645421420683006,
          0.000568689761005454,
          0.0005722248615751079,
          0.0005752737038784023,
          0.0005779307655179171,
          0.0005802678923311846,
          0.0005823404875416001,
          0.0005841918261880759,
          0.0005858561246441085,
          0.0005873607567810066,
          0.0005887278726249953,
          0.0005899755923750743
         ],
         "yaxis": "y"
        },
        {
         "hovertemplate": "Song=Ni**as In Paris<br>Iteration=%{x}<br>Probability=%{y}<extra></extra>",
         "legendgroup": "Ni**as In Paris",
         "line": {
          "color": "#FFA15A",
          "dash": "solid"
         },
         "marker": {
          "symbol": "circle"
         },
         "mode": "lines",
         "name": "Ni**as In Paris",
         "orientation": "v",
         "showlegend": true,
         "type": "scatter",
         "x": [
          0,
          1,
          2,
          3,
          4,
          5,
          6,
          7,
          8,
          9,
          10,
          11,
          12,
          13,
          14,
          15,
          16,
          17,
          18,
          19,
          20
         ],
         "xaxis": "x",
         "y": [
          8.34849040326713e-7,
          0.00043188867935843166,
          0.00044522350659373003,
          0.0004608094727517014,
          0.00047283843602345833,
          0.00048233453973610483,
          0.0004900432145484584,
          0.0004964510809941603,
          0.0005018735988844725,
          0.0005065233990908075,
          0.0005105509997077979,
          0.0005140678231944394,
          0.0005171593470822789,
          0.0005198929191907327,
          0.000522322651388087,
          0.0005244926555187374,
          0.0005264392916087,
          0.0005281927951222913,
          0.0005297784929724457,
          0.0005312177343760095,
          0.0005325286164063713
         ],
         "yaxis": "y"
        },
        {
         "hovertemplate": "Song=Don't Stop Believin'<br>Iteration=%{x}<br>Probability=%{y}<extra></extra>",
         "legendgroup": "Don't Stop Believin'",
         "line": {
          "color": "#19d3f3",
          "dash": "solid"
         },
         "marker": {
          "symbol": "circle"
         },
         "mode": "lines",
         "name": "Don't Stop Believin'",
         "orientation": "v",
         "showlegend": true,
         "type": "scatter",
         "x": [
          0,
          1,
          2,
          3,
          4,
          5,
          6,
          7,
          8,
          9,
          10,
          11,
          12,
          13,
          14,
          15,
          16,
          17,
          18,
          19,
          20
         ],
         "xaxis": "x",
         "y": [
          0.000012059364098313037,
          0.00044432234698476094,
          0.0005148846547707915,
          0.0005544684557603508,
          0.0005802856024724333,
          0.0005988321020400374,
          0.0006129106751592133,
          0.0006239678016353444,
          0.0006328584995895484,
          0.0006401366797187133,
          0.000646183435436653,
          0.0006512715854440175,
          0.0006556018409875317,
          0.0006593248399575016,
          0.0006625554215071878,
          0.0006653822880884027,
          0.0006678747521446047,
          0.0006700875543628552,
          0.0006720643632037433,
          0.0006738403504424095,
          0.0006754441074232423
         ],
         "yaxis": "y"
        },
        {
         "hovertemplate": "Song=Yeah!<br>Iteration=%{x}<br>Probability=%{y}<extra></extra>",
         "legendgroup": "Yeah!",
         "line": {
          "color": "#FF6692",
          "dash": "solid"
         },
         "marker": {
          "symbol": "circle"
         },
         "mode": "lines",
         "name": "Yeah!",
         "orientation": "v",
         "showlegend": true,
         "type": "scatter",
         "x": [
          0,
          1,
          2,
          3,
          4,
          5,
          6,
          7,
          8,
          9,
          10,
          11,
          12,
          13,
          14,
          15,
          16,
          17,
          18,
          19,
          20
         ],
         "xaxis": "x",
         "y": [
          0.00007254564220768142,
          0.00044338149257096775,
          0.0005359624592789406,
          0.0005887395077444709,
          0.0006226496627454997,
          0.0006465203152416361,
          0.0006643452422111181,
          0.0006781898596716618,
          0.0006892472238099734,
          0.0006982673394254307,
          0.000705751546587375,
          0.000712050028245355,
          0.0007174154075610826,
          0.0007220345121096126,
          0.0007260483232320983,
          0.0007295650603976292,
          0.000732669047251437,
          0.0007354268731949259,
          0.0007378917642081165,
          0.000740106737688201,
          0.0007421069145251751
         ],
         "yaxis": "y"
        },
        {
         "hovertemplate": "Song=Get Low - Street<br>Iteration=%{x}<br>Probability=%{y}<extra></extra>",
         "legendgroup": "Get Low - Street",
         "line": {
          "color": "#B6E880",
          "dash": "solid"
         },
         "marker": {
          "symbol": "circle"
         },
         "mode": "lines",
         "name": "Get Low - Street",
         "orientation": "v",
         "showlegend": true,
         "type": "scatter",
         "x": [
          0,
          1,
          2,
          3,
          4,
          5,
          6,
          7,
          8,
          9,
          10,
          11,
          12,
          13,
          14,
          15,
          16,
          17,
          18,
          19,
          20
         ],
         "xaxis": "x",
         "y": [
          0.00005905087669060013,
          0.00046479795237441363,
          0.0004942136721862088,
          0.0005213420662331297,
          0.0005418790580606764,
          0.0005577459769968353,
          0.0005703564273672385,
          0.0005806223905591398,
          0.0005891362513662786,
          0.0005962991341075287,
          0.0006023949347603795,
          0.0006076322599856703,
          0.0006121689675387134,
          0.000616127237026792,
          0.0006196032978040728,
          0.0006226739957020854,
          0.0006254013951903874,
          0.0006278361036713367,
          0.0006300197309728837,
          0.0006319867438864785,
          0.0006337658859432593
         ],
         "yaxis": "y"
        },
        {
         "hovertemplate": "Song=September<br>Iteration=%{x}<br>Probability=%{y}<extra></extra>",
         "legendgroup": "September",
         "line": {
          "color": "#FF97FF",
          "dash": "solid"
         },
         "marker": {
          "symbol": "circle"
         },
         "mode": "lines",
         "name": "September",
         "orientation": "v",
         "showlegend": true,
         "type": "scatter",
         "x": [
          0,
          1,
          2,
          3,
          4,
          5,
          6,
          7,
          8,
          9,
          10,
          11,
          12,
          13,
          14,
          15,
          16,
          17,
          18,
          19,
          20
         ],
         "xaxis": "x",
         "y": [
          0.00005731667420597759,
          0.0004642417939646107,
          0.0005032522107347685,
          0.0005268745765391544,
          0.0005419075252386361,
          0.0005525042130845485,
          0.0005604649844566677,
          0.0005667172972766802,
          0.0005717896266792535,
          0.0005760065464563887,
          0.0005795794621799194,
          0.0005826527161896492,
          0.000585328715127565,
          0.0005876824513247931,
          0.0005897703217160954,
          0.0005916357126409319,
          0.0005933126635067516,
          0.0005948283429459542,
          0.0005962047656378672,
          0.0005974600093770475,
          0.0005986090950073624
         ],
         "yaxis": "y"
        },
        {
         "hovertemplate": "Song=Bohemian Rhapsody - Remastered 2011<br>Iteration=%{x}<br>Probability=%{y}<extra></extra>",
         "legendgroup": "Bohemian Rhapsody - Remastered 2011",
         "line": {
          "color": "#FECB52",
          "dash": "solid"
         },
         "marker": {
          "symbol": "circle"
         },
         "mode": "lines",
         "name": "Bohemian Rhapsody - Remastered 2011",
         "orientation": "v",
         "showlegend": true,
         "type": "scatter",
         "x": [
          0,
          1,
          2,
          3,
          4,
          5,
          6,
          7,
          8,
          9,
          10,
          11,
          12,
          13,
          14,
          15,
          16,
          17,
          18,
          19,
          20
         ],
         "xaxis": "x",
         "y": [
          0.00006519017724399812,
          0.0004677120631048928,
          0.0005239407206074794,
          0.0005568924192321442,
          0.0005785688698201422,
          0.0005943868433180162,
          0.000606589505230587,
          0.0006163072590834794,
          0.0006242069278643518,
          0.0006307269381945843,
          0.0006361757128738903,
          0.000640779296022278,
          0.0006447076441918416,
          0.0006480907441903424,
          0.0006510292665990287,
          0.0006536019714221034,
          0.0006558710270636202,
          0.0006578859128113359,
          0.0006596863235337795,
          0.0006613043541633748,
          0.0006627661557672596
         ],
         "yaxis": "y"
        },
        {
         "hovertemplate": "Song=Riptide<br>Iteration=%{x}<br>Probability=%{y}<extra></extra>",
         "legendgroup": "Riptide",
         "line": {
          "color": "#636efa",
          "dash": "solid"
         },
         "marker": {
          "symbol": "circle"
         },
         "mode": "lines",
         "name": "Riptide",
         "orientation": "v",
         "showlegend": true,
         "type": "scatter",
         "x": [
          0,
          1,
          2,
          3,
          4,
          5,
          6,
          7,
          8,
          9,
          10,
          11,
          12,
          13,
          14,
          15,
          16,
          17,
          18,
          19,
          20
         ],
         "xaxis": "x",
         "y": [
          0.00003345762965708933,
          0.00046988229366922004,
          0.000487308108633413,
          0.0004966319513492507,
          0.0005015100241126718,
          0.0005043594633431742,
          0.0005062037224295947,
          0.0005075161660275605,
          0.0005085271994774219,
          0.0005093551701661902,
          0.0005100644636070247,
          0.0005106922191862277,
          0.0005112610893651681,
          0.0005117855913737931,
          0.0005122754185967554,
          0.0005127372570735685,
          0.0005131758368833817,
          0.0005135945734708373,
          0.0005139959775821866,
          0.000514381927395735,
          0.0005147538542545444
         ],
         "yaxis": "y"
        },
        {
         "hovertemplate": "Song=Starboy<br>Iteration=%{x}<br>Probability=%{y}<extra></extra>",
         "legendgroup": "Starboy",
         "line": {
          "color": "#EF553B",
          "dash": "solid"
         },
         "marker": {
          "symbol": "circle"
         },
         "mode": "lines",
         "name": "Starboy",
         "orientation": "v",
         "showlegend": true,
         "type": "scatter",
         "x": [
          0,
          1,
          2,
          3,
          4,
          5,
          6,
          7,
          8,
          9,
          10,
          11,
          12,
          13,
          14,
          15,
          16,
          17,
          18,
          19,
          20
         ],
         "xaxis": "x",
         "y": [
          0.000050806315931172175,
          0.00050389632981865,
          0.0005509329199765302,
          0.0005787181157920073,
          0.0005953810537584559,
          0.0006063478083888835,
          0.0006140861703117387,
          0.0006198513137299812,
          0.0006243327532350662,
          0.0006279347058554494,
          0.0006309079447749186,
          0.0006334158373303648,
          0.0006355693199345227,
          0.0006374463997771637,
          0.0006391035551870719,
          0.0006405826912646821,
          0.000641915548880453,
          0.000643126595618137,
          0.0006442349788224821,
          0.0006452558802238232,
          0.000646201477518181
         ],
         "yaxis": "y"
        },
        {
         "hovertemplate": "Song=Congratulations<br>Iteration=%{x}<br>Probability=%{y}<extra></extra>",
         "legendgroup": "Congratulations",
         "line": {
          "color": "#00cc96",
          "dash": "solid"
         },
         "marker": {
          "symbol": "circle"
         },
         "mode": "lines",
         "name": "Congratulations",
         "orientation": "v",
         "showlegend": true,
         "type": "scatter",
         "x": [
          0,
          1,
          2,
          3,
          4,
          5,
          6,
          7,
          8,
          9,
          10,
          11,
          12,
          13,
          14,
          15,
          16,
          17,
          18,
          19,
          20
         ],
         "xaxis": "x",
         "y": [
          0.000014361737973576742,
          0.0005065609380255333,
          0.0005802053269180833,
          0.0006197709683484929,
          0.0006455766919744517,
          0.000664375037163988,
          0.0006788831062271068,
          0.000690472527512846,
          0.0006999520046544021,
          0.000707846275726877,
          0.0007145165584257654,
          0.0007202213850291131,
          0.0007251511214656417,
          0.0007294491616258599,
          0.0007332256323263214,
          0.0007365665705385588,
          0.0007395402269515381,
          0.0007422014851227884,
          0.0007445950158687197,
          0.0007467575671919092,
          0.0007487196539196666
         ],
         "yaxis": "y"
        },
        {
         "hovertemplate": "Song=Don't Let Me Down<br>Iteration=%{x}<br>Probability=%{y}<extra></extra>",
         "legendgroup": "Don't Let Me Down",
         "line": {
          "color": "#ab63fa",
          "dash": "solid"
         },
         "marker": {
          "symbol": "circle"
         },
         "mode": "lines",
         "name": "Don't Let Me Down",
         "orientation": "v",
         "showlegend": true,
         "type": "scatter",
         "x": [
          0,
          1,
          2,
          3,
          4,
          5,
          6,
          7,
          8,
          9,
          10,
          11,
          12,
          13,
          14,
          15,
          16,
          17,
          18,
          19,
          20
         ],
         "xaxis": "x",
         "y": [
          0.00007726560167908917,
          0.0005223040195590132,
          0.0005674638027342268,
          0.0005981242301997591,
          0.00061754444233015,
          0.0006307444623489495,
          0.0006402655622757542,
          0.000647495334623016,
          0.000653221389984963,
          0.0006579104114484952,
          0.0006618514038187161,
          0.0006652312984383815,
          0.0006681760814433325,
          0.000670773926805038,
          0.0006730886708442487,
          0.0006751679393342523,
          0.0006770482161349521,
          0.0006787581047932117,
          0.000680320488638043,
          0.0006817539995352282,
          0.0006830740409264057
         ],
         "yaxis": "y"
        },
        {
         "hovertemplate": "Song=Broccoli (feat. Lil Yachty)<br>Iteration=%{x}<br>Probability=%{y}<extra></extra>",
         "legendgroup": "Broccoli (feat. Lil Yachty)",
         "line": {
          "color": "#FFA15A",
          "dash": "solid"
         },
         "marker": {
          "symbol": "circle"
         },
         "mode": "lines",
         "name": "Broccoli (feat. Lil Yachty)",
         "orientation": "v",
         "showlegend": true,
         "type": "scatter",
         "x": [
          0,
          1,
          2,
          3,
          4,
          5,
          6,
          7,
          8,
          9,
          10,
          11,
          12,
          13,
          14,
          15,
          16,
          17,
          18,
          19,
          20
         ],
         "xaxis": "x",
         "y": [
          0.00007587566645434481,
          0.0005226208617684078,
          0.0006205055890389275,
          0.0006777613938157186,
          0.0007136679283600715,
          0.0007380577428683389,
          0.0007556278949423107,
          0.0007688874795277803,
          0.0007792702522767289,
          0.0007876418299299407,
          0.0007945506670582635,
          0.0008003596510239649,
          0.0008053183666388503,
          0.000809604435531274,
          0.0008133480792199672,
          0.0008166472451933027,
          0.0008195772397832324,
          0.0008221970576509583,
          0.0008245536624130069,
          0.0008266849589748438,
          0.0008286219074052705
         ],
         "yaxis": "y"
        },
        {
         "hovertemplate": "Song=Roses<br>Iteration=%{x}<br>Probability=%{y}<extra></extra>",
         "legendgroup": "Roses",
         "line": {
          "color": "#19d3f3",
          "dash": "solid"
         },
         "marker": {
          "symbol": "circle"
         },
         "mode": "lines",
         "name": "Roses",
         "orientation": "v",
         "showlegend": true,
         "type": "scatter",
         "x": [
          0,
          1,
          2,
          3,
          4,
          5,
          6,
          7,
          8,
          9,
          10,
          11,
          12,
          13,
          14,
          15,
          16,
          17,
          18,
          19,
          20
         ],
         "xaxis": "x",
         "y": [
          0.0000044594613008555186,
          0.0005781528423698381,
          0.0006675908521475943,
          0.0007173308241580375,
          0.0007469122621829797,
          0.0007659487743617863,
          0.0007791047868547202,
          0.0007887702998215022,
          0.0007962328176703866,
          0.0008022222831215572,
          0.0008071749106296796,
          0.0008113652025424994,
          0.0008149744277458424,
          0.0008181275602160147,
          0.000820914040307207,
          0.0008233999392520831,
          0.0008256353829025496,
          0.0008276592609340945,
          0.0008295023226385841,
          0.0008311892784702943,
          0.0008327402675807099
         ],
         "yaxis": "y"
        },
        {
         "hovertemplate": "Song=HUMBLE.<br>Iteration=%{x}<br>Probability=%{y}<extra></extra>",
         "legendgroup": "HUMBLE.",
         "line": {
          "color": "#FF6692",
          "dash": "solid"
         },
         "marker": {
          "symbol": "circle"
         },
         "mode": "lines",
         "name": "HUMBLE.",
         "orientation": "v",
         "showlegend": true,
         "type": "scatter",
         "x": [
          0,
          1,
          2,
          3,
          4,
          5,
          6,
          7,
          8,
          9,
          10,
          11,
          12,
          13,
          14,
          15,
          16,
          17,
          18,
          19,
          20
         ],
         "xaxis": "x",
         "y": [
          0.000030073480895794765,
          0.0006214418879072203,
          0.0006350322968923017,
          0.0006534099538809577,
          0.0006687400016434673,
          0.0006819679739554508,
          0.0006934518492484102,
          0.0007034226427562669,
          0.0007120801809839567,
          0.0007196079189405406,
          0.000726170362705781,
          0.0007319107981540145,
          0.0007369515891465694,
          0.0007413960880270744,
          0.0007453311475445759,
          0.0007488296508964937,
          0.000751952801327219,
          0.0007547520909283651,
          0.0007572709510304423,
          0.0007595461187502213,
          0.0007616087625915792
         ],
         "yaxis": "y"
        },
        {
         "hovertemplate": "Song=One Dance<br>Iteration=%{x}<br>Probability=%{y}<extra></extra>",
         "legendgroup": "One Dance",
         "line": {
          "color": "#B6E880",
          "dash": "solid"
         },
         "marker": {
          "symbol": "circle"
         },
         "mode": "lines",
         "name": "One Dance",
         "orientation": "v",
         "showlegend": true,
         "type": "scatter",
         "x": [
          0,
          1,
          2,
          3,
          4,
          5,
          6,
          7,
          8,
          9,
          10,
          11,
          12,
          13,
          14,
          15,
          16,
          17,
          18,
          19,
          20
         ],
         "xaxis": "x",
         "y": [
          0.00007418840333400789,
          0.0006306239380453508,
          0.0006914139874657438,
          0.0007254399026308429,
          0.0007456694517408433,
          0.0007590114929631207,
          0.0007685252688654113,
          0.0007757457729518877,
          0.000781497601009199,
          0.0007862478972424728,
          0.0007902753664574309,
          0.0007937553954821203,
          0.0007968043977526113,
          0.0007995036341855578,
          0.0008019124329735779,
          0.0008040757936262861,
          0.0008060289332393546,
          0.000807800116208313,
          0.0008094124876582208,
          0.0008108853078660905,
          0.0008122348133245294
         ],
         "yaxis": "y"
        },
        {
         "hovertemplate": "Song=Never Be Like You<br>Iteration=%{x}<br>Probability=%{y}<extra></extra>",
         "legendgroup": "Never Be Like You",
         "line": {
          "color": "#FF97FF",
          "dash": "solid"
         },
         "marker": {
          "symbol": "circle"
         },
         "mode": "lines",
         "name": "Never Be Like You",
         "orientation": "v",
         "showlegend": true,
         "type": "scatter",
         "x": [
          0,
          1,
          2,
          3,
          4,
          5,
          6,
          7,
          8,
          9,
          10,
          11,
          12,
          13,
          14,
          15,
          16,
          17,
          18,
          19,
          20
         ],
         "xaxis": "x",
         "y": [
          0.000010984398153907552,
          0.0006362275768833256,
          0.0006626521211064635,
          0.0006799086773804783,
          0.0006906321993071348,
          0.0006979157284275863,
          0.0007032029207057116,
          0.0007072582173994973,
          0.0007105102248742801,
          0.0007132102019338916,
          0.0007155124318997766,
          0.0007175163700866943,
          0.0007192892143592934,
          0.0007208782983273233,
          0.0007223181317875649,
          0.0007236345727609989,
          0.0007248474175995015,
          0.0007259720846800534,
          0.0007270207550586176,
          0.0007280031723104834,
          0.0007289272188884847
         ],
         "yaxis": "y"
        },
        {
         "hovertemplate": "Song=Closer<br>Iteration=%{x}<br>Probability=%{y}<extra></extra>",
         "legendgroup": "Closer",
         "line": {
          "color": "#FECB52",
          "dash": "solid"
         },
         "marker": {
          "symbol": "circle"
         },
         "mode": "lines",
         "name": "Closer",
         "orientation": "v",
         "showlegend": true,
         "type": "scatter",
         "x": [
          0,
          1,
          2,
          3,
          4,
          5,
          6,
          7,
          8,
          9,
          10,
          11,
          12,
          13,
          14,
          15,
          16,
          17,
          18,
          19,
          20
         ],
         "xaxis": "x",
         "y": [
          0.00007098328649821473,
          0.0006191578404745156,
          0.000690144314660669,
          0.0007297797371134368,
          0.0007542887594969022,
          0.0007708940820097221,
          0.0007828200023227272,
          0.0007917774898455267,
          0.0007987566115358346,
          0.0008043627957739624,
          0.0008089823823935669,
          0.000812871015711595,
          0.0008162033503442322,
          0.0008191021469538448,
          0.0008216559062016048,
          0.0008239298961466005,
          0.0008259732471265391,
          0.0008278236355453227,
          0.0008295104485788891,
          0.0008310569676563907,
          0.00083248190361062
         ],
         "yaxis": "y"
        }
       ],
       "layout": {
        "legend": {
         "title": {
          "text": "Song"
         },
         "tracegroupgap": 0
        },
        "template": {
         "data": {
          "bar": [
           {
            "error_x": {
             "color": "#2a3f5f"
            },
            "error_y": {
             "color": "#2a3f5f"
            },
            "marker": {
             "line": {
              "color": "#E5ECF6",
              "width": 0.5
             },
             "pattern": {
              "fillmode": "overlay",
              "size": 10,
              "solidity": 0.2
             }
            },
            "type": "bar"
           }
          ],
          "barpolar": [
           {
            "marker": {
             "line": {
              "color": "#E5ECF6",
              "width": 0.5
             },
             "pattern": {
              "fillmode": "overlay",
              "size": 10,
              "solidity": 0.2
             }
            },
            "type": "barpolar"
           }
          ],
          "carpet": [
           {
            "aaxis": {
             "endlinecolor": "#2a3f5f",
             "gridcolor": "white",
             "linecolor": "white",
             "minorgridcolor": "white",
             "startlinecolor": "#2a3f5f"
            },
            "baxis": {
             "endlinecolor": "#2a3f5f",
             "gridcolor": "white",
             "linecolor": "white",
             "minorgridcolor": "white",
             "startlinecolor": "#2a3f5f"
            },
            "type": "carpet"
           }
          ],
          "choropleth": [
           {
            "colorbar": {
             "outlinewidth": 0,
             "ticks": ""
            },
            "type": "choropleth"
           }
          ],
          "contour": [
           {
            "colorbar": {
             "outlinewidth": 0,
             "ticks": ""
            },
            "colorscale": [
             [
              0,
              "#0d0887"
             ],
             [
              0.1111111111111111,
              "#46039f"
             ],
             [
              0.2222222222222222,
              "#7201a8"
             ],
             [
              0.3333333333333333,
              "#9c179e"
             ],
             [
              0.4444444444444444,
              "#bd3786"
             ],
             [
              0.5555555555555556,
              "#d8576b"
             ],
             [
              0.6666666666666666,
              "#ed7953"
             ],
             [
              0.7777777777777778,
              "#fb9f3a"
             ],
             [
              0.8888888888888888,
              "#fdca26"
             ],
             [
              1,
              "#f0f921"
             ]
            ],
            "type": "contour"
           }
          ],
          "contourcarpet": [
           {
            "colorbar": {
             "outlinewidth": 0,
             "ticks": ""
            },
            "type": "contourcarpet"
           }
          ],
          "heatmap": [
           {
            "colorbar": {
             "outlinewidth": 0,
             "ticks": ""
            },
            "colorscale": [
             [
              0,
              "#0d0887"
             ],
             [
              0.1111111111111111,
              "#46039f"
             ],
             [
              0.2222222222222222,
              "#7201a8"
             ],
             [
              0.3333333333333333,
              "#9c179e"
             ],
             [
              0.4444444444444444,
              "#bd3786"
             ],
             [
              0.5555555555555556,
              "#d8576b"
             ],
             [
              0.6666666666666666,
              "#ed7953"
             ],
             [
              0.7777777777777778,
              "#fb9f3a"
             ],
             [
              0.8888888888888888,
              "#fdca26"
             ],
             [
              1,
              "#f0f921"
             ]
            ],
            "type": "heatmap"
           }
          ],
          "heatmapgl": [
           {
            "colorbar": {
             "outlinewidth": 0,
             "ticks": ""
            },
            "colorscale": [
             [
              0,
              "#0d0887"
             ],
             [
              0.1111111111111111,
              "#46039f"
             ],
             [
              0.2222222222222222,
              "#7201a8"
             ],
             [
              0.3333333333333333,
              "#9c179e"
             ],
             [
              0.4444444444444444,
              "#bd3786"
             ],
             [
              0.5555555555555556,
              "#d8576b"
             ],
             [
              0.6666666666666666,
              "#ed7953"
             ],
             [
              0.7777777777777778,
              "#fb9f3a"
             ],
             [
              0.8888888888888888,
              "#fdca26"
             ],
             [
              1,
              "#f0f921"
             ]
            ],
            "type": "heatmapgl"
           }
          ],
          "histogram": [
           {
            "marker": {
             "pattern": {
              "fillmode": "overlay",
              "size": 10,
              "solidity": 0.2
             }
            },
            "type": "histogram"
           }
          ],
          "histogram2d": [
           {
            "colorbar": {
             "outlinewidth": 0,
             "ticks": ""
            },
            "colorscale": [
             [
              0,
              "#0d0887"
             ],
             [
              0.1111111111111111,
              "#46039f"
             ],
             [
              0.2222222222222222,
              "#7201a8"
             ],
             [
              0.3333333333333333,
              "#9c179e"
             ],
             [
              0.4444444444444444,
              "#bd3786"
             ],
             [
              0.5555555555555556,
              "#d8576b"
             ],
             [
              0.6666666666666666,
              "#ed7953"
             ],
             [
              0.7777777777777778,
              "#fb9f3a"
             ],
             [
              0.8888888888888888,
              "#fdca26"
             ],
             [
              1,
              "#f0f921"
             ]
            ],
            "type": "histogram2d"
           }
          ],
          "histogram2dcontour": [
           {
            "colorbar": {
             "outlinewidth": 0,
             "ticks": ""
            },
            "colorscale": [
             [
              0,
              "#0d0887"
             ],
             [
              0.1111111111111111,
              "#46039f"
             ],
             [
              0.2222222222222222,
              "#7201a8"
             ],
             [
              0.3333333333333333,
              "#9c179e"
             ],
             [
              0.4444444444444444,
              "#bd3786"
             ],
             [
              0.5555555555555556,
              "#d8576b"
             ],
             [
              0.6666666666666666,
              "#ed7953"
             ],
             [
              0.7777777777777778,
              "#fb9f3a"
             ],
             [
              0.8888888888888888,
              "#fdca26"
             ],
             [
              1,
              "#f0f921"
             ]
            ],
            "type": "histogram2dcontour"
           }
          ],
          "mesh3d": [
           {
            "colorbar": {
             "outlinewidth": 0,
             "ticks": ""
            },
            "type": "mesh3d"
           }
          ],
          "parcoords": [
           {
            "line": {
             "colorbar": {
              "outlinewidth": 0,
              "ticks": ""
             }
            },
            "type": "parcoords"
           }
          ],
          "pie": [
           {
            "automargin": true,
            "type": "pie"
           }
          ],
          "scatter": [
           {
            "fillpattern": {
             "fillmode": "overlay",
             "size": 10,
             "solidity": 0.2
            },
            "type": "scatter"
           }
          ],
          "scatter3d": [
           {
            "line": {
             "colorbar": {
              "outlinewidth": 0,
              "ticks": ""
             }
            },
            "marker": {
             "colorbar": {
              "outlinewidth": 0,
              "ticks": ""
             }
            },
            "type": "scatter3d"
           }
          ],
          "scattercarpet": [
           {
            "marker": {
             "colorbar": {
              "outlinewidth": 0,
              "ticks": ""
             }
            },
            "type": "scattercarpet"
           }
          ],
          "scattergeo": [
           {
            "marker": {
             "colorbar": {
              "outlinewidth": 0,
              "ticks": ""
             }
            },
            "type": "scattergeo"
           }
          ],
          "scattergl": [
           {
            "marker": {
             "colorbar": {
              "outlinewidth": 0,
              "ticks": ""
             }
            },
            "type": "scattergl"
           }
          ],
          "scattermapbox": [
           {
            "marker": {
             "colorbar": {
              "outlinewidth": 0,
              "ticks": ""
             }
            },
            "type": "scattermapbox"
           }
          ],
          "scatterpolar": [
           {
            "marker": {
             "colorbar": {
              "outlinewidth": 0,
              "ticks": ""
             }
            },
            "type": "scatterpolar"
           }
          ],
          "scatterpolargl": [
           {
            "marker": {
             "colorbar": {
              "outlinewidth": 0,
              "ticks": ""
             }
            },
            "type": "scatterpolargl"
           }
          ],
          "scatterternary": [
           {
            "marker": {
             "colorbar": {
              "outlinewidth": 0,
              "ticks": ""
             }
            },
            "type": "scatterternary"
           }
          ],
          "surface": [
           {
            "colorbar": {
             "outlinewidth": 0,
             "ticks": ""
            },
            "colorscale": [
             [
              0,
              "#0d0887"
             ],
             [
              0.1111111111111111,
              "#46039f"
             ],
             [
              0.2222222222222222,
              "#7201a8"
             ],
             [
              0.3333333333333333,
              "#9c179e"
             ],
             [
              0.4444444444444444,
              "#bd3786"
             ],
             [
              0.5555555555555556,
              "#d8576b"
             ],
             [
              0.6666666666666666,
              "#ed7953"
             ],
             [
              0.7777777777777778,
              "#fb9f3a"
             ],
             [
              0.8888888888888888,
              "#fdca26"
             ],
             [
              1,
              "#f0f921"
             ]
            ],
            "type": "surface"
           }
          ],
          "table": [
           {
            "cells": {
             "fill": {
              "color": "#EBF0F8"
             },
             "line": {
              "color": "white"
             }
            },
            "header": {
             "fill": {
              "color": "#C8D4E3"
             },
             "line": {
              "color": "white"
             }
            },
            "type": "table"
           }
          ]
         },
         "layout": {
          "annotationdefaults": {
           "arrowcolor": "#2a3f5f",
           "arrowhead": 0,
           "arrowwidth": 1
          },
          "autotypenumbers": "strict",
          "coloraxis": {
           "colorbar": {
            "outlinewidth": 0,
            "ticks": ""
           }
          },
          "colorscale": {
           "diverging": [
            [
             0,
             "#8e0152"
            ],
            [
             0.1,
             "#c51b7d"
            ],
            [
             0.2,
             "#de77ae"
            ],
            [
             0.3,
             "#f1b6da"
            ],
            [
             0.4,
             "#fde0ef"
            ],
            [
             0.5,
             "#f7f7f7"
            ],
            [
             0.6,
             "#e6f5d0"
            ],
            [
             0.7,
             "#b8e186"
            ],
            [
             0.8,
             "#7fbc41"
            ],
            [
             0.9,
             "#4d9221"
            ],
            [
             1,
             "#276419"
            ]
           ],
           "sequential": [
            [
             0,
             "#0d0887"
            ],
            [
             0.1111111111111111,
             "#46039f"
            ],
            [
             0.2222222222222222,
             "#7201a8"
            ],
            [
             0.3333333333333333,
             "#9c179e"
            ],
            [
             0.4444444444444444,
             "#bd3786"
            ],
            [
             0.5555555555555556,
             "#d8576b"
            ],
            [
             0.6666666666666666,
             "#ed7953"
            ],
            [
             0.7777777777777778,
             "#fb9f3a"
            ],
            [
             0.8888888888888888,
             "#fdca26"
            ],
            [
             1,
             "#f0f921"
            ]
           ],
           "sequentialminus": [
            [
             0,
             "#0d0887"
            ],
            [
             0.1111111111111111,
             "#46039f"
            ],
            [
             0.2222222222222222,
             "#7201a8"
            ],
            [
             0.3333333333333333,
             "#9c179e"
            ],
            [
             0.4444444444444444,
             "#bd3786"
            ],
            [
             0.5555555555555556,
             "#d8576b"
            ],
            [
             0.6666666666666666,
             "#ed7953"
            ],
            [
             0.7777777777777778,
             "#fb9f3a"
            ],
            [
             0.8888888888888888,
             "#fdca26"
            ],
            [
             1,
             "#f0f921"
            ]
           ]
          },
          "colorway": [
           "#636efa",
           "#EF553B",
           "#00cc96",
           "#ab63fa",
           "#FFA15A",
           "#19d3f3",
           "#FF6692",
           "#B6E880",
           "#FF97FF",
           "#FECB52"
          ],
          "font": {
           "color": "#2a3f5f"
          },
          "geo": {
           "bgcolor": "white",
           "lakecolor": "white",
           "landcolor": "#E5ECF6",
           "showlakes": true,
           "showland": true,
           "subunitcolor": "white"
          },
          "hoverlabel": {
           "align": "left"
          },
          "hovermode": "closest",
          "mapbox": {
           "style": "light"
          },
          "paper_bgcolor": "white",
          "plot_bgcolor": "#E5ECF6",
          "polar": {
           "angularaxis": {
            "gridcolor": "white",
            "linecolor": "white",
            "ticks": ""
           },
           "bgcolor": "#E5ECF6",
           "radialaxis": {
            "gridcolor": "white",
            "linecolor": "white",
            "ticks": ""
           }
          },
          "scene": {
           "xaxis": {
            "backgroundcolor": "#E5ECF6",
            "gridcolor": "white",
            "gridwidth": 2,
            "linecolor": "white",
            "showbackground": true,
            "ticks": "",
            "zerolinecolor": "white"
           },
           "yaxis": {
            "backgroundcolor": "#E5ECF6",
            "gridcolor": "white",
            "gridwidth": 2,
            "linecolor": "white",
            "showbackground": true,
            "ticks": "",
            "zerolinecolor": "white"
           },
           "zaxis": {
            "backgroundcolor": "#E5ECF6",
            "gridcolor": "white",
            "gridwidth": 2,
            "linecolor": "white",
            "showbackground": true,
            "ticks": "",
            "zerolinecolor": "white"
           }
          },
          "shapedefaults": {
           "line": {
            "color": "#2a3f5f"
           }
          },
          "ternary": {
           "aaxis": {
            "gridcolor": "white",
            "linecolor": "white",
            "ticks": ""
           },
           "baxis": {
            "gridcolor": "white",
            "linecolor": "white",
            "ticks": ""
           },
           "bgcolor": "#E5ECF6",
           "caxis": {
            "gridcolor": "white",
            "linecolor": "white",
            "ticks": ""
           }
          },
          "title": {
           "x": 0.05
          },
          "xaxis": {
           "automargin": true,
           "gridcolor": "white",
           "linecolor": "white",
           "ticks": "",
           "title": {
            "standoff": 15
           },
           "zerolinecolor": "white",
           "zerolinewidth": 2
          },
          "yaxis": {
           "automargin": true,
           "gridcolor": "white",
           "linecolor": "white",
           "ticks": "",
           "title": {
            "standoff": 15
           },
           "zerolinecolor": "white",
           "zerolinewidth": 2
          }
         }
        },
        "title": {
         "text": "Convergence of Most Popular Songs"
        },
        "xaxis": {
         "anchor": "y",
         "domain": [
          0,
          1
         ],
         "title": {
          "text": "Iteration"
         }
        },
        "yaxis": {
         "anchor": "x",
         "domain": [
          0,
          1
         ],
         "title": {
          "text": "Probability"
         }
        }
       }
      }
     },
     "metadata": {},
     "output_type": "display_data"
    }
   ],
   "source": [
    "import numpy as np\n",
    "import plotly.express as px\n",
    "import pandas as pd\n",
    "\n",
    "# number of most popular songs to plot\n",
    "n = 30\n",
    "\n",
    "popularity = np.sum(transition_matrix, axis=0)\n",
    "top_n_indices = np.argsort(popularity)[-n:]\n",
    "\n",
    "init = np.random.rand(1, num_songs)\n",
    "init = init / np.sum(init)\n",
    "probs = [init]\n",
    "p = init\n",
    "for i in range(20):\n",
    "    p = np.dot(p, transition_matrix)\n",
    "    probs.append(p)\n",
    "\n",
    "plot_data = []\n",
    "for i in top_n_indices:\n",
    "    song_name = song_data_map[list(song_relationships)[i]][\"song_name\"]\n",
    "    for step_num, step in enumerate(probs):\n",
    "        plot_data.append({'Iteration': step_num, 'Probability': step[0, i], 'Song': song_name})\n",
    "\n",
    "df = pd.DataFrame(plot_data)\n",
    "fig = px.line(df, x='Iteration', y='Probability', color='Song', title='Convergence of Most Popular Songs')\n",
    "fig.show()\n"
   ]
  }
 ],
 "metadata": {
  "kernelspec": {
   "display_name": "base",
   "language": "python",
   "name": "python3"
  },
  "language_info": {
   "codemirror_mode": {
    "name": "ipython",
    "version": 3
   },
   "file_extension": ".py",
   "mimetype": "text/x-python",
   "name": "python",
   "nbconvert_exporter": "python",
   "pygments_lexer": "ipython3",
   "version": "3.9.13"
  },
  "orig_nbformat": 4
 },
 "nbformat": 4,
 "nbformat_minor": 2
}
