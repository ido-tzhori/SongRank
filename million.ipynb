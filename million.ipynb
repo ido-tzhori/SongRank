{
 "cells": [
  {
   "cell_type": "code",
   "execution_count": 1,
   "metadata": {
    "tags": []
   },
   "outputs": [],
   "source": [
    "import json\n",
    "import pandas as pd\n",
    "import numpy as np\n",
    "import os\n",
    "import seaborn as sns\n",
    "import re\n",
    "from collections import *\n",
    "from tqdm import tqdm\n",
    "import matplotlib.pyplot as plt\n",
    "import plotly.express as px\n",
    "from scipy.sparse import lil_matrix, csr_matrix, eye\n",
    "import time\n",
    "import random\n",
    "from numpy.linalg import matrix_power"
   ]
  },
  {
   "cell_type": "code",
   "execution_count": 2,
   "metadata": {
    "tags": []
   },
   "outputs": [
    {
     "name": "stdout",
     "output_type": "stream",
     "text": [
      "1000000 playlists\n"
     ]
    }
   ],
   "source": [
    "directory_path = 'data/raw'\n",
    "filenames = sorted(os.listdir(directory_path))\n",
    "print(f\"{len(filenames) * 1000} playlists\")"
   ]
  },
  {
   "cell_type": "code",
   "execution_count": 3,
   "metadata": {
    "tags": []
   },
   "outputs": [],
   "source": [
    "# looking at only the first 30,000 playlists\n",
    "fullpaths = [directory_path + '/' + f for f in filenames][0:30]"
   ]
  },
  {
   "cell_type": "code",
   "execution_count": 4,
   "metadata": {
    "tags": []
   },
   "outputs": [],
   "source": [
    "# ratios = []\n",
    "# for playlist in playlists_data:\n",
    "#     r = playlist['num_albums']/playlist['num_tracks']\n",
    "#     ratios.append(r)\n",
    "# sns.histplot(ratios)\n",
    "\n",
    "def normalize_name(name):\n",
    "    name = name.lower()\n",
    "    name = re.sub(r\"[.,\\/#!$%\\^\\*;:{}=\\_`~()@]\", \" \", name)\n",
    "    name = re.sub(r\"\\s+\", \" \", name).strip()\n",
    "    return name"
   ]
  },
  {
   "cell_type": "code",
   "execution_count": 5,
   "metadata": {
    "tags": []
   },
   "outputs": [],
   "source": [
    "min_tracks_per_playlist = 0\n",
    "max_tracks_per_playlist = 10000\n",
    "min_albums_per_playlist = 0\n",
    "min_artists_per_playlist = 0"
   ]
  },
  {
   "cell_type": "code",
   "execution_count": 6,
   "metadata": {
    "tags": []
   },
   "outputs": [
    {
     "name": "stdout",
     "output_type": "stream",
     "text": [
      "processed 0-5 - time taken 10.91\n",
      "processed 5-10 - time taken 12.41\n",
      "processed 10-15 - time taken 12.52\n",
      "processed 15-20 - time taken 13.12\n",
      "processed 20-25 - time taken 13.62\n",
      "Number of songs processed: 336949\n"
     ]
    }
   ],
   "source": [
    "song_relationships = {}\n",
    "\n",
    "t = 0\n",
    "iteration_times = []\n",
    "\n",
    "for idx, path in enumerate(fullpaths):\n",
    "    start_time = time.time()\n",
    "    if idx % 5 == 0 and idx > 0:\n",
    "        print(f\"processed {idx-5}-{idx} - time taken {t:.2f}\")\n",
    "        iteration_times.append(t)\n",
    "        t = 0\n",
    "    with open(path) as f:\n",
    "        mpd_slice = json.load(f)\n",
    "    playlists_data = mpd_slice['playlists']\n",
    "\n",
    "    for idx, playlist in enumerate(playlists_data):\n",
    "        r = playlist['num_albums'] / playlist['num_tracks']\n",
    "        if r < 0.0:\n",
    "            continue\n",
    "        songs = set(track['track_uri'] for track in playlist['tracks'])\n",
    "        t_per_p = len(songs)\n",
    "        albums = set(track['album_uri'] for track in playlist['tracks'])\n",
    "        alb_per_p = len(albums)\n",
    "        artists = set(track['artist_uri'] for track in playlist['tracks'])\n",
    "        art_per_p = len(artists)\n",
    "\n",
    "        if (min_tracks_per_playlist >= t_per_p) or \\\n",
    "             (t_per_p >= max_tracks_per_playlist) or \\\n",
    "                (min_albums_per_playlist >= alb_per_p) or \\\n",
    "                    (min_artists_per_playlist >= art_per_p):\n",
    "            continue\n",
    "\n",
    "        for song in songs:\n",
    "            if song not in song_relationships:\n",
    "                song_relationships[song] = {}\n",
    "                \n",
    "            for related_song in songs:\n",
    "                if related_song != song:  # avoid self-relationship\n",
    "                    if related_song in song_relationships[song]:\n",
    "                        song_relationships[song][related_song] += 1\n",
    "                    else:\n",
    "                        song_relationships[song][related_song] = 1\n",
    "    end_time = time.time()\n",
    "    t += end_time - start_time\n",
    "\n",
    "print(f'Number of songs processed: {len(song_relationships)}')\n"
   ]
  },
  {
   "cell_type": "code",
   "execution_count": 22,
   "metadata": {
    "tags": []
   },
   "outputs": [
    {
     "name": "stdout",
     "output_type": "stream",
     "text": [
      "Processed 0-5\n",
      "Processed 5-10\n",
      "Processed 10-15\n",
      "Processed 15-20\n",
      "Processed 20-25\n"
     ]
    }
   ],
   "source": [
    "song_data_map = {}\n",
    "for idx, path in enumerate(fullpaths):\n",
    "    if idx % 5 == 0 and idx > 0:\n",
    "        print(f\"Processed {idx-5}-{idx}\")  # Print the range every 5 chunks\n",
    "    with open(path) as f:\n",
    "        mpd_slice = json.load(f)\n",
    "    playlists_data = mpd_slice['playlists']\n",
    "    for playlist in playlists_data:\n",
    "        for track in playlist['tracks']:\n",
    "            song_uri = track['track_uri']\n",
    "            song_name = track['track_name']\n",
    "            album_name = track['album_name']\n",
    "            artist_name = track['artist_name']\n",
    "            if song_uri in song_relationships:\n",
    "                song_data_map[song_uri] = {'song_name': song_name, 'album_name': album_name, 'artist_name': artist_name}\n"
   ]
  },
  {
   "cell_type": "code",
   "execution_count": null,
   "metadata": {
    "tags": []
   },
   "outputs": [],
   "source": [
    "# song_relationships_sorted = {song: sorted(relations.items(), key=lambda x: x[1], reverse=True)\n",
    "#                              for song, relations in tqdm(song_relationships.items())}\n"
   ]
  },
  {
   "cell_type": "code",
   "execution_count": 9,
   "metadata": {
    "tags": []
   },
   "outputs": [
    {
     "name": "stderr",
     "output_type": "stream",
     "text": [
      "100%|██████████| 336949/336949 [02:10<00:00, 2578.70it/s] \n"
     ]
    }
   ],
   "source": [
    "song_relationships = {key: list(value.items()) for key, value in tqdm(song_relationships.items())}"
   ]
  },
  {
   "cell_type": "code",
   "execution_count": 11,
   "metadata": {
    "tags": []
   },
   "outputs": [
    {
     "name": "stdout",
     "output_type": "stream",
     "text": [
      "Song with the most connections: {'song_name': 'One Dance', 'album_name': 'Views'}\n",
      "Number of connections: 28652\n"
     ]
    }
   ],
   "source": [
    "max_connections = 0\n",
    "song_with_most_connections = None\n",
    "\n",
    "for song, connections in song_relationships.items():\n",
    "    num_connections = len(connections)\n",
    "    if num_connections > max_connections:\n",
    "        max_connections = num_connections\n",
    "        song_with_most_connections = song\n",
    "\n",
    "print(\"Song with the most connections:\", song_data_map[song_with_most_connections])\n",
    "print(\"Number of connections:\", max_connections)\n"
   ]
  },
  {
   "cell_type": "code",
   "execution_count": 12,
   "metadata": {
    "tags": []
   },
   "outputs": [
    {
     "name": "stdout",
     "output_type": "stream",
     "text": [
      "Processed 30000 rows.....\n",
      "Processed 60000 rows.....\n",
      "Processed 90000 rows.....\n",
      "Processed 120000 rows.....\n",
      "Processed 150000 rows.....\n",
      "Processed 180000 rows.....\n",
      "Processed 210000 rows.....\n",
      "Processed 240000 rows.....\n",
      "Processed 270000 rows.....\n",
      "Processed 300000 rows.....\n",
      "Processed 330000 rows.....\n"
     ]
    }
   ],
   "source": [
    "song_indices = {song_uri: idx for idx, song_uri in enumerate(song_relationships.keys())}\n",
    "num_songs = len(song_relationships)\n",
    "\n",
    "row_indices = []\n",
    "col_indices = []\n",
    "data = []\n",
    "\n",
    "for idx, (song_uri, relationships) in enumerate(song_relationships.items()):\n",
    "    row_idx = song_indices[song_uri]\n",
    "    sum_connections = np.sum([x[1] for x in relationships])\n",
    "    for related_song_uri, count in relationships:\n",
    "        col_idx = song_indices[related_song_uri]\n",
    "        row_indices.append(row_idx)\n",
    "        col_indices.append(col_idx)\n",
    "        data.append(count / sum_connections)\n",
    "\n",
    "    if idx % 30000 == 0 and idx > 0:\n",
    "        print(f\"Processed {idx} rows.....\")\n",
    "\n",
    "transition_matrix = csr_matrix((data, (row_indices, col_indices)), shape=(num_songs, num_songs), dtype=np.float64)\n"
   ]
  },
  {
   "cell_type": "code",
   "execution_count": 14,
   "metadata": {
    "tags": []
   },
   "outputs": [
    {
     "name": "stderr",
     "output_type": "stream",
     "text": [
      "100%|██████████| 30/30 [00:11<00:00,  2.65it/s]\n"
     ]
    },
    {
     "data": {
      "application/vnd.plotly.v1+json": {
       "config": {
        "plotlyServerURL": "https://plot.ly"
       },
       "data": [
        {
         "hovertemplate": "Song=Don't Let Me Down<br>Iteration=%{x}<br>Probability=%{y}<extra></extra>",
         "legendgroup": "Don't Let Me Down",
         "line": {
          "color": "#636efa",
          "dash": "solid"
         },
         "marker": {
          "symbol": "circle"
         },
         "mode": "lines",
         "name": "Don't Let Me Down",
         "orientation": "v",
         "showlegend": true,
         "type": "scatter",
         "x": [
          0,
          1,
          2,
          3,
          4,
          5,
          6,
          7,
          8,
          9,
          10,
          11,
          12,
          13,
          14,
          15,
          16,
          17,
          18,
          19,
          20,
          21,
          22,
          23,
          24,
          25,
          26,
          27,
          28,
          29,
          30
         ],
         "xaxis": "x",
         "y": [
          0.000001479997571827706,
          0.0001532095191316616,
          0.00020847340297040635,
          0.00023295747928890893,
          0.00024555415345831874,
          0.0002527716362380568,
          0.00025722109353934735,
          0.0002601088349640789,
          0.0002620544786805931,
          0.000263402762509203,
          0.00026435759883889606,
          0.00026504551279395036,
          0.0002655480504514472,
          0.0002659193963144458,
          0.0002661964556399412,
          0.00026640487884736866,
          0.0002665627949909575,
          0.0002666831981847195,
          0.0002667755135426035,
          0.00026684664782346084,
          0.0002669017077600659,
          0.00026694449912352834,
          0.00026697787824815546,
          0.00026700400259187685,
          0.00026702451119573633,
          0.0002670406558555772,
          0.00026705339725730616,
          0.00026706347596309104,
          0.0002670714651877562,
          0.0002670778102858706,
          0.0002670828584694343
         ],
         "yaxis": "y"
        },
        {
         "hovertemplate": "Song=Location<br>Iteration=%{x}<br>Probability=%{y}<extra></extra>",
         "legendgroup": "Location",
         "line": {
          "color": "#EF553B",
          "dash": "solid"
         },
         "marker": {
          "symbol": "circle"
         },
         "mode": "lines",
         "name": "Location",
         "orientation": "v",
         "showlegend": true,
         "type": "scatter",
         "x": [
          0,
          1,
          2,
          3,
          4,
          5,
          6,
          7,
          8,
          9,
          10,
          11,
          12,
          13,
          14,
          15,
          16,
          17,
          18,
          19,
          20,
          21,
          22,
          23,
          24,
          25,
          26,
          27,
          28,
          29,
          30
         ],
         "xaxis": "x",
         "y": [
          0.000005042931478367912,
          0.00015552442624888914,
          0.00020158484663862917,
          0.00022402499729943801,
          0.00023714262334953668,
          0.0002455087342555641,
          0.00025109548912335126,
          0.0002549240144546492,
          0.0002575915050133985,
          0.0002594728350946833,
          0.00026081305293742185,
          0.00026177629987795577,
          0.0002624743122479551,
          0.00026298406418751204,
          0.00026335910059633076,
          0.0002636369887643252,
          0.00026384429574505345,
          0.00026399995187972956,
          0.0002641175450999213,
          0.00026420689861984586,
          0.00026427516388931094,
          0.00026432758304697313,
          0.0002643680244206227,
          0.00026439936113235033,
          0.00026442374054049835,
          0.00026444277724929855,
          0.00026445769226897566,
          0.0002644694140006758,
          0.0002644786519894688,
          0.00026448595113065466,
          0.0002644917317578734
         ],
         "yaxis": "y"
        },
        {
         "hovertemplate": "Song=Thinking Out Loud<br>Iteration=%{x}<br>Probability=%{y}<extra></extra>",
         "legendgroup": "Thinking Out Loud",
         "line": {
          "color": "#00cc96",
          "dash": "solid"
         },
         "marker": {
          "symbol": "circle"
         },
         "mode": "lines",
         "name": "Thinking Out Loud",
         "orientation": "v",
         "showlegend": true,
         "type": "scatter",
         "x": [
          0,
          1,
          2,
          3,
          4,
          5,
          6,
          7,
          8,
          9,
          10,
          11,
          12,
          13,
          14,
          15,
          16,
          17,
          18,
          19,
          20,
          21,
          22,
          23,
          24,
          25,
          26,
          27,
          28,
          29,
          30
         ],
         "xaxis": "x",
         "y": [
          0.0000033723261757769927,
          0.00016439988611612622,
          0.00018781481949056676,
          0.00020149988015812187,
          0.0002089133967559059,
          0.0002132338447799908,
          0.0002158840199628644,
          0.00021757794464281175,
          0.00021869988597783275,
          0.00021946669909619622,
          0.0002200053689174627,
          0.00022039273932332378,
          0.00022067679754042907,
          0.00022088844426345882,
          0.00022104817459594163,
          0.00022116996385119868,
          0.00022126358386506784,
          0.0002213360194832964,
          0.00022139235808829252,
          0.00022143636351369144,
          0.00022147085635151634,
          0.0002214979724674421,
          0.00022151934289869017,
          0.00022153622168783873,
          0.00022154957838055038,
          0.00022156016598921162,
          0.00022156857157187542,
          0.00022157525427154924,
          0.00022158057417240252,
          0.00022158481434508226,
          0.0002215881977868868
         ],
         "yaxis": "y"
        },
        {
         "hovertemplate": "Song=Roses<br>Iteration=%{x}<br>Probability=%{y}<extra></extra>",
         "legendgroup": "Roses",
         "line": {
          "color": "#ab63fa",
          "dash": "solid"
         },
         "marker": {
          "symbol": "circle"
         },
         "mode": "lines",
         "name": "Roses",
         "orientation": "v",
         "showlegend": true,
         "type": "scatter",
         "x": [
          0,
          1,
          2,
          3,
          4,
          5,
          6,
          7,
          8,
          9,
          10,
          11,
          12,
          13,
          14,
          15,
          16,
          17,
          18,
          19,
          20,
          21,
          22,
          23,
          24,
          25,
          26,
          27,
          28,
          29,
          30
         ],
         "xaxis": "x",
         "y": [
          0.0000046867966190835635,
          0.0001635299802351302,
          0.00021731728218932436,
          0.0002407371250256031,
          0.00025260152346588487,
          0.00025934987245943356,
          0.00026350505566969995,
          0.00026620974171059154,
          0.00026804206123820057,
          0.0002693204687686845,
          0.00027023242997351764,
          0.000270894232270715,
          0.000271381056501775,
          0.00027174312597532426,
          0.000272014876896952,
          0.00027222041883414054,
          0.0002723769192486259,
          0.0002724967733410794,
          0.00027258903497937443,
          0.00027266038278839547,
          0.00027271578529481575,
          0.00027275896642191483,
          0.00027279273577572783,
          0.0002728192257578192,
          0.00027284006351941,
          0.0002728564967729637,
          0.0002728694865715664,
          0.0002728797762168336,
          0.00027288794276976187,
          0.0002728944357866868,
          0.0002728996066095536
         ],
         "yaxis": "y"
        },
        {
         "hovertemplate": "Song=Redbone<br>Iteration=%{x}<br>Probability=%{y}<extra></extra>",
         "legendgroup": "Redbone",
         "line": {
          "color": "#FFA15A",
          "dash": "solid"
         },
         "marker": {
          "symbol": "circle"
         },
         "mode": "lines",
         "name": "Redbone",
         "orientation": "v",
         "showlegend": true,
         "type": "scatter",
         "x": [
          0,
          1,
          2,
          3,
          4,
          5,
          6,
          7,
          8,
          9,
          10,
          11,
          12,
          13,
          14,
          15,
          16,
          17,
          18,
          19,
          20,
          21,
          22,
          23,
          24,
          25,
          26,
          27,
          28,
          29,
          30
         ],
         "xaxis": "x",
         "y": [
          0.0000014756566646468518,
          0.00016414741864069404,
          0.00019768461268430796,
          0.0002131433225416312,
          0.00022209220953062976,
          0.00022794255531823348,
          0.00023196376530033698,
          0.00023479078896680532,
          0.00023680271266103288,
          0.000238246542214524,
          0.00023928986859585158,
          0.00024004864554498197,
          0.00024060396329161126,
          0.0002410129346629008,
          0.0002413160163273327,
          0.00024154201999968957,
          0.00024171157469223694,
          0.00024183953264166733,
          0.0002419366485286448,
          0.00024201075616700184,
          0.00024206759638777976,
          0.000242111402016062,
          0.00024214531311941875,
          0.000242171673231272,
          0.00024219224177574332,
          0.00024220834723965047,
          0.00024222099825232558,
          0.0002422309646141654,
          0.00024223883675734783,
          0.00024224506964173938,
          0.00024225001535399743
         ],
         "yaxis": "y"
        },
        {
         "hovertemplate": "Song=Lean On (feat. MØ & DJ Snake)<br>Iteration=%{x}<br>Probability=%{y}<extra></extra>",
         "legendgroup": "Lean On (feat. MØ & DJ Snake)",
         "line": {
          "color": "#19d3f3",
          "dash": "solid"
         },
         "marker": {
          "symbol": "circle"
         },
         "mode": "lines",
         "name": "Lean On (feat. MØ & DJ Snake)",
         "orientation": "v",
         "showlegend": true,
         "type": "scatter",
         "x": [
          0,
          1,
          2,
          3,
          4,
          5,
          6,
          7,
          8,
          9,
          10,
          11,
          12,
          13,
          14,
          15,
          16,
          17,
          18,
          19,
          20,
          21,
          22,
          23,
          24,
          25,
          26,
          27,
          28,
          29,
          30
         ],
         "xaxis": "x",
         "y": [
          0.000004309192509847617,
          0.00017808261685799479,
          0.00021044069187823908,
          0.0002237821093901054,
          0.00023051698698998323,
          0.00023436563876338786,
          0.00023676248708788623,
          0.00023834924671055772,
          0.0002394462713046065,
          0.00024022837065156255,
          0.00024079830355867597,
          0.00024122028822715641,
          0.00024153646250341131,
          0.00024177553742319862,
          0.00024195764180465825,
          0.00024209719372444624,
          0.00024220468967082383,
          0.00024228786713337692,
          0.00024235248621379285,
          0.00024240286941363133,
          0.00024244228228426285,
          0.00024247320623670983,
          0.00024249753655628697,
          0.00024251672758904754,
          0.00024253190008113206,
          0.00024254392109613576,
          0.00024255346388203227,
          0.00024256105296535015,
          0.0002425670982898502,
          0.00024257192118264892,
          0.00024257577419181298
         ],
         "yaxis": "y"
        },
        {
         "hovertemplate": "Song=Riptide<br>Iteration=%{x}<br>Probability=%{y}<extra></extra>",
         "legendgroup": "Riptide",
         "line": {
          "color": "#FF6692",
          "dash": "solid"
         },
         "marker": {
          "symbol": "circle"
         },
         "mode": "lines",
         "name": "Riptide",
         "orientation": "v",
         "showlegend": true,
         "type": "scatter",
         "x": [
          0,
          1,
          2,
          3,
          4,
          5,
          6,
          7,
          8,
          9,
          10,
          11,
          12,
          13,
          14,
          15,
          16,
          17,
          18,
          19,
          20,
          21,
          22,
          23,
          24,
          25,
          26,
          27,
          28,
          29,
          30
         ],
         "xaxis": "x",
         "y": [
          0.000004824224920517952,
          0.00018240624940307906,
          0.0002343964375261362,
          0.00025373749166020666,
          0.00026216868531499156,
          0.00026632888475671464,
          0.00026859667338652413,
          0.00026994342687882474,
          0.0002708050064566787,
          0.00027139176096533556,
          0.0002718117123904681,
          0.00027212368800906236,
          0.0002723616801724364,
          0.00027254655371224357,
          0.00027269189595172317,
          0.0002728070458313594,
          0.00027289872070507596,
          0.0002729719263897242,
          0.00027303049073567823,
          0.0002730773933735275,
          0.00027311498104819133,
          0.00027314511585160926,
          0.0002731692820403751,
          0.00027318866584736607,
          0.00027320421671392906,
          0.00027321669512491467,
          0.0002732267104158552,
          0.0002732347508677179,
          0.00027324120775995775,
          0.0002732463946352898,
          0.00027325056274393386
         ],
         "yaxis": "y"
        },
        {
         "hovertemplate": "Song=HUMBLE.<br>Iteration=%{x}<br>Probability=%{y}<extra></extra>",
         "legendgroup": "HUMBLE.",
         "line": {
          "color": "#B6E880",
          "dash": "solid"
         },
         "marker": {
          "symbol": "circle"
         },
         "mode": "lines",
         "name": "HUMBLE.",
         "orientation": "v",
         "showlegend": true,
         "type": "scatter",
         "x": [
          0,
          1,
          2,
          3,
          4,
          5,
          6,
          7,
          8,
          9,
          10,
          11,
          12,
          13,
          14,
          15,
          16,
          17,
          18,
          19,
          20,
          21,
          22,
          23,
          24,
          25,
          26,
          27,
          28,
          29,
          30
         ],
         "xaxis": "x",
         "y": [
          0.000005817599065396399,
          0.00018791600789704358,
          0.0002441796317619926,
          0.0002776087956926813,
          0.00029879650498663773,
          0.00031294051399134904,
          0.00032261663288635873,
          0.00032932443688409556,
          0.0003340156797462024,
          0.000337320113829686,
          0.00033966305724219246,
          0.0003413350300000867,
          0.00034253596375034855,
          0.00034340426457849286,
          0.00034403626237318794,
          0.0003444993570397318,
          0.00034484096153857615,
          0.00034509461544544856,
          0.00034528418226718584,
          0.0003454267431515961,
          0.0003455346003242424,
          0.00034561667028028807,
          0.00034567945711534346,
          0.0003457277358598941,
          0.00034576503469397203,
          0.00034579397707561307,
          0.00034581652584701967,
          0.00034583415841965944,
          0.0003458479932523776,
          0.0003458588817241053,
          0.0003458674752836508
         ],
         "yaxis": "y"
        },
        {
         "hovertemplate": "Song=Closer<br>Iteration=%{x}<br>Probability=%{y}<extra></extra>",
         "legendgroup": "Closer",
         "line": {
          "color": "#FF97FF",
          "dash": "solid"
         },
         "marker": {
          "symbol": "circle"
         },
         "mode": "lines",
         "name": "Closer",
         "orientation": "v",
         "showlegend": true,
         "type": "scatter",
         "x": [
          0,
          1,
          2,
          3,
          4,
          5,
          6,
          7,
          8,
          9,
          10,
          11,
          12,
          13,
          14,
          15,
          16,
          17,
          18,
          19,
          20,
          21,
          22,
          23,
          24,
          25,
          26,
          27,
          28,
          29,
          30
         ],
         "xaxis": "x",
         "y": [
          0.0000045618104949916454,
          0.00018910453129068587,
          0.000259850420169504,
          0.0002929905769864528,
          0.00031083307787308395,
          0.0003213551934641075,
          0.000327940607622222,
          0.0003322384425218315,
          0.0003351324873748441,
          0.00033712936918050776,
          0.00033853446307331535,
          0.0003395391824090077,
          0.00034026734570114366,
          0.0003408011475962462,
          0.0003411963434922768,
          0.0003414914506037753,
          0.0003417134950262089,
          0.0003418816961026718,
          0.000342009882137679,
          0.0003421081054648638,
          0.00034218374067487725,
          0.00034224224252354127,
          0.0003422876758162437,
          0.00034232309015506485,
          0.00034235078770414833,
          0.00034237251629409506,
          0.00034238960986176685,
          0.0003424030913820887,
          0.0003424137488510891,
          0.0003424221917501226,
          0.00034242889326655565
         ],
         "yaxis": "y"
        },
        {
         "hovertemplate": "Song=One Dance<br>Iteration=%{x}<br>Probability=%{y}<extra></extra>",
         "legendgroup": "One Dance",
         "line": {
          "color": "#FECB52",
          "dash": "solid"
         },
         "marker": {
          "symbol": "circle"
         },
         "mode": "lines",
         "name": "One Dance",
         "orientation": "v",
         "showlegend": true,
         "type": "scatter",
         "x": [
          0,
          1,
          2,
          3,
          4,
          5,
          6,
          7,
          8,
          9,
          10,
          11,
          12,
          13,
          14,
          15,
          16,
          17,
          18,
          19,
          20,
          21,
          22,
          23,
          24,
          25,
          26,
          27,
          28,
          29,
          30
         ],
         "xaxis": "x",
         "y": [
          0.000005752013569136201,
          0.0001933611152566626,
          0.0002679910751082541,
          0.0003050297549919796,
          0.0003260412530358754,
          0.0003389372823638534,
          0.00034725666091463644,
          0.0003528012893668088,
          0.0003565816031550327,
          0.00035920331336353276,
          0.0003610464885012221,
          0.00036235734926342645,
          0.00036329914828961505,
          0.00036398205604350447,
          0.0003644814777944073,
          0.0003648496378190745,
          0.00036512308054492134,
          0.0003653276172384549,
          0.00036548163603577935,
          0.00036559834366905314,
          0.00036568729941908757,
          0.0003657554743748764,
          0.0003658079890010119,
          0.0003658486307120627,
          0.00036588021976890133,
          0.0003659048698062116,
          0.00036592417463736935,
          0.00036593934312306996,
          0.0003659512972053304,
          0.0003659607436441281,
          0.0003659682268558722
         ],
         "yaxis": "y"
        }
       ],
       "layout": {
        "legend": {
         "title": {
          "text": "Song"
         },
         "tracegroupgap": 0
        },
        "template": {
         "data": {
          "bar": [
           {
            "error_x": {
             "color": "#2a3f5f"
            },
            "error_y": {
             "color": "#2a3f5f"
            },
            "marker": {
             "line": {
              "color": "#E5ECF6",
              "width": 0.5
             },
             "pattern": {
              "fillmode": "overlay",
              "size": 10,
              "solidity": 0.2
             }
            },
            "type": "bar"
           }
          ],
          "barpolar": [
           {
            "marker": {
             "line": {
              "color": "#E5ECF6",
              "width": 0.5
             },
             "pattern": {
              "fillmode": "overlay",
              "size": 10,
              "solidity": 0.2
             }
            },
            "type": "barpolar"
           }
          ],
          "carpet": [
           {
            "aaxis": {
             "endlinecolor": "#2a3f5f",
             "gridcolor": "white",
             "linecolor": "white",
             "minorgridcolor": "white",
             "startlinecolor": "#2a3f5f"
            },
            "baxis": {
             "endlinecolor": "#2a3f5f",
             "gridcolor": "white",
             "linecolor": "white",
             "minorgridcolor": "white",
             "startlinecolor": "#2a3f5f"
            },
            "type": "carpet"
           }
          ],
          "choropleth": [
           {
            "colorbar": {
             "outlinewidth": 0,
             "ticks": ""
            },
            "type": "choropleth"
           }
          ],
          "contour": [
           {
            "colorbar": {
             "outlinewidth": 0,
             "ticks": ""
            },
            "colorscale": [
             [
              0,
              "#0d0887"
             ],
             [
              0.1111111111111111,
              "#46039f"
             ],
             [
              0.2222222222222222,
              "#7201a8"
             ],
             [
              0.3333333333333333,
              "#9c179e"
             ],
             [
              0.4444444444444444,
              "#bd3786"
             ],
             [
              0.5555555555555556,
              "#d8576b"
             ],
             [
              0.6666666666666666,
              "#ed7953"
             ],
             [
              0.7777777777777778,
              "#fb9f3a"
             ],
             [
              0.8888888888888888,
              "#fdca26"
             ],
             [
              1,
              "#f0f921"
             ]
            ],
            "type": "contour"
           }
          ],
          "contourcarpet": [
           {
            "colorbar": {
             "outlinewidth": 0,
             "ticks": ""
            },
            "type": "contourcarpet"
           }
          ],
          "heatmap": [
           {
            "colorbar": {
             "outlinewidth": 0,
             "ticks": ""
            },
            "colorscale": [
             [
              0,
              "#0d0887"
             ],
             [
              0.1111111111111111,
              "#46039f"
             ],
             [
              0.2222222222222222,
              "#7201a8"
             ],
             [
              0.3333333333333333,
              "#9c179e"
             ],
             [
              0.4444444444444444,
              "#bd3786"
             ],
             [
              0.5555555555555556,
              "#d8576b"
             ],
             [
              0.6666666666666666,
              "#ed7953"
             ],
             [
              0.7777777777777778,
              "#fb9f3a"
             ],
             [
              0.8888888888888888,
              "#fdca26"
             ],
             [
              1,
              "#f0f921"
             ]
            ],
            "type": "heatmap"
           }
          ],
          "heatmapgl": [
           {
            "colorbar": {
             "outlinewidth": 0,
             "ticks": ""
            },
            "colorscale": [
             [
              0,
              "#0d0887"
             ],
             [
              0.1111111111111111,
              "#46039f"
             ],
             [
              0.2222222222222222,
              "#7201a8"
             ],
             [
              0.3333333333333333,
              "#9c179e"
             ],
             [
              0.4444444444444444,
              "#bd3786"
             ],
             [
              0.5555555555555556,
              "#d8576b"
             ],
             [
              0.6666666666666666,
              "#ed7953"
             ],
             [
              0.7777777777777778,
              "#fb9f3a"
             ],
             [
              0.8888888888888888,
              "#fdca26"
             ],
             [
              1,
              "#f0f921"
             ]
            ],
            "type": "heatmapgl"
           }
          ],
          "histogram": [
           {
            "marker": {
             "pattern": {
              "fillmode": "overlay",
              "size": 10,
              "solidity": 0.2
             }
            },
            "type": "histogram"
           }
          ],
          "histogram2d": [
           {
            "colorbar": {
             "outlinewidth": 0,
             "ticks": ""
            },
            "colorscale": [
             [
              0,
              "#0d0887"
             ],
             [
              0.1111111111111111,
              "#46039f"
             ],
             [
              0.2222222222222222,
              "#7201a8"
             ],
             [
              0.3333333333333333,
              "#9c179e"
             ],
             [
              0.4444444444444444,
              "#bd3786"
             ],
             [
              0.5555555555555556,
              "#d8576b"
             ],
             [
              0.6666666666666666,
              "#ed7953"
             ],
             [
              0.7777777777777778,
              "#fb9f3a"
             ],
             [
              0.8888888888888888,
              "#fdca26"
             ],
             [
              1,
              "#f0f921"
             ]
            ],
            "type": "histogram2d"
           }
          ],
          "histogram2dcontour": [
           {
            "colorbar": {
             "outlinewidth": 0,
             "ticks": ""
            },
            "colorscale": [
             [
              0,
              "#0d0887"
             ],
             [
              0.1111111111111111,
              "#46039f"
             ],
             [
              0.2222222222222222,
              "#7201a8"
             ],
             [
              0.3333333333333333,
              "#9c179e"
             ],
             [
              0.4444444444444444,
              "#bd3786"
             ],
             [
              0.5555555555555556,
              "#d8576b"
             ],
             [
              0.6666666666666666,
              "#ed7953"
             ],
             [
              0.7777777777777778,
              "#fb9f3a"
             ],
             [
              0.8888888888888888,
              "#fdca26"
             ],
             [
              1,
              "#f0f921"
             ]
            ],
            "type": "histogram2dcontour"
           }
          ],
          "mesh3d": [
           {
            "colorbar": {
             "outlinewidth": 0,
             "ticks": ""
            },
            "type": "mesh3d"
           }
          ],
          "parcoords": [
           {
            "line": {
             "colorbar": {
              "outlinewidth": 0,
              "ticks": ""
             }
            },
            "type": "parcoords"
           }
          ],
          "pie": [
           {
            "automargin": true,
            "type": "pie"
           }
          ],
          "scatter": [
           {
            "fillpattern": {
             "fillmode": "overlay",
             "size": 10,
             "solidity": 0.2
            },
            "type": "scatter"
           }
          ],
          "scatter3d": [
           {
            "line": {
             "colorbar": {
              "outlinewidth": 0,
              "ticks": ""
             }
            },
            "marker": {
             "colorbar": {
              "outlinewidth": 0,
              "ticks": ""
             }
            },
            "type": "scatter3d"
           }
          ],
          "scattercarpet": [
           {
            "marker": {
             "colorbar": {
              "outlinewidth": 0,
              "ticks": ""
             }
            },
            "type": "scattercarpet"
           }
          ],
          "scattergeo": [
           {
            "marker": {
             "colorbar": {
              "outlinewidth": 0,
              "ticks": ""
             }
            },
            "type": "scattergeo"
           }
          ],
          "scattergl": [
           {
            "marker": {
             "colorbar": {
              "outlinewidth": 0,
              "ticks": ""
             }
            },
            "type": "scattergl"
           }
          ],
          "scattermapbox": [
           {
            "marker": {
             "colorbar": {
              "outlinewidth": 0,
              "ticks": ""
             }
            },
            "type": "scattermapbox"
           }
          ],
          "scatterpolar": [
           {
            "marker": {
             "colorbar": {
              "outlinewidth": 0,
              "ticks": ""
             }
            },
            "type": "scatterpolar"
           }
          ],
          "scatterpolargl": [
           {
            "marker": {
             "colorbar": {
              "outlinewidth": 0,
              "ticks": ""
             }
            },
            "type": "scatterpolargl"
           }
          ],
          "scatterternary": [
           {
            "marker": {
             "colorbar": {
              "outlinewidth": 0,
              "ticks": ""
             }
            },
            "type": "scatterternary"
           }
          ],
          "surface": [
           {
            "colorbar": {
             "outlinewidth": 0,
             "ticks": ""
            },
            "colorscale": [
             [
              0,
              "#0d0887"
             ],
             [
              0.1111111111111111,
              "#46039f"
             ],
             [
              0.2222222222222222,
              "#7201a8"
             ],
             [
              0.3333333333333333,
              "#9c179e"
             ],
             [
              0.4444444444444444,
              "#bd3786"
             ],
             [
              0.5555555555555556,
              "#d8576b"
             ],
             [
              0.6666666666666666,
              "#ed7953"
             ],
             [
              0.7777777777777778,
              "#fb9f3a"
             ],
             [
              0.8888888888888888,
              "#fdca26"
             ],
             [
              1,
              "#f0f921"
             ]
            ],
            "type": "surface"
           }
          ],
          "table": [
           {
            "cells": {
             "fill": {
              "color": "#EBF0F8"
             },
             "line": {
              "color": "white"
             }
            },
            "header": {
             "fill": {
              "color": "#C8D4E3"
             },
             "line": {
              "color": "white"
             }
            },
            "type": "table"
           }
          ]
         },
         "layout": {
          "annotationdefaults": {
           "arrowcolor": "#2a3f5f",
           "arrowhead": 0,
           "arrowwidth": 1
          },
          "autotypenumbers": "strict",
          "coloraxis": {
           "colorbar": {
            "outlinewidth": 0,
            "ticks": ""
           }
          },
          "colorscale": {
           "diverging": [
            [
             0,
             "#8e0152"
            ],
            [
             0.1,
             "#c51b7d"
            ],
            [
             0.2,
             "#de77ae"
            ],
            [
             0.3,
             "#f1b6da"
            ],
            [
             0.4,
             "#fde0ef"
            ],
            [
             0.5,
             "#f7f7f7"
            ],
            [
             0.6,
             "#e6f5d0"
            ],
            [
             0.7,
             "#b8e186"
            ],
            [
             0.8,
             "#7fbc41"
            ],
            [
             0.9,
             "#4d9221"
            ],
            [
             1,
             "#276419"
            ]
           ],
           "sequential": [
            [
             0,
             "#0d0887"
            ],
            [
             0.1111111111111111,
             "#46039f"
            ],
            [
             0.2222222222222222,
             "#7201a8"
            ],
            [
             0.3333333333333333,
             "#9c179e"
            ],
            [
             0.4444444444444444,
             "#bd3786"
            ],
            [
             0.5555555555555556,
             "#d8576b"
            ],
            [
             0.6666666666666666,
             "#ed7953"
            ],
            [
             0.7777777777777778,
             "#fb9f3a"
            ],
            [
             0.8888888888888888,
             "#fdca26"
            ],
            [
             1,
             "#f0f921"
            ]
           ],
           "sequentialminus": [
            [
             0,
             "#0d0887"
            ],
            [
             0.1111111111111111,
             "#46039f"
            ],
            [
             0.2222222222222222,
             "#7201a8"
            ],
            [
             0.3333333333333333,
             "#9c179e"
            ],
            [
             0.4444444444444444,
             "#bd3786"
            ],
            [
             0.5555555555555556,
             "#d8576b"
            ],
            [
             0.6666666666666666,
             "#ed7953"
            ],
            [
             0.7777777777777778,
             "#fb9f3a"
            ],
            [
             0.8888888888888888,
             "#fdca26"
            ],
            [
             1,
             "#f0f921"
            ]
           ]
          },
          "colorway": [
           "#636efa",
           "#EF553B",
           "#00cc96",
           "#ab63fa",
           "#FFA15A",
           "#19d3f3",
           "#FF6692",
           "#B6E880",
           "#FF97FF",
           "#FECB52"
          ],
          "font": {
           "color": "#2a3f5f"
          },
          "geo": {
           "bgcolor": "white",
           "lakecolor": "white",
           "landcolor": "#E5ECF6",
           "showlakes": true,
           "showland": true,
           "subunitcolor": "white"
          },
          "hoverlabel": {
           "align": "left"
          },
          "hovermode": "closest",
          "mapbox": {
           "style": "light"
          },
          "paper_bgcolor": "white",
          "plot_bgcolor": "#E5ECF6",
          "polar": {
           "angularaxis": {
            "gridcolor": "white",
            "linecolor": "white",
            "ticks": ""
           },
           "bgcolor": "#E5ECF6",
           "radialaxis": {
            "gridcolor": "white",
            "linecolor": "white",
            "ticks": ""
           }
          },
          "scene": {
           "xaxis": {
            "backgroundcolor": "#E5ECF6",
            "gridcolor": "white",
            "gridwidth": 2,
            "linecolor": "white",
            "showbackground": true,
            "ticks": "",
            "zerolinecolor": "white"
           },
           "yaxis": {
            "backgroundcolor": "#E5ECF6",
            "gridcolor": "white",
            "gridwidth": 2,
            "linecolor": "white",
            "showbackground": true,
            "ticks": "",
            "zerolinecolor": "white"
           },
           "zaxis": {
            "backgroundcolor": "#E5ECF6",
            "gridcolor": "white",
            "gridwidth": 2,
            "linecolor": "white",
            "showbackground": true,
            "ticks": "",
            "zerolinecolor": "white"
           }
          },
          "shapedefaults": {
           "line": {
            "color": "#2a3f5f"
           }
          },
          "ternary": {
           "aaxis": {
            "gridcolor": "white",
            "linecolor": "white",
            "ticks": ""
           },
           "baxis": {
            "gridcolor": "white",
            "linecolor": "white",
            "ticks": ""
           },
           "bgcolor": "#E5ECF6",
           "caxis": {
            "gridcolor": "white",
            "linecolor": "white",
            "ticks": ""
           }
          },
          "title": {
           "x": 0.05
          },
          "xaxis": {
           "automargin": true,
           "gridcolor": "white",
           "linecolor": "white",
           "ticks": "",
           "title": {
            "standoff": 15
           },
           "zerolinecolor": "white",
           "zerolinewidth": 2
          },
          "yaxis": {
           "automargin": true,
           "gridcolor": "white",
           "linecolor": "white",
           "ticks": "",
           "title": {
            "standoff": 15
           },
           "zerolinecolor": "white",
           "zerolinewidth": 2
          }
         }
        },
        "title": {
         "text": "Convergence of Most Popular Songs"
        },
        "xaxis": {
         "anchor": "y",
         "domain": [
          0,
          1
         ],
         "title": {
          "text": "Iteration"
         }
        },
        "yaxis": {
         "anchor": "x",
         "domain": [
          0,
          1
         ],
         "title": {
          "text": "Probability"
         }
        }
       }
      }
     },
     "metadata": {},
     "output_type": "display_data"
    }
   ],
   "source": [
    "n = 10\n",
    "\n",
    "popularity = np.sum(transition_matrix, axis=0)\n",
    "top_n_indices = np.argsort(popularity.A1)[-n:]\n",
    "\n",
    "init = np.random.rand(1, num_songs)\n",
    "init = init / np.sum(init)\n",
    "probs = [init]\n",
    "p = csr_matrix(init)\n",
    "\n",
    "damping = True\n",
    "if damping:\n",
    "    damping_factor = 0.85\n",
    "    random_jump_vector = csr_matrix(np.ones(num_songs)/num_songs)\n",
    "    for i in tqdm(range(30)):\n",
    "        p = damping_factor * np.dot(p, transition_matrix) + (1 - damping_factor) * random_jump_vector\n",
    "        probs.append(p)\n",
    "else:\n",
    "    for i in tqdm(range(30)):\n",
    "        p = np.dot(p, transition_matrix)\n",
    "        probs.append(p)\n",
    "\n",
    "\n",
    "plot_data = []\n",
    "for i in top_n_indices:\n",
    "    song_name = song_data_map[list(song_relationships)[i]][\"song_name\"]\n",
    "    for step_num, step in enumerate(probs):\n",
    "        plot_data.append({'Iteration': step_num, 'Probability': step[0, i], 'Song': song_name})\n",
    "\n",
    "df = pd.DataFrame(plot_data)\n",
    "fig = px.line(df, x='Iteration', y='Probability', color='Song', title='Convergence of Most Popular Songs')\n",
    "fig.show()"
   ]
  },
  {
   "cell_type": "code",
   "execution_count": 15,
   "metadata": {},
   "outputs": [],
   "source": [
    "A = transition_matrix.copy()"
   ]
  },
  {
   "cell_type": "code",
   "execution_count": null,
   "metadata": {},
   "outputs": [],
   "source": [
    "# def matrix_power_iterative(A, n):\n",
    "    \n",
    "#     result = eye(A.shape[0], format='csr')  # Start with the identity matrix\n",
    "#     base = A.copy()\n",
    "\n",
    "#     steps = int(np.log2(n)) + 1  # Approximate number of steps\n",
    "#     pbar = tqdm(total=steps, desc=\"Computing power\")\n",
    "\n",
    "#     while n > 0:\n",
    "#         if n % 2 == 1:  # n is odd\n",
    "#             result = result.dot(base)\n",
    "#             pbar.update(1)\n",
    "#         base = base.dot(base)\n",
    "#         n //= 2\n",
    "\n",
    "#     pbar.close()\n",
    "#     return result"
   ]
  },
  {
   "cell_type": "code",
   "execution_count": 45,
   "metadata": {},
   "outputs": [],
   "source": [
    "def user_playlist_vector(playlist_songs, song_indices, num_songs):\n",
    "    user_vector = np.zeros(num_songs)\n",
    "    for song in playlist_songs:\n",
    "        user_vector[song_indices[song]] = 1/len(playlist_songs)\n",
    "    return user_vector\n",
    "\n",
    "def get_recommendation_vector(user_vector, transition_matrix, steps, damping = True, damping_factor = 0.85):\n",
    "    p = user_vector\n",
    "    p = csr_matrix(p)\n",
    "    if damping:\n",
    "        random_jump_vector = csr_matrix(np.ones(num_songs) / num_songs)\n",
    "        for _ in range(steps):\n",
    "            p = damping_factor * np.dot(p, transition_matrix) + (1 - damping_factor) * random_jump_vector\n",
    "    else:\n",
    "        for _ in range(steps):\n",
    "            p = np.dot(p, transition_matrix)\n",
    "    return p.toarray()[0]\n",
    "\n",
    "def top_n_recommendations(recommendation_vector, song_data_map, n):\n",
    "    top_indices = np.argsort(recommendation_vector)[-n:]\n",
    "    top_songs = [song_data_map[list(song_relationships)[i]] for i in top_indices]\n",
    "    return top_songs\n",
    "\n",
    "def recommend_songs(user_playlist, song_indices, transition_matrix, song_data_map, steps, n=10):\n",
    "    user_vector = user_playlist_vector(user_playlist, song_indices, len(song_indices))\n",
    "    recommendation_vector = get_recommendation_vector(user_vector, transition_matrix, steps, damping = True, damping_factor = 0.85)\n",
    "    return top_n_recommendations(recommendation_vector, song_data_map, n)\n"
   ]
  },
  {
   "cell_type": "code",
   "execution_count": 46,
   "metadata": {},
   "outputs": [
    {
     "name": "stdout",
     "output_type": "stream",
     "text": [
      "spotify:track:1fQ2pN9MLxxi399nlHEth7 {'song_name': 'Zip-A-Dee-Doo-Dah - From \"Song Of The South\"', 'album_name': \"Disney's Greatest Volume 1\", 'artist_name': 'James Baskett'}\n",
      "Song: Congratulations\n",
      "Album: Stoney\n",
      "Artist: Post Malone\n",
      "----------------------------------------\n",
      "Song: Broccoli (feat. Lil Yachty)\n",
      "Album: Big Baby DRAM\n",
      "Artist: DRAM\n",
      "----------------------------------------\n",
      "Song: HUMBLE.\n",
      "Album: DAMN.\n",
      "Artist: Kendrick Lamar\n",
      "----------------------------------------\n",
      "Song: Closer\n",
      "Album: Closer\n",
      "Artist: The Chainsmokers\n",
      "----------------------------------------\n",
      "Song: One Dance\n",
      "Album: Views\n",
      "Artist: Drake\n",
      "----------------------------------------\n"
     ]
    }
   ],
   "source": [
    "playlist = random.sample(list(song_relationships), 1)\n",
    "\n",
    "for i, j in zip(playlist, [song_data_map[x] for x in playlist]):\n",
    "    print(i, j)\n",
    "\n",
    "\n",
    "recommended_songs = recommend_songs(playlist, song_indices, A, song_data_map, 15, n=5)\n",
    "for song in recommended_songs:\n",
    "    print(f\"Song: {song['song_name']}\\nAlbum: {song['album_name']}\\nArtist: {song['artist_name']}\\n{'-'*40}\")    "
   ]
  },
  {
   "cell_type": "code",
   "execution_count": null,
   "metadata": {},
   "outputs": [],
   "source": [
    "import tkinter as tk\n",
    "from tkinter import ttk\n",
    "\n",
    "def search_songs(query):\n",
    "    # Filter songs based on query\n",
    "    filtered_songs = [name for name in song_data_map if query.lower() in song_data_map[name]['song_name'].lower()]\n",
    "    return filtered_songs[:10]  # return top 10 matches\n",
    "\n",
    "def on_search(event):\n",
    "    # Event handler for song search\n",
    "    query = search_entry.get()\n",
    "    results = search_songs(query)\n",
    "    \n",
    "    # Update the listbox with search results\n",
    "    listbox.delete(0, tk.END)\n",
    "    for song in results:\n",
    "        listbox.insert(tk.END, song_data_map[song]['song_name'])\n",
    "\n",
    "def get_recommendations():\n",
    "    # Get selected songs from listbox\n",
    "    selected_songs = [listbox.get(idx) for idx in listbox.curselection()]\n",
    "    \n",
    "    recommended_songs = recommend_songs(selected_songs, song_indices, transition_matrix, song_data_map, n=10)\n",
    "    \n",
    "    # Update the listbox with recommended songs\n",
    "    listbox.delete(0, tk.END)\n",
    "    for song in recommended_songs:\n",
    "        listbox.insert(tk.END, song)\n",
    "\n",
    "# Set up the main window\n",
    "root = tk.Tk()\n",
    "root.title(\"Song Recommendation System\")\n",
    "\n",
    "# Search entry\n",
    "search_entry = ttk.Entry(root)\n",
    "search_entry.pack(pady=20)\n",
    "search_entry.bind('<KeyRelease>', on_search)\n",
    "\n",
    "# Listbox to display songs\n",
    "listbox = tk.Listbox(root, selectmode=tk.MULTIPLE, width=50, height=20)\n",
    "listbox.pack(pady=20)\n",
    "\n",
    "# Recommendation button\n",
    "recommend_button = ttk.Button(root, text=\"Get Recommendations\", command=get_recommendations)\n",
    "recommend_button.pack(pady=20)\n",
    "\n",
    "root.mainloop()\n"
   ]
  }
 ],
 "metadata": {
  "kernelspec": {
   "display_name": "Python 3 (ipykernel)",
   "language": "python",
   "name": "python3"
  },
  "language_info": {
   "codemirror_mode": {
    "name": "ipython",
    "version": 3
   },
   "file_extension": ".py",
   "mimetype": "text/x-python",
   "name": "python",
   "nbconvert_exporter": "python",
   "pygments_lexer": "ipython3",
   "version": "3.9.13"
  }
 },
 "nbformat": 4,
 "nbformat_minor": 4
}
