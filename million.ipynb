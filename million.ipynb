{
 "cells": [
  {
   "cell_type": "code",
   "execution_count": 1,
   "metadata": {
    "tags": []
   },
   "outputs": [],
   "source": [
    "import json\n",
    "import pandas as pd\n",
    "import numpy as np\n",
    "import os\n",
    "import seaborn as sns\n",
    "import re\n",
    "from collections import *\n",
    "from tqdm import tqdm\n",
    "import matplotlib.pyplot as plt\n",
    "import plotly.express as px\n",
    "from scipy.sparse import csr_matrix\n",
    "import time\n",
    "import random\n",
    "import webbrowser"
   ]
  },
  {
   "cell_type": "code",
   "execution_count": 2,
   "metadata": {
    "tags": []
   },
   "outputs": [
    {
     "name": "stdout",
     "output_type": "stream",
     "text": [
      "1000000 playlists\n"
     ]
    }
   ],
   "source": [
    "directory_path = 'data/raw'\n",
    "filenames = sorted(os.listdir(directory_path))\n",
    "print(f\"{len(filenames) * 1000} playlists\")"
   ]
  },
  {
   "cell_type": "code",
   "execution_count": 3,
   "metadata": {
    "tags": []
   },
   "outputs": [],
   "source": [
    "# looking at only the first 30,000 playlists\n",
    "fullpaths = [directory_path + '/' + f for f in filenames][0:2]"
   ]
  },
  {
   "cell_type": "code",
   "execution_count": 4,
   "metadata": {
    "tags": []
   },
   "outputs": [],
   "source": [
    "min_tracks_per_playlist = 5\n",
    "max_tracks_per_playlist = 150\n",
    "min_albums_per_playlist = 2\n",
    "min_artists_per_playlist = 2"
   ]
  },
  {
   "cell_type": "code",
   "execution_count": 5,
   "metadata": {
    "tags": []
   },
   "outputs": [
    {
     "name": "stdout",
     "output_type": "stream",
     "text": [
      "Number of songs processed: 44696\n"
     ]
    }
   ],
   "source": [
    "song_relationships = {}\n",
    "\n",
    "t = 0\n",
    "iteration_times = []\n",
    "\n",
    "for idx, path in enumerate(fullpaths):\n",
    "    start_time = time.time()\n",
    "    if idx % 5 == 0 and idx > 0:\n",
    "        print(f\"processed {idx-5}-{idx} - time taken {t:.2f}\")\n",
    "        iteration_times.append(t)\n",
    "        t = 0\n",
    "    with open(path) as f:\n",
    "        mpd_slice = json.load(f)\n",
    "    playlists_data = mpd_slice['playlists']\n",
    "\n",
    "    for idx, playlist in enumerate(playlists_data):\n",
    "        # r = playlist['num_albums'] / playlist['num_tracks']\n",
    "        # if r < 0.0:\n",
    "        #     continue\n",
    "        songs = set(track['track_uri'] for track in playlist['tracks'])\n",
    "        t_per_p = len(songs)\n",
    "        albums = set(track['album_uri'] for track in playlist['tracks'])\n",
    "        alb_per_p = len(albums)\n",
    "        artists = set(track['artist_uri'] for track in playlist['tracks'])\n",
    "        art_per_p = len(artists)\n",
    "\n",
    "        if (min_tracks_per_playlist >= t_per_p) or \\\n",
    "             (t_per_p >= max_tracks_per_playlist) or \\\n",
    "                (min_albums_per_playlist >= alb_per_p) or \\\n",
    "                    (min_artists_per_playlist >= art_per_p):\n",
    "            continue\n",
    "\n",
    "        for song in songs:\n",
    "            if song not in song_relationships:\n",
    "                song_relationships[song] = {}\n",
    "                \n",
    "            for related_song in songs:\n",
    "                if related_song != song:  # avoid self-relationship\n",
    "                    if related_song in song_relationships[song]:\n",
    "                        song_relationships[song][related_song] += 1\n",
    "                    else:\n",
    "                        song_relationships[song][related_song] = 1\n",
    "    end_time = time.time()\n",
    "    t += end_time - start_time\n",
    "\n",
    "print(f'Number of songs processed: {len(song_relationships)}')\n"
   ]
  },
  {
   "cell_type": "code",
   "execution_count": 6,
   "metadata": {
    "tags": []
   },
   "outputs": [],
   "source": [
    "song_data_map = {}\n",
    "for idx, path in enumerate(fullpaths):\n",
    "    if idx % 5 == 0 and idx > 0:\n",
    "        print(f\"Processed {idx-5}-{idx}\")\n",
    "    with open(path) as f:\n",
    "        mpd_slice = json.load(f)\n",
    "    playlists_data = mpd_slice['playlists']\n",
    "    for playlist in playlists_data:\n",
    "        for track in playlist['tracks']:\n",
    "            song_uri = track['track_uri']\n",
    "            song_name = track['track_name']\n",
    "            album_name = track['album_name']\n",
    "            artist_name = track['artist_name']\n",
    "            if song_uri in song_relationships:\n",
    "                song_data_map[song_uri] = {'song_name': song_name, 'album_name': album_name, 'artist_name': artist_name}\n"
   ]
  },
  {
   "cell_type": "code",
   "execution_count": 7,
   "metadata": {
    "tags": []
   },
   "outputs": [
    {
     "name": "stderr",
     "output_type": "stream",
     "text": [
      "100%|██████████| 44696/44696 [00:00<00:00, 81437.24it/s]\n"
     ]
    }
   ],
   "source": [
    "song_relationships = {key: list(value.items()) for key, value in tqdm(song_relationships.items())}"
   ]
  },
  {
   "cell_type": "code",
   "execution_count": 8,
   "metadata": {
    "tags": []
   },
   "outputs": [
    {
     "name": "stdout",
     "output_type": "stream",
     "text": [
      "Song with the most connections: {'song_name': 'Roses', 'album_name': 'The Chainsmokers- Japan Special Edition', 'artist_name': 'The Chainsmokers'}\n",
      "Number of connections: 3226\n"
     ]
    }
   ],
   "source": [
    "max_connections = 0\n",
    "song_with_most_connections = None\n",
    "\n",
    "for song, connections in song_relationships.items():\n",
    "    num_connections = len(connections)\n",
    "    if num_connections > max_connections:\n",
    "        max_connections = num_connections\n",
    "        song_with_most_connections = song\n",
    "\n",
    "print(\"Song with the most connections:\", song_data_map[song_with_most_connections])\n",
    "print(\"Number of connections:\", max_connections)\n"
   ]
  },
  {
   "cell_type": "code",
   "execution_count": 9,
   "metadata": {
    "tags": []
   },
   "outputs": [
    {
     "name": "stdout",
     "output_type": "stream",
     "text": [
      "Processed 30000 rows.....\n"
     ]
    }
   ],
   "source": [
    "song_indices = {song_uri: idx for idx, song_uri in enumerate(song_relationships.keys())}\n",
    "num_songs = len(song_relationships)\n",
    "\n",
    "row_indices = []\n",
    "col_indices = []\n",
    "data_sum = []\n",
    "data = []\n",
    "\n",
    "for idx, (song_uri, relationships) in enumerate(song_relationships.items()):\n",
    "    row_idx = song_indices[song_uri]\n",
    "    sum_connections = np.sum([x[1] for x in relationships])\n",
    "    for related_song_uri, count in relationships:\n",
    "        col_idx = song_indices[related_song_uri]\n",
    "        row_indices.append(row_idx)\n",
    "        col_indices.append(col_idx)\n",
    "        data_sum.append(count / sum_connections)\n",
    "        data.append(count)\n",
    "\n",
    "    if idx % 30000 == 0 and idx > 0:\n",
    "        print(f\"Processed {idx} rows.....\")\n",
    "\n",
    "transition_matrix = csr_matrix((data_sum, (row_indices, col_indices)), shape=(num_songs, num_songs), dtype=np.float64)\n",
    "cooccurence_matrix = csr_matrix((data, (row_indices, col_indices)), shape=(num_songs, num_songs), dtype=np.float64)\n"
   ]
  },
  {
   "cell_type": "code",
   "execution_count": 10,
   "metadata": {
    "tags": []
   },
   "outputs": [
    {
     "name": "stderr",
     "output_type": "stream",
     "text": [
      "100%|██████████| 30/30 [00:00<00:00, 54.99it/s]\n"
     ]
    },
    {
     "data": {
      "application/vnd.plotly.v1+json": {
       "config": {
        "plotlyServerURL": "https://plot.ly"
       },
       "data": [
        {
         "hovertemplate": "Song=Bad and Boujee (feat. Lil Uzi Vert)<br>Iteration=%{x}<br>Probability=%{y}<extra></extra>",
         "legendgroup": "Bad and Boujee (feat. Lil Uzi Vert)",
         "line": {
          "color": "#636efa",
          "dash": "solid"
         },
         "marker": {
          "symbol": "circle"
         },
         "mode": "lines",
         "name": "Bad and Boujee (feat. Lil Uzi Vert)",
         "orientation": "v",
         "showlegend": true,
         "type": "scatter",
         "x": [
          0,
          1,
          2,
          3,
          4,
          5,
          6,
          7,
          8,
          9,
          10,
          11,
          12,
          13,
          14,
          15,
          16,
          17,
          18,
          19,
          20,
          21,
          22,
          23,
          24,
          25,
          26,
          27,
          28,
          29,
          30
         ],
         "xaxis": "x",
         "y": [
          0.000006753747159782519,
          0.00028902969243795447,
          0.00034317532646645124,
          0.00036930235577334395,
          0.00038490900706335984,
          0.0003951260103542014,
          0.0004021250576624707,
          0.00040704508844981055,
          0.0004105610899509227,
          0.0004131031036308782,
          0.00041495752953750177,
          0.0004163205174343662,
          0.00041732891844319933,
          0.00041807947011136495,
          0.000418641238765394,
          0.00041906393662847504,
          0.0004193835968499106,
          0.0004196265026044456,
          0.0004198119373597982,
          0.00041995412693008114,
          0.00042006362102395734,
          0.00042014828252540543,
          0.0004202140001467697,
          0.00042026520469383,
          0.00042030524505768855,
          0.0004203366634455105,
          0.0004203613978439094,
          0.000420380931661712,
          0.000420396404841774,
          0.0004204086967316908,
          0.00042041848815959487
         ],
         "yaxis": "y"
        },
        {
         "hovertemplate": "Song=Broccoli (feat. Lil Yachty)<br>Iteration=%{x}<br>Probability=%{y}<extra></extra>",
         "legendgroup": "Broccoli (feat. Lil Yachty)",
         "line": {
          "color": "#EF553B",
          "dash": "solid"
         },
         "marker": {
          "symbol": "circle"
         },
         "mode": "lines",
         "name": "Broccoli (feat. Lil Yachty)",
         "orientation": "v",
         "showlegend": true,
         "type": "scatter",
         "x": [
          0,
          1,
          2,
          3,
          4,
          5,
          6,
          7,
          8,
          9,
          10,
          11,
          12,
          13,
          14,
          15,
          16,
          17,
          18,
          19,
          20,
          21,
          22,
          23,
          24,
          25,
          26,
          27,
          28,
          29,
          30
         ],
         "xaxis": "x",
         "y": [
          0.0000020711230754725977,
          0.00029541204347925746,
          0.00036948291600646867,
          0.00040439375210213205,
          0.000423207421208219,
          0.0004344987124200449,
          0.0004417891644855729,
          0.00044672445560321955,
          0.0004501699345931166,
          0.0004526263651303887,
          0.000454404507277474,
          0.0004557068185842284,
          0.0004566697300944234,
          0.00045738742450754594,
          0.000457926097361129,
          0.000458332927931379,
          0.0004586419243912937,
          0.00045887783406161183,
          0.00045905881282110825,
          0.000459198276918353,
          0.0004593062045219236,
          0.00045939006059233264,
          0.0004594554602855898,
          0.00045950664872720183,
          0.00045954685052643,
          0.00045957852607916437,
          0.0004596035606527092,
          0.00045962340465883323,
          0.0004596391782563663,
          0.0004596517497343646,
          0.0004596617945185759
         ],
         "yaxis": "y"
        },
        {
         "hovertemplate": "Song=Never Be Like You<br>Iteration=%{x}<br>Probability=%{y}<extra></extra>",
         "legendgroup": "Never Be Like You",
         "line": {
          "color": "#00cc96",
          "dash": "solid"
         },
         "marker": {
          "symbol": "circle"
         },
         "mode": "lines",
         "name": "Never Be Like You",
         "orientation": "v",
         "showlegend": true,
         "type": "scatter",
         "x": [
          0,
          1,
          2,
          3,
          4,
          5,
          6,
          7,
          8,
          9,
          10,
          11,
          12,
          13,
          14,
          15,
          16,
          17,
          18,
          19,
          20,
          21,
          22,
          23,
          24,
          25,
          26,
          27,
          28,
          29,
          30
         ],
         "xaxis": "x",
         "y": [
          0.000014793188117576252,
          0.0003078028061695915,
          0.00033517062267455225,
          0.0003472352295986208,
          0.00035313834233053953,
          0.00035646221220974407,
          0.0003585362824238077,
          0.00035992593327068895,
          0.00036090433895435227,
          0.0003616177730803009,
          0.0003621511589390667,
          0.00036255712039168355,
          0.0003628700712410219,
          0.0003631135453523577,
          0.0003633042328557605,
          0.00036345431570836167,
          0.00036357288350760713,
          0.0003636668309815609,
          0.00036374145145859127,
          0.0003638008446086664,
          0.000363848205946902,
          0.0003638860379791037,
          0.0003639163074584637,
          0.0003639405643705874,
          0.0003639600330112373,
          0.0003639756822903742,
          0.00036398828033014027,
          0.0003639984370525354,
          0.0003640066375070273,
          0.00036401326801681745,
          0.00036401863673211725
         ],
         "yaxis": "y"
        },
        {
         "hovertemplate": "Song=Congratulations<br>Iteration=%{x}<br>Probability=%{y}<extra></extra>",
         "legendgroup": "Congratulations",
         "line": {
          "color": "#ab63fa",
          "dash": "solid"
         },
         "marker": {
          "symbol": "circle"
         },
         "mode": "lines",
         "name": "Congratulations",
         "orientation": "v",
         "showlegend": true,
         "type": "scatter",
         "x": [
          0,
          1,
          2,
          3,
          4,
          5,
          6,
          7,
          8,
          9,
          10,
          11,
          12,
          13,
          14,
          15,
          16,
          17,
          18,
          19,
          20,
          21,
          22,
          23,
          24,
          25,
          26,
          27,
          28,
          29,
          30
         ],
         "xaxis": "x",
         "y": [
          0.00003841400329373898,
          0.0003130696928491621,
          0.0003656371155974097,
          0.0003925650112401044,
          0.0004082915817066069,
          0.0004182677799951814,
          0.0004249565885158603,
          0.000429606856479378,
          0.00043291829170043173,
          0.0004353153408380834,
          0.0004370711327290437,
          0.000438368913298649,
          0.0004393352323377872,
          0.00044005926934214843,
          0.0004406047902471789,
          0.0004410178918090695,
          0.0004413321878608672,
          0.00044157236686553995,
          0.00044175667526739833,
          0.00044189867382731125,
          0.00044200849250326324,
          0.00044209373450855593,
          0.00044216013221410835,
          0.0004422120259499574,
          0.00044225271546983883,
          0.00044228471926380876,
          0.00044230996679417444,
          0.00044232994164751315,
          0.0004423457885919241,
          0.0004423583939686247,
          0.0004423684462972725
         ],
         "yaxis": "y"
        },
        {
         "hovertemplate": "Song=Riptide<br>Iteration=%{x}<br>Probability=%{y}<extra></extra>",
         "legendgroup": "Riptide",
         "line": {
          "color": "#FFA15A",
          "dash": "solid"
         },
         "marker": {
          "symbol": "circle"
         },
         "mode": "lines",
         "name": "Riptide",
         "orientation": "v",
         "showlegend": true,
         "type": "scatter",
         "x": [
          0,
          1,
          2,
          3,
          4,
          5,
          6,
          7,
          8,
          9,
          10,
          11,
          12,
          13,
          14,
          15,
          16,
          17,
          18,
          19,
          20,
          21,
          22,
          23,
          24,
          25,
          26,
          27,
          28,
          29,
          30
         ],
         "xaxis": "x",
         "y": [
          0.000014678847135459524,
          0.00030969566413130065,
          0.000327559570002597,
          0.00033665503068748716,
          0.0003412811208930789,
          0.0003438037399989076,
          0.00034525202160419813,
          0.0003461239151322443,
          0.00034667492556036294,
          0.00034704104967191315,
          0.00034729655434310595,
          0.00034748293745750526,
          0.000347623993983313,
          0.00034773381542512334,
          0.00034782108852926985,
          0.00034789142598517093,
          0.0003479486417769012,
          0.0003479954574952305,
          0.00034803390029938597,
          0.0003480655327583903,
          0.00034809159020060646,
          0.0003481130664724887,
          0.00034813077031253814,
          0.0003481453644715044,
          0.0003481573942740657,
          0.000348167309379002,
          0.00034817548090173146,
          0.0003481822151932469,
          0.0003481877650894214,
          0.00034819233917398365,
          0.000348196109440735
         ],
         "yaxis": "y"
        },
        {
         "hovertemplate": "Song=Starboy<br>Iteration=%{x}<br>Probability=%{y}<extra></extra>",
         "legendgroup": "Starboy",
         "line": {
          "color": "#19d3f3",
          "dash": "solid"
         },
         "marker": {
          "symbol": "circle"
         },
         "mode": "lines",
         "name": "Starboy",
         "orientation": "v",
         "showlegend": true,
         "type": "scatter",
         "x": [
          0,
          1,
          2,
          3,
          4,
          5,
          6,
          7,
          8,
          9,
          10,
          11,
          12,
          13,
          14,
          15,
          16,
          17,
          18,
          19,
          20,
          21,
          22,
          23,
          24,
          25,
          26,
          27,
          28,
          29,
          30
         ],
         "xaxis": "x",
         "y": [
          0.000012515153371194926,
          0.0003329780246546209,
          0.0003751306579119702,
          0.00039579759097313504,
          0.0004070187780233716,
          0.0004138029835296343,
          0.00041819290466979536,
          0.0004211625518176742,
          0.00042323414844753246,
          0.00042471232614596695,
          0.0004257856926198223,
          0.00042657614196981385,
          0.0004271650311511057,
          0.0004276080495687958,
          0.0004279441072752662,
          0.00042820085969922256,
          0.00042839825013590334,
          0.00042855084019856955,
          0.0004286693766886921,
          0.0004287618651711606,
          0.00042883431785849555,
          0.00042889128229124483,
          0.0004289362199315456,
          0.0004289717803992108,
          0.0004290000021370924,
          0.00042902246056375097,
          0.0004290403783271928,
          0.0004290547079354165,
          0.0004290661940755361,
          0.00042907542088071164,
          0.00042908284796371564
         ],
         "yaxis": "y"
        },
        {
         "hovertemplate": "Song=One Dance<br>Iteration=%{x}<br>Probability=%{y}<extra></extra>",
         "legendgroup": "One Dance",
         "line": {
          "color": "#FF6692",
          "dash": "solid"
         },
         "marker": {
          "symbol": "circle"
         },
         "mode": "lines",
         "name": "One Dance",
         "orientation": "v",
         "showlegend": true,
         "type": "scatter",
         "x": [
          0,
          1,
          2,
          3,
          4,
          5,
          6,
          7,
          8,
          9,
          10,
          11,
          12,
          13,
          14,
          15,
          16,
          17,
          18,
          19,
          20,
          21,
          22,
          23,
          24,
          25,
          26,
          27,
          28,
          29,
          30
         ],
         "xaxis": "x",
         "y": [
          0.000017970939526846512,
          0.0003370124969674069,
          0.0003912459475752452,
          0.00041435188234490214,
          0.0004263475669998353,
          0.0004334852861600379,
          0.00043810512099513833,
          0.00044125661097567826,
          0.00044347883353221506,
          0.00044508008152179207,
          0.00044625130237485686,
          0.0004471175489481466,
          0.0004477638830280572,
          0.00044824968104739807,
          0.0004486171530452792,
          0.0004488967132109038,
          0.00044911050807845953,
          0.0004492748036004978,
          0.0004494016349246883,
          0.0004494999648761104,
          0.0004495765075686594,
          0.00044963631983912074,
          0.0004496832295500359,
          0.0004497201480348449,
          0.00044974929951461606,
          0.0004497723905492978,
          0.00044979073588143916,
          0.00044980535237131513,
          0.0004498170294507019,
          0.00044982638220625234,
          0.0004498338915490883
         ],
         "yaxis": "y"
        },
        {
         "hovertemplate": "Song=Closer<br>Iteration=%{x}<br>Probability=%{y}<extra></extra>",
         "legendgroup": "Closer",
         "line": {
          "color": "#B6E880",
          "dash": "solid"
         },
         "marker": {
          "symbol": "circle"
         },
         "mode": "lines",
         "name": "Closer",
         "orientation": "v",
         "showlegend": true,
         "type": "scatter",
         "x": [
          0,
          1,
          2,
          3,
          4,
          5,
          6,
          7,
          8,
          9,
          10,
          11,
          12,
          13,
          14,
          15,
          16,
          17,
          18,
          19,
          20,
          21,
          22,
          23,
          24,
          25,
          26,
          27,
          28,
          29,
          30
         ],
         "xaxis": "x",
         "y": [
          0.000020750391897733787,
          0.0003532520352951739,
          0.00041912216927889533,
          0.0004465210006114371,
          0.00046026232839087305,
          0.00046809864099239704,
          0.000472953671801924,
          0.0004761379119455457,
          0.00047831380979688695,
          0.0004798470659472965,
          0.0004809533030155769,
          0.00048176631225626914,
          0.00048237259064663713,
          0.00048282998936252056,
          0.00048317831333434134,
          0.00048344560728389054,
          0.0004836520231806658,
          0.0004838122789244107,
          0.0004839372682928621,
          0.00048403514350716753,
          0.00048411206053301754,
          0.00048417270285587745,
          0.0004842206561360864,
          0.00048425868023912766,
          0.00048428890924560793,
          0.0004843130000553502,
          0.00048433224376495237,
          0.00048434764975620754,
          0.00048436000957396,
          0.00048436994570749605,
          0.00048437794901352393
         ],
         "yaxis": "y"
        },
        {
         "hovertemplate": "Song=HUMBLE.<br>Iteration=%{x}<br>Probability=%{y}<extra></extra>",
         "legendgroup": "HUMBLE.",
         "line": {
          "color": "#FF97FF",
          "dash": "solid"
         },
         "marker": {
          "symbol": "circle"
         },
         "mode": "lines",
         "name": "HUMBLE.",
         "orientation": "v",
         "showlegend": true,
         "type": "scatter",
         "x": [
          0,
          1,
          2,
          3,
          4,
          5,
          6,
          7,
          8,
          9,
          10,
          11,
          12,
          13,
          14,
          15,
          16,
          17,
          18,
          19,
          20,
          21,
          22,
          23,
          24,
          25,
          26,
          27,
          28,
          29,
          30
         ],
         "xaxis": "x",
         "y": [
          0.000026401544456586244,
          0.0003755025858158583,
          0.00040107020210186384,
          0.0004196775913091896,
          0.00043224012660774466,
          0.00044100246551878673,
          0.000447224811178371,
          0.00045170451983309,
          0.0004549642958486752,
          0.0004573565203485628,
          0.0004591242851534251,
          0.00046043834128212926,
          0.00046142027985977195,
          0.00046215759021207245,
          0.0004627137361707117,
          0.00046313505764036556,
          0.0004634555810917358,
          0.00046370041631100856,
          0.00046388817835663727,
          0.00046403272755673645,
          0.0004641444272472864,
          0.0004642310576686359,
          0.0004642984831144411,
          0.0004643511410517966,
          0.00046439240218714106,
          0.000464424836577799,
          0.0004644504110662661,
          0.0004644706363191903,
          0.0004644866767458486,
          0.00046449943297271,
          0.000464509603953207
         ],
         "yaxis": "y"
        },
        {
         "hovertemplate": "Song=Roses<br>Iteration=%{x}<br>Probability=%{y}<extra></extra>",
         "legendgroup": "Roses",
         "line": {
          "color": "#FECB52",
          "dash": "solid"
         },
         "marker": {
          "symbol": "circle"
         },
         "mode": "lines",
         "name": "Roses",
         "orientation": "v",
         "showlegend": true,
         "type": "scatter",
         "x": [
          0,
          1,
          2,
          3,
          4,
          5,
          6,
          7,
          8,
          9,
          10,
          11,
          12,
          13,
          14,
          15,
          16,
          17,
          18,
          19,
          20,
          21,
          22,
          23,
          24,
          25,
          26,
          27,
          28,
          29,
          30
         ],
         "xaxis": "x",
         "y": [
          0.000036503553407065697,
          0.00038704113790041366,
          0.0004341039500094696,
          0.00045536116815491186,
          0.0004664835519326178,
          0.00047297415234511285,
          0.0004770446927826437,
          0.00047973148588430014,
          0.00048157378004195063,
          0.00048287430247369973,
          0.0004838132711560057,
          0.0004845032154820014,
          0.00048501725018886227,
          0.0004854044874167764,
          0.00048569883977155916,
          0.0004859242613334891,
          0.0004860979874278693,
          0.00048623260656015775,
          0.00048633742623653884,
          0.00048641939744835123,
          0.0004864837547614974,
          0.0004865344680325983,
          0.0004865745662947349,
          0.00048660637306662566,
          0.000486631679187507,
          0.00048665187092796733,
          0.0004866680256835816,
          0.00048668098392673454,
          0.00048669140361812366,
          0.00048669980156362585,
          0.00048670658499291527
         ],
         "yaxis": "y"
        }
       ],
       "layout": {
        "legend": {
         "title": {
          "text": "Song"
         },
         "tracegroupgap": 0
        },
        "template": {
         "data": {
          "bar": [
           {
            "error_x": {
             "color": "#2a3f5f"
            },
            "error_y": {
             "color": "#2a3f5f"
            },
            "marker": {
             "line": {
              "color": "#E5ECF6",
              "width": 0.5
             },
             "pattern": {
              "fillmode": "overlay",
              "size": 10,
              "solidity": 0.2
             }
            },
            "type": "bar"
           }
          ],
          "barpolar": [
           {
            "marker": {
             "line": {
              "color": "#E5ECF6",
              "width": 0.5
             },
             "pattern": {
              "fillmode": "overlay",
              "size": 10,
              "solidity": 0.2
             }
            },
            "type": "barpolar"
           }
          ],
          "carpet": [
           {
            "aaxis": {
             "endlinecolor": "#2a3f5f",
             "gridcolor": "white",
             "linecolor": "white",
             "minorgridcolor": "white",
             "startlinecolor": "#2a3f5f"
            },
            "baxis": {
             "endlinecolor": "#2a3f5f",
             "gridcolor": "white",
             "linecolor": "white",
             "minorgridcolor": "white",
             "startlinecolor": "#2a3f5f"
            },
            "type": "carpet"
           }
          ],
          "choropleth": [
           {
            "colorbar": {
             "outlinewidth": 0,
             "ticks": ""
            },
            "type": "choropleth"
           }
          ],
          "contour": [
           {
            "colorbar": {
             "outlinewidth": 0,
             "ticks": ""
            },
            "colorscale": [
             [
              0,
              "#0d0887"
             ],
             [
              0.1111111111111111,
              "#46039f"
             ],
             [
              0.2222222222222222,
              "#7201a8"
             ],
             [
              0.3333333333333333,
              "#9c179e"
             ],
             [
              0.4444444444444444,
              "#bd3786"
             ],
             [
              0.5555555555555556,
              "#d8576b"
             ],
             [
              0.6666666666666666,
              "#ed7953"
             ],
             [
              0.7777777777777778,
              "#fb9f3a"
             ],
             [
              0.8888888888888888,
              "#fdca26"
             ],
             [
              1,
              "#f0f921"
             ]
            ],
            "type": "contour"
           }
          ],
          "contourcarpet": [
           {
            "colorbar": {
             "outlinewidth": 0,
             "ticks": ""
            },
            "type": "contourcarpet"
           }
          ],
          "heatmap": [
           {
            "colorbar": {
             "outlinewidth": 0,
             "ticks": ""
            },
            "colorscale": [
             [
              0,
              "#0d0887"
             ],
             [
              0.1111111111111111,
              "#46039f"
             ],
             [
              0.2222222222222222,
              "#7201a8"
             ],
             [
              0.3333333333333333,
              "#9c179e"
             ],
             [
              0.4444444444444444,
              "#bd3786"
             ],
             [
              0.5555555555555556,
              "#d8576b"
             ],
             [
              0.6666666666666666,
              "#ed7953"
             ],
             [
              0.7777777777777778,
              "#fb9f3a"
             ],
             [
              0.8888888888888888,
              "#fdca26"
             ],
             [
              1,
              "#f0f921"
             ]
            ],
            "type": "heatmap"
           }
          ],
          "heatmapgl": [
           {
            "colorbar": {
             "outlinewidth": 0,
             "ticks": ""
            },
            "colorscale": [
             [
              0,
              "#0d0887"
             ],
             [
              0.1111111111111111,
              "#46039f"
             ],
             [
              0.2222222222222222,
              "#7201a8"
             ],
             [
              0.3333333333333333,
              "#9c179e"
             ],
             [
              0.4444444444444444,
              "#bd3786"
             ],
             [
              0.5555555555555556,
              "#d8576b"
             ],
             [
              0.6666666666666666,
              "#ed7953"
             ],
             [
              0.7777777777777778,
              "#fb9f3a"
             ],
             [
              0.8888888888888888,
              "#fdca26"
             ],
             [
              1,
              "#f0f921"
             ]
            ],
            "type": "heatmapgl"
           }
          ],
          "histogram": [
           {
            "marker": {
             "pattern": {
              "fillmode": "overlay",
              "size": 10,
              "solidity": 0.2
             }
            },
            "type": "histogram"
           }
          ],
          "histogram2d": [
           {
            "colorbar": {
             "outlinewidth": 0,
             "ticks": ""
            },
            "colorscale": [
             [
              0,
              "#0d0887"
             ],
             [
              0.1111111111111111,
              "#46039f"
             ],
             [
              0.2222222222222222,
              "#7201a8"
             ],
             [
              0.3333333333333333,
              "#9c179e"
             ],
             [
              0.4444444444444444,
              "#bd3786"
             ],
             [
              0.5555555555555556,
              "#d8576b"
             ],
             [
              0.6666666666666666,
              "#ed7953"
             ],
             [
              0.7777777777777778,
              "#fb9f3a"
             ],
             [
              0.8888888888888888,
              "#fdca26"
             ],
             [
              1,
              "#f0f921"
             ]
            ],
            "type": "histogram2d"
           }
          ],
          "histogram2dcontour": [
           {
            "colorbar": {
             "outlinewidth": 0,
             "ticks": ""
            },
            "colorscale": [
             [
              0,
              "#0d0887"
             ],
             [
              0.1111111111111111,
              "#46039f"
             ],
             [
              0.2222222222222222,
              "#7201a8"
             ],
             [
              0.3333333333333333,
              "#9c179e"
             ],
             [
              0.4444444444444444,
              "#bd3786"
             ],
             [
              0.5555555555555556,
              "#d8576b"
             ],
             [
              0.6666666666666666,
              "#ed7953"
             ],
             [
              0.7777777777777778,
              "#fb9f3a"
             ],
             [
              0.8888888888888888,
              "#fdca26"
             ],
             [
              1,
              "#f0f921"
             ]
            ],
            "type": "histogram2dcontour"
           }
          ],
          "mesh3d": [
           {
            "colorbar": {
             "outlinewidth": 0,
             "ticks": ""
            },
            "type": "mesh3d"
           }
          ],
          "parcoords": [
           {
            "line": {
             "colorbar": {
              "outlinewidth": 0,
              "ticks": ""
             }
            },
            "type": "parcoords"
           }
          ],
          "pie": [
           {
            "automargin": true,
            "type": "pie"
           }
          ],
          "scatter": [
           {
            "fillpattern": {
             "fillmode": "overlay",
             "size": 10,
             "solidity": 0.2
            },
            "type": "scatter"
           }
          ],
          "scatter3d": [
           {
            "line": {
             "colorbar": {
              "outlinewidth": 0,
              "ticks": ""
             }
            },
            "marker": {
             "colorbar": {
              "outlinewidth": 0,
              "ticks": ""
             }
            },
            "type": "scatter3d"
           }
          ],
          "scattercarpet": [
           {
            "marker": {
             "colorbar": {
              "outlinewidth": 0,
              "ticks": ""
             }
            },
            "type": "scattercarpet"
           }
          ],
          "scattergeo": [
           {
            "marker": {
             "colorbar": {
              "outlinewidth": 0,
              "ticks": ""
             }
            },
            "type": "scattergeo"
           }
          ],
          "scattergl": [
           {
            "marker": {
             "colorbar": {
              "outlinewidth": 0,
              "ticks": ""
             }
            },
            "type": "scattergl"
           }
          ],
          "scattermapbox": [
           {
            "marker": {
             "colorbar": {
              "outlinewidth": 0,
              "ticks": ""
             }
            },
            "type": "scattermapbox"
           }
          ],
          "scatterpolar": [
           {
            "marker": {
             "colorbar": {
              "outlinewidth": 0,
              "ticks": ""
             }
            },
            "type": "scatterpolar"
           }
          ],
          "scatterpolargl": [
           {
            "marker": {
             "colorbar": {
              "outlinewidth": 0,
              "ticks": ""
             }
            },
            "type": "scatterpolargl"
           }
          ],
          "scatterternary": [
           {
            "marker": {
             "colorbar": {
              "outlinewidth": 0,
              "ticks": ""
             }
            },
            "type": "scatterternary"
           }
          ],
          "surface": [
           {
            "colorbar": {
             "outlinewidth": 0,
             "ticks": ""
            },
            "colorscale": [
             [
              0,
              "#0d0887"
             ],
             [
              0.1111111111111111,
              "#46039f"
             ],
             [
              0.2222222222222222,
              "#7201a8"
             ],
             [
              0.3333333333333333,
              "#9c179e"
             ],
             [
              0.4444444444444444,
              "#bd3786"
             ],
             [
              0.5555555555555556,
              "#d8576b"
             ],
             [
              0.6666666666666666,
              "#ed7953"
             ],
             [
              0.7777777777777778,
              "#fb9f3a"
             ],
             [
              0.8888888888888888,
              "#fdca26"
             ],
             [
              1,
              "#f0f921"
             ]
            ],
            "type": "surface"
           }
          ],
          "table": [
           {
            "cells": {
             "fill": {
              "color": "#EBF0F8"
             },
             "line": {
              "color": "white"
             }
            },
            "header": {
             "fill": {
              "color": "#C8D4E3"
             },
             "line": {
              "color": "white"
             }
            },
            "type": "table"
           }
          ]
         },
         "layout": {
          "annotationdefaults": {
           "arrowcolor": "#2a3f5f",
           "arrowhead": 0,
           "arrowwidth": 1
          },
          "autotypenumbers": "strict",
          "coloraxis": {
           "colorbar": {
            "outlinewidth": 0,
            "ticks": ""
           }
          },
          "colorscale": {
           "diverging": [
            [
             0,
             "#8e0152"
            ],
            [
             0.1,
             "#c51b7d"
            ],
            [
             0.2,
             "#de77ae"
            ],
            [
             0.3,
             "#f1b6da"
            ],
            [
             0.4,
             "#fde0ef"
            ],
            [
             0.5,
             "#f7f7f7"
            ],
            [
             0.6,
             "#e6f5d0"
            ],
            [
             0.7,
             "#b8e186"
            ],
            [
             0.8,
             "#7fbc41"
            ],
            [
             0.9,
             "#4d9221"
            ],
            [
             1,
             "#276419"
            ]
           ],
           "sequential": [
            [
             0,
             "#0d0887"
            ],
            [
             0.1111111111111111,
             "#46039f"
            ],
            [
             0.2222222222222222,
             "#7201a8"
            ],
            [
             0.3333333333333333,
             "#9c179e"
            ],
            [
             0.4444444444444444,
             "#bd3786"
            ],
            [
             0.5555555555555556,
             "#d8576b"
            ],
            [
             0.6666666666666666,
             "#ed7953"
            ],
            [
             0.7777777777777778,
             "#fb9f3a"
            ],
            [
             0.8888888888888888,
             "#fdca26"
            ],
            [
             1,
             "#f0f921"
            ]
           ],
           "sequentialminus": [
            [
             0,
             "#0d0887"
            ],
            [
             0.1111111111111111,
             "#46039f"
            ],
            [
             0.2222222222222222,
             "#7201a8"
            ],
            [
             0.3333333333333333,
             "#9c179e"
            ],
            [
             0.4444444444444444,
             "#bd3786"
            ],
            [
             0.5555555555555556,
             "#d8576b"
            ],
            [
             0.6666666666666666,
             "#ed7953"
            ],
            [
             0.7777777777777778,
             "#fb9f3a"
            ],
            [
             0.8888888888888888,
             "#fdca26"
            ],
            [
             1,
             "#f0f921"
            ]
           ]
          },
          "colorway": [
           "#636efa",
           "#EF553B",
           "#00cc96",
           "#ab63fa",
           "#FFA15A",
           "#19d3f3",
           "#FF6692",
           "#B6E880",
           "#FF97FF",
           "#FECB52"
          ],
          "font": {
           "color": "#2a3f5f"
          },
          "geo": {
           "bgcolor": "white",
           "lakecolor": "white",
           "landcolor": "#E5ECF6",
           "showlakes": true,
           "showland": true,
           "subunitcolor": "white"
          },
          "hoverlabel": {
           "align": "left"
          },
          "hovermode": "closest",
          "mapbox": {
           "style": "light"
          },
          "paper_bgcolor": "white",
          "plot_bgcolor": "#E5ECF6",
          "polar": {
           "angularaxis": {
            "gridcolor": "white",
            "linecolor": "white",
            "ticks": ""
           },
           "bgcolor": "#E5ECF6",
           "radialaxis": {
            "gridcolor": "white",
            "linecolor": "white",
            "ticks": ""
           }
          },
          "scene": {
           "xaxis": {
            "backgroundcolor": "#E5ECF6",
            "gridcolor": "white",
            "gridwidth": 2,
            "linecolor": "white",
            "showbackground": true,
            "ticks": "",
            "zerolinecolor": "white"
           },
           "yaxis": {
            "backgroundcolor": "#E5ECF6",
            "gridcolor": "white",
            "gridwidth": 2,
            "linecolor": "white",
            "showbackground": true,
            "ticks": "",
            "zerolinecolor": "white"
           },
           "zaxis": {
            "backgroundcolor": "#E5ECF6",
            "gridcolor": "white",
            "gridwidth": 2,
            "linecolor": "white",
            "showbackground": true,
            "ticks": "",
            "zerolinecolor": "white"
           }
          },
          "shapedefaults": {
           "line": {
            "color": "#2a3f5f"
           }
          },
          "ternary": {
           "aaxis": {
            "gridcolor": "white",
            "linecolor": "white",
            "ticks": ""
           },
           "baxis": {
            "gridcolor": "white",
            "linecolor": "white",
            "ticks": ""
           },
           "bgcolor": "#E5ECF6",
           "caxis": {
            "gridcolor": "white",
            "linecolor": "white",
            "ticks": ""
           }
          },
          "title": {
           "x": 0.05
          },
          "xaxis": {
           "automargin": true,
           "gridcolor": "white",
           "linecolor": "white",
           "ticks": "",
           "title": {
            "standoff": 15
           },
           "zerolinecolor": "white",
           "zerolinewidth": 2
          },
          "yaxis": {
           "automargin": true,
           "gridcolor": "white",
           "linecolor": "white",
           "ticks": "",
           "title": {
            "standoff": 15
           },
           "zerolinecolor": "white",
           "zerolinewidth": 2
          }
         }
        },
        "title": {
         "text": "Convergence of Most Popular Songs"
        },
        "xaxis": {
         "anchor": "y",
         "domain": [
          0,
          1
         ],
         "title": {
          "text": "Iteration"
         }
        },
        "yaxis": {
         "anchor": "x",
         "domain": [
          0,
          1
         ],
         "title": {
          "text": "Probability"
         }
        }
       }
      }
     },
     "metadata": {},
     "output_type": "display_data"
    }
   ],
   "source": [
    "n = 10\n",
    "\n",
    "popularity = np.sum(transition_matrix, axis=0)\n",
    "top_n_indices = np.argsort(popularity.A1)[-n:]\n",
    "\n",
    "init = np.random.rand(1, num_songs)\n",
    "init = init / np.sum(init)\n",
    "probs = [init]\n",
    "p = csr_matrix(init)\n",
    "\n",
    "damping = True\n",
    "if damping:\n",
    "    damping_factor = 0.85\n",
    "    random_jump_vector = csr_matrix(np.ones(num_songs)/num_songs)\n",
    "    for i in tqdm(range(30)):\n",
    "        p = damping_factor * np.dot(p, transition_matrix) + (1 - damping_factor) * random_jump_vector\n",
    "        probs.append(p)\n",
    "else:\n",
    "    for i in tqdm(range(30)):\n",
    "        p = np.dot(p, transition_matrix)\n",
    "        probs.append(p)\n",
    "\n",
    "\n",
    "plot_data = []\n",
    "for i in top_n_indices:\n",
    "    song_name = song_data_map[list(song_relationships)[i]][\"song_name\"]\n",
    "    for step_num, step in enumerate(probs):\n",
    "        plot_data.append({'Iteration': step_num, 'Probability': step[0, i], 'Song': song_name})\n",
    "\n",
    "df = pd.DataFrame(plot_data)\n",
    "fig = px.line(df, x='Iteration', y='Probability', color='Song', title='Convergence of Most Popular Songs')\n",
    "fig.show()"
   ]
  },
  {
   "cell_type": "code",
   "execution_count": null,
   "metadata": {},
   "outputs": [],
   "source": [
    "# A = transition_matrix.copy()\n",
    "# def user_playlist_vector(playlist_songs, song_indices, num_songs):\n",
    "#     user_vector = np.zeros(num_songs)\n",
    "#     for song in playlist_songs:\n",
    "#         user_vector[song_indices[song]] = 1/len(playlist_songs)\n",
    "#     return csr_matrix(user_vector)\n",
    "\n",
    "# def get_recommendation_vector(user_vector, transition_matrix, steps, damping = True, damping_factor = 0.0):\n",
    "#     p = user_vector\n",
    "#     if damping:\n",
    "#         random_jump_vector = csr_matrix(np.ones(num_songs) / num_songs)\n",
    "#         for _ in range(steps):\n",
    "#             p = damping_factor * np.dot(p, transition_matrix) + (1 - damping_factor) * user_vector\n",
    "#     else:\n",
    "#         for _ in range(steps):\n",
    "#             p = np.dot(p, transition_matrix)\n",
    "#     return p.toarray()[0]\n",
    "\n",
    "# def top_n_recommendations(recommendation_vector, song_data_map, n):\n",
    "#     top_indices = np.argsort(recommendation_vector)[-n:]\n",
    "#     top_songs = [song_data_map[list(song_relationships)[i]] for i in top_indices]\n",
    "#     return top_songs\n",
    "\n",
    "# def recommend_songs(user_playlist, song_indices, transition_matrix, song_data_map, steps, n=10):\n",
    "#     user_vector = user_playlist_vector(user_playlist, song_indices, len(song_indices))\n",
    "#     recommendation_vector = get_recommendation_vector(user_vector, transition_matrix, steps)\n",
    "#     return top_n_recommendations(recommendation_vector, song_data_map, n)\n",
    "\n",
    "# top_n_songs = [list(song_relationships)[i] for i in top_n_indices]\n",
    "# playlist = random.sample(list(song_relationships), 3) #+ top_n_songs\n",
    "\n",
    "# for i, j in zip(playlist, [song_data_map[x] for x in playlist]):\n",
    "#     print(i, j)\n",
    "\n",
    "# recommended_songs = recommend_songs(playlist, song_indices, A, song_data_map, 10, n=5)\n",
    "# for song in recommended_songs:\n",
    "#     print(f\"Song: {song['song_name']}\\nAlbum: {song['album_name']}\\nArtist: {song['artist_name']}\\n{'-'*40}\")    "
   ]
  },
  {
   "cell_type": "code",
   "execution_count": 11,
   "metadata": {},
   "outputs": [],
   "source": [
    "total_occurrences = np.sum(cooccurence_matrix)\n",
    "p_i = np.sum(cooccurence_matrix, axis=1) / total_occurrences\n",
    "p_i = np.asarray(p_i).flatten()  # Convert matrix to 1D array\n",
    "p_ij = cooccurence_matrix / total_occurrences"
   ]
  },
  {
   "cell_type": "code",
   "execution_count": 12,
   "metadata": {},
   "outputs": [
    {
     "name": "stderr",
     "output_type": "stream",
     "text": [
      "100%|██████████| 44696/44696 [00:10<00:00, 4310.92it/s]\n"
     ]
    }
   ],
   "source": [
    "pmi_data = np.array(p_ij.data)\n",
    "\n",
    "for i in tqdm(range(len(p_ij.indptr) - 1)):\n",
    "    for data_idx in range(p_ij.indptr[i], p_ij.indptr[i + 1]):\n",
    "        j = p_ij.indices[data_idx]\n",
    "        if pmi_data[data_idx] > 0:  # Avoid log(0)\n",
    "            pmi_data[data_idx] = np.log2(pmi_data[data_idx] / (p_i[i] * p_i[j]))\n",
    "        else:\n",
    "            pmi_data[data_idx] = 0  # Or any other default value for log(0)\n",
    "\n",
    "pmi_matrix = csr_matrix((pmi_data, p_ij.indices, p_ij.indptr), shape=cooccurence_matrix.shape)"
   ]
  },
  {
   "cell_type": "code",
   "execution_count": 13,
   "metadata": {},
   "outputs": [],
   "source": [
    "def user_playlist_vector(playlist_songs, song_indices, num_songs):\n",
    "    user_vector = np.zeros(num_songs)\n",
    "    for song in playlist_songs:\n",
    "        user_vector[song_indices[song]] = 1\n",
    "    return csr_matrix(user_vector)\n",
    "\n",
    "def compute_scores(user_vector, pmi_matrix):\n",
    "    scores = user_vector.dot(pmi_matrix)\n",
    "    return scores.toarray()[0]\n",
    "\n",
    "def get_top_recommendations(scores, song_data_map, n=10):\n",
    "    top_indices = np.argsort(scores)[-n:]\n",
    "    top_songs = [song_data_map[list(song_relationships)[i]] for i in top_indices]\n",
    "    return top_songs\n",
    "\n",
    "def recommend_songs_pmi(user_playlist, song_indices, pmi_matrix, song_data_map, n=10):\n",
    "    user_vector = user_playlist_vector(user_playlist, song_indices, num_songs)\n",
    "    user_vector_csr = csr_matrix(user_vector)\n",
    "    scores = compute_scores(user_vector_csr, pmi_matrix)\n",
    "    return get_top_recommendations(scores, song_data_map, n)"
   ]
  },
  {
   "cell_type": "code",
   "execution_count": null,
   "metadata": {},
   "outputs": [],
   "source": [
    "playlist = random.sample(list(song_relationships), 1)\n",
    "\n",
    "for i, j in zip(playlist, [song_data_map[x] for x in playlist]):\n",
    "    print(f\"Song: {j['song_name']}\\nAlbum: {j['album_name']}\\nArtist: {j['artist_name']}\\n{'-'*40}\")\n",
    "\n",
    "print(f'\\n{\"-\"*60}')\n",
    "recommended_songs = recommend_songs_pmi(playlist, song_indices, pmi_matrix, song_data_map, n=8)\n",
    "for song in recommended_songs:\n",
    "    print(f\"Song: {song['song_name']}\\nAlbum: {song['album_name']}\\nArtist: {song['artist_name']}\\n{'-'*40}\")    "
   ]
  },
  {
   "cell_type": "code",
   "execution_count": 16,
   "metadata": {},
   "outputs": [],
   "source": [
    "import tkinter as tk\n",
    "from tkinter import ttk, font\n",
    "import threading, time\n",
    "\n",
    "class SongRecommendationApp(tk.Tk):\n",
    "    def __init__(self, song_data_map):\n",
    "        super().__init__()\n",
    "\n",
    "        default_font = font.nametofont(\"TkDefaultFont\")\n",
    "        default_font.configure(family=\"Courier\")\n",
    "\n",
    "        self.song_data_map = song_data_map\n",
    "        self.uri_map = {self.format_song_display(song_info): uri for uri, song_info in song_data_map.items()}\n",
    "        self.playlist_data = []  # Store song data for sorting\n",
    "\n",
    "        # Filter Frame\n",
    "        self.filter_frame = ttk.Frame(self)\n",
    "        self.filter_frame.pack(pady=10)\n",
    "\n",
    "        # Label and Entry for Song\n",
    "        self.song_label = ttk.Label(self.filter_frame, text=\"Song\")\n",
    "        self.song_label.grid(row=0, column=0, padx=5)\n",
    "        self.song_entry = ttk.Entry(self.filter_frame)\n",
    "        self.song_entry.grid(row=1, column=0, padx=5)\n",
    "\n",
    "        # Label and Entry for Artist\n",
    "        self.artist_label = ttk.Label(self.filter_frame, text=\"Artist\")\n",
    "        self.artist_label.grid(row=0, column=1, padx=5)\n",
    "        self.artist_entry = ttk.Entry(self.filter_frame)\n",
    "        self.artist_entry.grid(row=1, column=1, padx=5)\n",
    "\n",
    "        # Label and Entry for Album\n",
    "        self.album_label = ttk.Label(self.filter_frame, text=\"Album\")\n",
    "        self.album_label.grid(row=0, column=2, padx=5)\n",
    "        self.album_entry = ttk.Entry(self.filter_frame)\n",
    "        self.album_entry.grid(row=1, column=2, padx=5)\n",
    "\n",
    "        # Debounce logic\n",
    "        self.last_time = time.time()\n",
    "\n",
    "        self.search_button = ttk.Button(self.filter_frame, text=\"Search\", command=self.display_search_results)\n",
    "        self.search_button.grid(row=2, columnspan=3, pady=10)\n",
    "\n",
    "        width = 200\n",
    "        # Songs Listbox\n",
    "        self.songs_listbox = tk.Listbox(self, selectmode=tk.SINGLE, width=width, font=(\"Courier\", 10))\n",
    "        self.songs_listbox.pack(pady=10)\n",
    "\n",
    "        # Drag & Drop functionality\n",
    "        self.songs_listbox.bind('<<ListboxSelect>>', self.add_to_playlist)\n",
    "\n",
    "        # Playlist Listbox\n",
    "        self.playlist_listbox = tk.Listbox(self, bg=\"lightblue\", selectmode=tk.SINGLE, width=width, font=(\"Courier\", 10))\n",
    "        self.playlist_listbox.pack(pady=10)\n",
    "\n",
    "        # Number of recommendations\n",
    "        self.n_label = ttk.Label(self, text=\"Number of Recommendations:\")\n",
    "        self.n_label.pack(pady=5)\n",
    "        self.n_entry = ttk.Entry(self)\n",
    "        self.n_entry.pack(pady=5)\n",
    "\n",
    "        # Button to generate recommendations\n",
    "        self.btn_recommend = ttk.Button(self, text=\"Generate Recommendations\", command=self.generate_recommendations)\n",
    "        self.btn_recommend.pack(pady=10)\n",
    "\n",
    "        # Recommendations Listbox\n",
    "        self.recommendations_listbox = tk.Listbox(self, bg=\"lightgreen\", selectmode=tk.SINGLE, width=width, font=(\"Courier\", 10))\n",
    "        self.recommendations_listbox.pack(pady=10)\n",
    "\n",
    "        self.recommendations_listbox.bind('<Double-Button-1>', self.open_in_spotify)\n",
    "\n",
    "        self.btn_refresh = ttk.Button(self, text=\"Refresh\", command=self.refresh)\n",
    "        self.btn_refresh.pack(pady=10)\n",
    "    \n",
    "    def refresh(self):\n",
    "        # Clear all fields\n",
    "        self.song_entry.delete(0, tk.END)\n",
    "        self.artist_entry.delete(0, tk.END)\n",
    "        self.album_entry.delete(0, tk.END)\n",
    "        self.n_entry.delete(0, tk.END)\n",
    "        \n",
    "        # Clear listboxes\n",
    "        self.songs_listbox.delete(0, tk.END)\n",
    "        self.playlist_listbox.delete(0, tk.END)\n",
    "        self.recommendations_listbox.delete(0, tk.END)\n",
    "\n",
    "    def open_in_spotify(self, event):\n",
    "            selected_index = self.recommendations_listbox.curselection()\n",
    "            if selected_index:\n",
    "                selected_song = self.recommendations_listbox.get(selected_index)\n",
    "                song_uri = self.uri_map[selected_song]\n",
    "                uri = song_uri.split(':')[-1]\n",
    "                webbrowser.open(f\"https://open.spotify.com/track/{uri}\")\n",
    "                \n",
    "    def display_search_results(self):\n",
    "        song_query = self.song_entry.get().lower()\n",
    "        artist_query = self.artist_entry.get().lower()\n",
    "        album_query = self.album_entry.get().lower()\n",
    "\n",
    "        self.songs_listbox.delete(0, tk.END)\n",
    "        results = []  # Store the filtered results first\n",
    "\n",
    "        for uri, song_info in self.song_data_map.items():\n",
    "            if song_query in song_info['song_name'].lower() and artist_query in song_info['artist_name'].lower() and album_query in song_info['album_name'].lower():\n",
    "                display_name = self.format_song_display(song_info)\n",
    "                results.append(display_name)\n",
    "\n",
    "        # Sort by album name\n",
    "        results.sort(key=lambda x: self.song_data_map[self.uri_map[x]]['album_name'])\n",
    "\n",
    "        # Display the sorted results\n",
    "        for display_name in results:\n",
    "            self.songs_listbox.insert(tk.END, display_name)\n",
    "\n",
    "        if len(results) > 50:  # If you want to limit the displayed results\n",
    "            self.songs_listbox.delete(51, tk.END)\n",
    "\n",
    "    def format_song_display(self, song_info):\n",
    "        formatted_str = \"{:<65}{:<35}{:<35}\"\n",
    "        f_string = formatted_str.format(song_info['song_name'], song_info['artist_name'], song_info['album_name'])\n",
    "        return f_string\n",
    "\n",
    "    def add_to_playlist(self, event):\n",
    "        selected_index = self.songs_listbox.curselection()\n",
    "        if selected_index:  # This checks if there's any selection at all\n",
    "            selected_song = self.songs_listbox.get(selected_index)\n",
    "            if selected_song not in self.playlist_listbox.get(0, tk.END):  # Prevent duplicates\n",
    "                self.playlist_listbox.insert(tk.END, selected_song)\n",
    "\n",
    "    def generate_recommendations(self):\n",
    "        playlist_display_names = list(self.playlist_listbox.get(0, tk.END))\n",
    "        playlist_uris = [self.uri_map[display_name] for display_name in playlist_display_names]  # Extract URIs\n",
    "\n",
    "        n = int(self.n_entry.get())\n",
    "        recommended_songs = recommend_songs_pmi(playlist_uris, song_indices, pmi_matrix, song_data_map, n)\n",
    "\n",
    "        self.recommendations_listbox.delete(0, tk.END)\n",
    "        for song in recommended_songs:\n",
    "            formatted_song = self.format_song_display(song)\n",
    "            self.recommendations_listbox.insert(tk.END, formatted_song)\n",
    "\n",
    "if __name__ == \"__main__\":\n",
    "    app = SongRecommendationApp(song_data_map)\n",
    "    app.mainloop()\n"
   ]
  },
  {
   "cell_type": "code",
   "execution_count": null,
   "metadata": {},
   "outputs": [],
   "source": [
    "'spotify:track:6QWdIym7hNsClMQGp5N4wE'.split(':')[-1]"
   ]
  }
 ],
 "metadata": {
  "kernelspec": {
   "display_name": "Python 3 (ipykernel)",
   "language": "python",
   "name": "python3"
  },
  "language_info": {
   "codemirror_mode": {
    "name": "ipython",
    "version": 3
   },
   "file_extension": ".py",
   "mimetype": "text/x-python",
   "name": "python",
   "nbconvert_exporter": "python",
   "pygments_lexer": "ipython3",
   "version": "3.9.13"
  }
 },
 "nbformat": 4,
 "nbformat_minor": 4
}
