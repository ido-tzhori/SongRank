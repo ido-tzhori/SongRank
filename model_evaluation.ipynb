{
 "cells": [
  {
   "cell_type": "code",
   "execution_count": 2,
   "metadata": {},
   "outputs": [],
   "source": [
    "import json\n",
    "import numpy as np\n",
    "import os\n",
    "from collections import *\n",
    "from tqdm import tqdm\n",
    "from scipy.sparse import csr_matrix, vstack, csr_array\n",
    "import time\n",
    "import pickle, gzip, joblib, shelve\n",
    "import tkinter as tk\n",
    "from tkinter import ttk, font\n",
    "import time\n",
    "from itertools import islice, combinations\n",
    "from datetime import datetime"
   ]
  },
  {
   "cell_type": "code",
   "execution_count": 23,
   "metadata": {},
   "outputs": [],
   "source": []
  },
  {
   "cell_type": "code",
   "execution_count": null,
   "metadata": {},
   "outputs": [],
   "source": []
  },
  {
   "cell_type": "code",
   "execution_count": 33,
   "metadata": {},
   "outputs": [],
   "source": [
    "directory_path = 'data/raw'"
   ]
  },
  {
   "cell_type": "code",
   "execution_count": 34,
   "metadata": {},
   "outputs": [
    {
     "name": "stdout",
     "output_type": "stream",
     "text": [
      "5000\n"
     ]
    }
   ],
   "source": [
    "fullpaths = [directory_path + '/' + f for f in filenames][995:]\n",
    "print(len(fullpaths) * 1000)\n",
    "save = False"
   ]
  },
  {
   "cell_type": "code",
   "execution_count": 18,
   "metadata": {},
   "outputs": [],
   "source": [
    "with open('/Users/idotzhori/Desktop/Linear Algebra/SongRank2/data_test/challenge_set.json') as f:\n",
    "    mpd_slice = json.load(f)\n",
    "\n",
    "playlists = mpd_slice['playlists']"
   ]
  },
  {
   "cell_type": "code",
   "execution_count": 35,
   "metadata": {},
   "outputs": [
    {
     "data": {
      "text/plain": [
       "['data/raw/mpd.slice.995000-995999.json',\n",
       " 'data/raw/mpd.slice.996000-996999.json',\n",
       " 'data/raw/mpd.slice.997000-997999.json',\n",
       " 'data/raw/mpd.slice.998000-998999.json',\n",
       " 'data/raw/mpd.slice.999000-999999.json']"
      ]
     },
     "execution_count": 35,
     "metadata": {},
     "output_type": "execute_result"
    }
   ],
   "source": [
    "fullpaths"
   ]
  },
  {
   "cell_type": "code",
   "execution_count": 14,
   "metadata": {},
   "outputs": [],
   "source": [
    "# to load cooccurrence_matrix from storage\n",
    "f_time = '01_12_08_2023'\n",
    "save_path = os.path.join('song_data', f'{f_time}_cooccurrence_matrix.gz')\n",
    "\n",
    "with gzip.open(save_path, 'rb') as f:\n",
    "    cooccurrence_matrix = pickle.load(f)"
   ]
  },
  {
   "cell_type": "code",
   "execution_count": 5,
   "metadata": {},
   "outputs": [
    {
     "name": "stdout",
     "output_type": "stream",
     "text": [
      "Finished processing matrix size: (1341936, 1341936)\n"
     ]
    }
   ],
   "source": [
    "folder_path = 'song_data/pmi'\n",
    "saved_chunk_files = [folder_path + '/' + f for f in os.listdir(folder_path) if \"01_12_08_2023\" in f]\n",
    "saved_chunk_files = sorted(saved_chunk_files, key = lambda x: int(x.split('_')[5]))\n",
    "chunks = []\n",
    "for chunk_file in saved_chunk_files:\n",
    "    with gzip.open(chunk_file, 'rb') as f:\n",
    "        chunks.append(pickle.load(f))\n",
    "\n",
    "pmi_matrix = vstack(chunks, format='csr')\n",
    "print(f'Finished processing matrix size: {pmi_matrix.shape}')"
   ]
  },
  {
   "cell_type": "code",
   "execution_count": 6,
   "metadata": {},
   "outputs": [
    {
     "name": "stdout",
     "output_type": "stream",
     "text": [
      "1341936\n"
     ]
    }
   ],
   "source": [
    "f_time = '00_12_08_2023'\n",
    "save_path = os.path.join('song_data', f'{f_time}_song_indices.gz')\n",
    "\n",
    "with gzip.open(save_path, 'rb') as f:\n",
    "    song_indices = pickle.load(f)\n",
    "\n",
    "num_songs = len(song_indices)\n",
    "print(num_songs)"
   ]
  },
  {
   "cell_type": "code",
   "execution_count": 9,
   "metadata": {},
   "outputs": [],
   "source": [
    "def user_playlist_vector(playlist_songs, song_indices, num_songs):\n",
    "    if len(playlist_songs) == 0:\n",
    "        user_vector = np.ones(num_songs)\n",
    "    user_vector = np.zeros(num_songs)\n",
    "    for song in playlist_songs:\n",
    "        user_vector[song_indices[song]] = 1\n",
    "    return csr_array(user_vector)\n",
    "\n",
    "def compute_scores(user_vector, pmi_matrix):\n",
    "    scores = user_vector.dot(pmi_matrix)\n",
    "    return scores.toarray()[0]\n",
    "\n",
    "def get_top_recommendations(scores, song_data_map, n=10):\n",
    "    top_indices = np.argsort(scores)[-n:]\n",
    "    top_songs = [song_data_map[list(song_indices)[i]] for i in top_indices]\n",
    "    return top_songs\n",
    "\n",
    "def recommend_songs_pmi(user_playlist, song_indices, pmi_matrix, song_data_map, n=10):\n",
    "    user_vector = user_playlist_vector(user_playlist, song_indices, num_songs)\n",
    "    scores = compute_scores(user_vector, pmi_matrix)\n",
    "    return get_top_recommendations(scores, song_data_map, n)"
   ]
  }
 ],
 "metadata": {
  "kernelspec": {
   "display_name": "base",
   "language": "python",
   "name": "python3"
  },
  "language_info": {
   "codemirror_mode": {
    "name": "ipython",
    "version": 3
   },
   "file_extension": ".py",
   "mimetype": "text/x-python",
   "name": "python",
   "nbconvert_exporter": "python",
   "pygments_lexer": "ipython3",
   "version": "3.9.13"
  },
  "orig_nbformat": 4
 },
 "nbformat": 4,
 "nbformat_minor": 2
}
